{
 "cells": [
  {
   "cell_type": "code",
   "execution_count": 1,
   "id": "ed889896",
   "metadata": {
    "ExecuteTime": {
     "end_time": "2025-05-26T14:07:38.879135Z",
     "start_time": "2025-05-26T14:07:34.222775Z"
    }
   },
   "outputs": [],
   "source": [
    "import numpy as np\n",
    "import sys\n",
    "import itertools as itertools\n",
    "sys.path.append(\"..\")\n",
    "sys.path.append(\"../..\")\n",
    "\n",
    "import matplotlib.pyplot as plt\n",
    "from python.Heisenberg import XXZ_model, nn_Heisenberg_model, XY_model\n",
    "from python.DMRG import DMRG\n",
    "from python.Zippers import MPO_to_Hamiltonian, contract_MPS\n",
    "from python.Canonical_Form import get_Neumann_entropy\n",
    "from python.Backend import Backend"
   ]
  },
  {
   "cell_type": "code",
   "execution_count": 2,
   "id": "b30d49c2ec5c4f6a",
   "metadata": {
    "ExecuteTime": {
     "end_time": "2025-05-26T14:07:39.121374Z",
     "start_time": "2025-05-26T14:07:39.118549Z"
    }
   },
   "outputs": [],
   "source": [
    "NKeep = 20\n",
    "NSweep = 10\n",
    "Krylov_bases = 5  #* 5 is usually enough\n",
    "Lanczos_cutoff = 1e-2\n",
    "iterative_diag = True\n",
    "two_site = True\n",
    "verbose = True"
   ]
  },
  {
   "cell_type": "markdown",
   "id": "3aad6209bf5da108",
   "metadata": {},
   "source": [
    "# XXZ model"
   ]
  },
  {
   "cell_type": "code",
   "execution_count": 2,
   "id": "47972b31",
   "metadata": {},
   "outputs": [],
   "source": [
    "n_sites = 10\n",
    "\n",
    "ZZ_coupling = 1.0\n",
    "XY_coupling = 1.0\n",
    "magnetic_field = 0.0\n",
    "\n",
    "Hamiltonian = XXZ_model(\n",
    "    n_sites=n_sites, ZZ_coupling=ZZ_coupling,\n",
    "    XY_coupling=XY_coupling, magnetic_field=magnetic_field,\n",
    ")\n",
    "MPO_transposed = [ham.transpose(2, 3, 0, 1) for ham in Hamiltonian]"
   ]
  },
  {
   "cell_type": "code",
   "execution_count": null,
   "id": "ea90f31b",
   "metadata": {},
   "outputs": [],
   "source": [
    "\"\"\"\n",
    "Get exact matrix (exponential barrier)\n",
    "\"\"\"\n",
    "\n",
    "matrix = MPO_to_Hamiltonian(MPO_transposed)\n",
    "eigvals, _ = np.linalg.eigh(matrix)\n",
    "eigvals[:10]"
   ]
  },
  {
   "cell_type": "code",
   "execution_count": null,
   "id": "2e266f20",
   "metadata": {},
   "outputs": [],
   "source": [
    "ground_energies, ground_times, ground_MPS = DMRG(\n",
    "    Hamiltonian = Hamiltonian,\n",
    "    NKeep = NKeep,\n",
    "    NSweep = NSweep,\n",
    "    Krylov_bases = Krylov_bases,\n",
    "    Lanczos_cutoff = Lanczos_cutoff,\n",
    "    iterative_diag = iterative_diag,\n",
    "    two_site = two_site,\n",
    "    verbose = verbose,\n",
    ")\n",
    "\n",
    "eigvals[0]"
   ]
  },
  {
   "cell_type": "code",
   "execution_count": null,
   "id": "532fa62e",
   "metadata": {},
   "outputs": [],
   "source": [
    "excited_energies, excited_times, excited_MPS = DMRG(\n",
    "    Hamiltonian = Hamiltonian,\n",
    "    NKeep = NKeep,\n",
    "    NSweep = NSweep,\n",
    "    Krylov_bases = Krylov_bases,\n",
    "    Lanczos_cutoff = Lanczos_cutoff,\n",
    "    iterative_diag = False,\n",
    "    orthogonal_to_list_of_MPS=[ground_MPS],\n",
    "    two_site = two_site,\n",
    "    verbose = verbose,\n",
    ")\n",
    "\n",
    "eigvals[1]"
   ]
  },
  {
   "cell_type": "markdown",
   "id": "71bb57ca7018d580",
   "metadata": {},
   "source": [
    "# nn Heisenberg"
   ]
  },
  {
   "cell_type": "code",
   "execution_count": 8,
   "id": "e09af602",
   "metadata": {},
   "outputs": [],
   "source": [
    "n_sites = 10\n",
    "\n",
    "J1 = 1.0\n",
    "J2 = 1.0\n",
    "\n",
    "Hamiltonian = nn_Heisenberg_model(\n",
    "    n_sites=n_sites, J1=J1, J2=J2,\n",
    ")\n",
    "MPO_transposed = [ham.transpose(2, 3, 0, 1) for ham in Hamiltonian]"
   ]
  },
  {
   "cell_type": "code",
   "execution_count": null,
   "id": "ffb4e58c",
   "metadata": {},
   "outputs": [],
   "source": [
    "\"\"\"\n",
    "Get exact matrix (exponential barrier)\n",
    "\"\"\"\n",
    "\n",
    "matrix = MPO_to_Hamiltonian(MPO_transposed)\n",
    "eigvals, _ = np.linalg.eigh(matrix)\n",
    "eigvals[:10]"
   ]
  },
  {
   "cell_type": "code",
   "execution_count": 13,
   "id": "79b2f471",
   "metadata": {},
   "outputs": [],
   "source": [
    "NKeep = 20\n",
    "NSweep = 10\n",
    "Krylov_bases = 5 #* 5 is usually enough\n",
    "Lanczos_cutoff = 1e-2\n",
    "iterative_diag = True\n",
    "two_site = True\n",
    "verbose = True"
   ]
  },
  {
   "cell_type": "code",
   "execution_count": null,
   "id": "e3797c46",
   "metadata": {},
   "outputs": [],
   "source": [
    "ground_energies, ground_times, ground_MPS = DMRG(\n",
    "    Hamiltonian = Hamiltonian,\n",
    "    NKeep = NKeep,\n",
    "    NSweep = NSweep,\n",
    "    Krylov_bases = Krylov_bases,\n",
    "    Lanczos_cutoff = Lanczos_cutoff,\n",
    "    iterative_diag = iterative_diag,\n",
    "    two_site = two_site,\n",
    "    verbose = verbose,\n",
    ")\n",
    "\n",
    "eigvals[0]"
   ]
  },
  {
   "cell_type": "code",
   "execution_count": null,
   "id": "e6373984",
   "metadata": {},
   "outputs": [],
   "source": [
    "excited_energies, excited_times, excited_MPS = DMRG(\n",
    "    Hamiltonian = Hamiltonian,\n",
    "    NKeep = NKeep,\n",
    "    NSweep = NSweep,\n",
    "    Krylov_bases = Krylov_bases,\n",
    "    Lanczos_cutoff = Lanczos_cutoff,\n",
    "    iterative_diag = False,\n",
    "    orthogonal_to_list_of_MPS=[ground_MPS],\n",
    "    two_site = two_site,\n",
    "    verbose = verbose,\n",
    ")\n",
    "\n",
    "eigvals[1]"
   ]
  },
  {
   "cell_type": "markdown",
   "id": "868c1db8260264cb",
   "metadata": {},
   "source": [
    "# XY model"
   ]
  },
  {
   "cell_type": "code",
   "execution_count": 3,
   "id": "1bd6df94",
   "metadata": {
    "ExecuteTime": {
     "end_time": "2025-05-26T14:08:06.508505Z",
     "start_time": "2025-05-26T14:08:06.503642Z"
    }
   },
   "outputs": [],
   "source": [
    "bk = Backend('torch')\n",
    "\n",
    "n_sites = 10\n",
    "\n",
    "J = -1.0\n",
    "Gamma = 1.0\n",
    "\n",
    "Hamiltonian = XY_model(\n",
    "    n_sites=n_sites, J=J, Gamma=Gamma, bk=bk\n",
    ")\n",
    "MPO_transposed = [ham.permute(2, 3, 0, 1) for ham in Hamiltonian]"
   ]
  },
  {
   "cell_type": "code",
   "execution_count": 6,
   "id": "04ebbe2e",
   "metadata": {
    "ExecuteTime": {
     "end_time": "2025-05-26T14:08:08.651388Z",
     "start_time": "2025-05-26T14:08:07.645851Z"
    }
   },
   "outputs": [
    {
     "data": {
      "text/plain": [
       "array([-5.28482978, -4.75150298, -4.66134396, -4.53573529, -4.39498427,\n",
       "       -4.25373069, -4.12801717, -4.12188325, -4.00629712, -4.00240849])"
      ]
     },
     "execution_count": 6,
     "metadata": {},
     "output_type": "execute_result"
    }
   ],
   "source": [
    "\"\"\"\n",
    "Get exact matrix (exponential barrier)\n",
    "\"\"\"\n",
    "\n",
    "matrix = MPO_to_Hamiltonian(MPO_transposed)\n",
    "eigvals, _ = np.linalg.eigh(matrix)\n",
    "eigvals[:10]"
   ]
  },
  {
   "cell_type": "code",
   "execution_count": 5,
   "id": "9c0b25c3",
   "metadata": {
    "ExecuteTime": {
     "end_time": "2025-05-26T14:08:10.086880Z",
     "start_time": "2025-05-26T14:08:09.704895Z"
    }
   },
   "outputs": [
    {
     "name": "stdout",
     "output_type": "stream",
     "text": [
      "L=10 | NKeep=20 | NSweep=10 | iterative=True | two_site=True | Krylov_bases=5 | Lanczos_cutoff=0.01\n",
      "iter=0 | energy=5.2770168 | time=0.0s\n",
      "iter=1 | energy=5.2848298 | time=0.0887s\n",
      "iter=2 | energy=5.2848298 | time=0.132s\n",
      "iter=3 | energy=5.2848298 | time=0.18s\n",
      "iter=4 | energy=5.2848298 | time=0.227s\n",
      "iter=5 | energy=5.2848298 | time=0.28s\n",
      "iter=6 | energy=5.2848298 | time=0.336s\n",
      "iter=7 | energy=5.2848298 | time=0.388s\n",
      "iter=8 | energy=5.2848298 | time=0.44s\n",
      "iter=9 | energy=5.2848298 | time=0.494s\n",
      "iter=10 | energy=5.2848298 | time=0.541s\n"
     ]
    },
    {
     "ename": "TypeError",
     "evalue": "len() of unsized object",
     "output_type": "error",
     "traceback": [
      "\u001B[31m---------------------------------------------------------------------------\u001B[39m",
      "\u001B[31mTypeError\u001B[39m                                 Traceback (most recent call last)",
      "\u001B[36mCell\u001B[39m\u001B[36m \u001B[39m\u001B[32mIn[5]\u001B[39m\u001B[32m, line 1\u001B[39m\n\u001B[32m----> \u001B[39m\u001B[32m1\u001B[39m ground_energies, ground_times, ground_MPS = \u001B[43mDMRG\u001B[49m\u001B[43m(\u001B[49m\n\u001B[32m      2\u001B[39m \u001B[43m    \u001B[49m\u001B[43mHamiltonian\u001B[49m\u001B[43m \u001B[49m\u001B[43m=\u001B[49m\u001B[43m \u001B[49m\u001B[43mHamiltonian\u001B[49m\u001B[43m,\u001B[49m\n\u001B[32m      3\u001B[39m \u001B[43m    \u001B[49m\u001B[43mNKeep\u001B[49m\u001B[43m \u001B[49m\u001B[43m=\u001B[49m\u001B[43m \u001B[49m\u001B[43mNKeep\u001B[49m\u001B[43m,\u001B[49m\n\u001B[32m      4\u001B[39m \u001B[43m    \u001B[49m\u001B[43mNSweep\u001B[49m\u001B[43m \u001B[49m\u001B[43m=\u001B[49m\u001B[43m \u001B[49m\u001B[43mNSweep\u001B[49m\u001B[43m,\u001B[49m\n\u001B[32m      5\u001B[39m \u001B[43m    \u001B[49m\u001B[43mKrylov_bases\u001B[49m\u001B[43m \u001B[49m\u001B[43m=\u001B[49m\u001B[43m \u001B[49m\u001B[43mKrylov_bases\u001B[49m\u001B[43m,\u001B[49m\n\u001B[32m      6\u001B[39m \u001B[43m    \u001B[49m\u001B[43mLanczos_cutoff\u001B[49m\u001B[43m \u001B[49m\u001B[43m=\u001B[49m\u001B[43m \u001B[49m\u001B[43mLanczos_cutoff\u001B[49m\u001B[43m,\u001B[49m\n\u001B[32m      7\u001B[39m \u001B[43m    \u001B[49m\u001B[43miterative_diag\u001B[49m\u001B[43m \u001B[49m\u001B[43m=\u001B[49m\u001B[43m \u001B[49m\u001B[43miterative_diag\u001B[49m\u001B[43m,\u001B[49m\n\u001B[32m      8\u001B[39m \u001B[43m    \u001B[49m\u001B[43mtwo_site\u001B[49m\u001B[43m \u001B[49m\u001B[43m=\u001B[49m\u001B[43m \u001B[49m\u001B[43mtwo_site\u001B[49m\u001B[43m,\u001B[49m\n\u001B[32m      9\u001B[39m \u001B[43m    \u001B[49m\u001B[43mverbose\u001B[49m\u001B[43m \u001B[49m\u001B[43m=\u001B[49m\u001B[43m \u001B[49m\u001B[43mverbose\u001B[49m\u001B[43m,\u001B[49m\n\u001B[32m     10\u001B[39m \u001B[43m    \u001B[49m\u001B[43mbk\u001B[49m\u001B[43m=\u001B[49m\u001B[43mbk\u001B[49m\n\u001B[32m     11\u001B[39m \u001B[43m)\u001B[49m\n\u001B[32m     13\u001B[39m eigvals[\u001B[32m0\u001B[39m]\n",
      "\u001B[36mFile \u001B[39m\u001B[32mc:\\Users\\june0\\OneDrive\\Desktop\\김준수\\4-1\\CLP\\FinalProject\\jupyter\\test\\../..\\python\\DMRG.py:159\u001B[39m, in \u001B[36mDMRG\u001B[39m\u001B[34m(Hamiltonian, NKeep, NSweep, iterative_diag, two_site, Krylov_bases, Lanczos_cutoff, orthogonal_to_list_of_MPS, verbose, bk)\u001B[39m\n\u001B[32m    156\u001B[39m      \u001B[38;5;28;01mif\u001B[39;00m verbose:\n\u001B[32m    157\u001B[39m           \u001B[38;5;28mprint\u001B[39m(\u001B[33mf\u001B[39m\u001B[33m\"\u001B[39m\u001B[33miter=\u001B[39m\u001B[38;5;132;01m{\u001B[39;00m\u001B[38;5;28miter\u001B[39m+\u001B[32m1\u001B[39m\u001B[38;5;132;01m}\u001B[39;00m\u001B[33m | energy=\u001B[39m\u001B[38;5;132;01m{\u001B[39;00mround_sig(np.real(energies[-\u001B[32m1\u001B[39m]),\u001B[38;5;250m \u001B[39m\u001B[32m8\u001B[39m)\u001B[38;5;132;01m}\u001B[39;00m\u001B[33m | time=\u001B[39m\u001B[38;5;132;01m{\u001B[39;00mround_sig(times[-\u001B[32m1\u001B[39m],\u001B[38;5;250m \u001B[39m\u001B[32m3\u001B[39m)\u001B[38;5;132;01m}\u001B[39;00m\u001B[33ms\u001B[39m\u001B[33m\"\u001B[39m)\n\u001B[32m--> \u001B[39m\u001B[32m159\u001B[39m total_energies = \u001B[43mbk\u001B[49m\u001B[43m.\u001B[49m\u001B[43marray\u001B[49m\u001B[43m(\u001B[49m\u001B[43mtotal_energies\u001B[49m\u001B[43m)\u001B[49m\n\u001B[32m    160\u001B[39m times = bk.array(times)\n\u001B[32m    162\u001B[39m \u001B[38;5;28;01mreturn\u001B[39;00m bk.to_cpu(total_energies), bk.to_cpu(times), MPS\n",
      "\u001B[36mFile \u001B[39m\u001B[32mc:\\Users\\june0\\OneDrive\\Desktop\\김준수\\4-1\\CLP\\FinalProject\\jupyter\\test\\../..\\python\\Backend.py:44\u001B[39m, in \u001B[36mBackend.array\u001B[39m\u001B[34m(self, x, dtype)\u001B[39m\n\u001B[32m     42\u001B[39m     \u001B[38;5;28;01mif\u001B[39;00m \u001B[38;5;28misinstance\u001B[39m(x, torch.Tensor):\n\u001B[32m     43\u001B[39m         \u001B[38;5;28;01mreturn\u001B[39;00m x.clone().detach().to(\u001B[38;5;28mself\u001B[39m.device, dtype=dtype)\n\u001B[32m---> \u001B[39m\u001B[32m44\u001B[39m     \u001B[38;5;28;01mreturn\u001B[39;00m \u001B[38;5;28;43mself\u001B[39;49m\u001B[43m.\u001B[49m\u001B[43mxp\u001B[49m\u001B[43m.\u001B[49m\u001B[43mtensor\u001B[49m\u001B[43m(\u001B[49m\u001B[43mx\u001B[49m\u001B[43m,\u001B[49m\u001B[43m \u001B[49m\u001B[43mdtype\u001B[49m\u001B[43m=\u001B[49m\u001B[43mdtype\u001B[49m\u001B[43m,\u001B[49m\u001B[43m \u001B[49m\u001B[43mdevice\u001B[49m\u001B[43m=\u001B[49m\u001B[38;5;28;43mself\u001B[39;49m\u001B[43m.\u001B[49m\u001B[43mdevice\u001B[49m\u001B[43m)\u001B[49m\n\u001B[32m     45\u001B[39m \u001B[38;5;28;01mreturn\u001B[39;00m \u001B[38;5;28mself\u001B[39m.xp.array(x, dtype=dtype)\n",
      "\u001B[31mTypeError\u001B[39m: len() of unsized object"
     ]
    }
   ],
   "source": [
    "ground_energies, ground_times, ground_MPS = DMRG(\n",
    "    Hamiltonian = Hamiltonian,\n",
    "    NKeep = NKeep,\n",
    "    NSweep = NSweep,\n",
    "    Krylov_bases = Krylov_bases,\n",
    "    Lanczos_cutoff = Lanczos_cutoff,\n",
    "    iterative_diag = iterative_diag,\n",
    "    two_site = two_site,\n",
    "    verbose = verbose,\n",
    "    bk=bk\n",
    ")\n",
    "\n",
    "eigvals[0]"
   ]
  },
  {
   "cell_type": "code",
   "execution_count": null,
   "id": "35cb97d4",
   "metadata": {},
   "outputs": [],
   "source": []
  },
  {
   "cell_type": "code",
   "execution_count": null,
   "id": "ecad1032",
   "metadata": {
    "ExecuteTime": {
     "end_time": "2025-05-26T14:08:18.119747Z",
     "start_time": "2025-05-26T14:08:17.052177Z"
    }
   },
   "outputs": [],
   "source": [
    "excited_energies, excited_times, excited_MPS = DMRG(\n",
    "    Hamiltonian = Hamiltonian,\n",
    "    NKeep = NKeep,\n",
    "    NSweep = NSweep,\n",
    "    Krylov_bases = Krylov_bases,\n",
    "    Lanczos_cutoff = Lanczos_cutoff,\n",
    "    iterative_diag = False,\n",
    "    orthogonal_to_list_of_MPS=[ground_MPS],\n",
    "    two_site = two_site,\n",
    "    verbose = verbose,\n",
    ")\n",
    "\n",
    "eigvals[1]"
   ]
  },
  {
   "cell_type": "code",
   "execution_count": null,
   "id": "1016f9a8",
   "metadata": {
    "ExecuteTime": {
     "end_time": "2025-05-26T14:08:21.562420Z",
     "start_time": "2025-05-26T14:08:21.528087Z"
    }
   },
   "outputs": [],
   "source": [
    "get_Neumann_entropy(ground_MPS)"
   ]
  },
  {
   "cell_type": "code",
   "execution_count": null,
   "id": "c06f7a59",
   "metadata": {
    "ExecuteTime": {
     "end_time": "2025-05-26T14:08:23.120398Z",
     "start_time": "2025-05-26T14:08:23.085446Z"
    }
   },
   "outputs": [],
   "source": [
    "get_Neumann_entropy(excited_MPS)"
   ]
  },
  {
   "cell_type": "code",
   "execution_count": 16,
   "id": "8a142757",
   "metadata": {
    "ExecuteTime": {
     "end_time": "2025-05-26T14:27:36.982516Z",
     "start_time": "2025-05-26T14:27:36.977275Z"
    }
   },
   "outputs": [],
   "source": [
    "import matplotlib.pyplot as plt\n",
    "from tqdm.auto import tqdm\n",
    "\n",
    "L = 40\n",
    "N_keep = 32\n",
    "sweeps = 10\n",
    "krylov = 5\n",
    "gammas = np.linspace(0, 1, 21)\n",
    "Js     = np.linspace(0.2 ,2, 19)"
   ]
  },
  {
   "cell_type": "code",
   "execution_count": null,
   "id": "11e1fa9bb09a544f",
   "metadata": {
    "ExecuteTime": {
     "end_time": "2025-05-26T16:34:52.515953Z",
     "start_time": "2025-05-26T14:27:37.352245Z"
    }
   },
   "outputs": [],
   "source": [
    "E0  = np.zeros((len(Js), len(gammas)))\n",
    "gap = np.zeros_like(E0)\n",
    "SvN = np.zeros_like(E0)\n",
    "\n",
    "for iJ, J in enumerate(tqdm(Js, desc='J loop')):\n",
    "    for ig, gamma in enumerate(tqdm(gammas, desc='gamma loop', leave=False)):\n",
    "        # --- build MPO ------------\n",
    "        H_MPO = XY_model(n_sites=L, J=J, Gamma=gamma)\n",
    "\n",
    "        # --- ground state ---------------\n",
    "        (E_series, _, GS_MPS) = DMRG(\n",
    "            Hamiltonian = H_MPO,\n",
    "            NKeep       = N_keep,\n",
    "            NSweep      = sweeps,\n",
    "            Krylov_bases= krylov,\n",
    "            iterative_diag = True,\n",
    "            two_site    = True,\n",
    "            verbose     = False,\n",
    "        )\n",
    "        E0[iJ, ig] = E_series[-1].real\n",
    "\n",
    "        # --- first excited state (orthogonalized one further run) ----------\n",
    "        (E1_series, _, _) = DMRG(\n",
    "            Hamiltonian = H_MPO,\n",
    "            NKeep       = N_keep,\n",
    "            NSweep      = sweeps,\n",
    "            Krylov_bases= krylov,\n",
    "            iterative_diag = False,\n",
    "            two_site    = True,\n",
    "            orthogonal_to_list_of_MPS = [GS_MPS],  # ⟂ to ground state\n",
    "            verbose     = False,\n",
    "        )\n",
    "        gap[iJ, ig] = (E1_series[-1] - E0[iJ, ig]).real\n",
    "\n",
    "        # --- mid-chain entanglement entropy -----------\n",
    "        SvN_chain = get_Neumann_entropy(GS_MPS)\n",
    "        SvN[iJ, ig] = SvN_chain[L//2 - 1]           # cut at L/2\n",
    "\n",
    "# --------------------- plotting --------------------------------\n",
    "fig, axes = plt.subplots(1, 3, figsize=(18, 5))\n",
    "\n",
    "titles   = [r'Ground-state energy density $e_0$',\n",
    "            r'Spectral gap $\\Delta$',\n",
    "            r'Mid-chain entropy $S_{\\mathrm{vN}}$']\n",
    "data     = [E0 / L, gap, SvN]\n",
    "\n",
    "for ax, dat, title in zip(axes, data, titles):\n",
    "    im = ax.imshow(dat,\n",
    "                   origin='lower',\n",
    "                   extent=[gammas[0], gammas[-1],\n",
    "                               Js[0],    Js[-1]],\n",
    "                   aspect='auto')\n",
    "    ax.set_title(title, fontsize=13)\n",
    "    ax.set_xlabel(r'$\\gamma$')\n",
    "    ax.set_ylabel(r'$J$')\n",
    "    fig.colorbar(im, ax=ax, fraction=0.046)\n",
    "\n",
    "plt.tight_layout()\n",
    "plt.show()"
   ]
  },
  {
   "cell_type": "code",
   "execution_count": null,
   "id": "e7a3d1daf6d59ebe",
   "metadata": {},
   "outputs": [],
   "source": [
    "import pickle, datetime, pathlib\n",
    "\n",
    "results = {\n",
    "    \"timestamp\"   : datetime.datetime.now().isoformat(),\n",
    "    \"system_size\" : L,\n",
    "    \"bond_dim\"    : N_keep,\n",
    "    \"sweeps\"      : sweeps,\n",
    "    \"gamma_vals\"  : gammas,\n",
    "    \"J_vals\"      : Js,\n",
    "    \"E0\"          : E0,            # ground-state energy\n",
    "    \"gap\"         : gap,           # spectral gap\n",
    "    \"SvN\"         : SvN,           # mid-chain von-Neumann entropy\n",
    "}\n",
    "\n",
    "fname = pathlib.Path(f\"XY_phase_diag_L{L}_chi{N_keep}.pkl\").as_posix()\n",
    "with open(fname, \"wb\") as f:\n",
    "    pickle.dump(results, f)\n",
    "\n",
    "print(f\"✔  Saved to {fname}\")"
   ]
  },
  {
   "metadata": {},
   "cell_type": "code",
   "outputs": [],
   "execution_count": null,
   "source": "",
   "id": "4d112cdf370827ee"
  }
 ],
 "metadata": {
  "kernelspec": {
   "display_name": "Python 3",
   "language": "python",
   "name": "python3"
  },
  "language_info": {
   "codemirror_mode": {
    "name": "ipython",
    "version": 3
   },
   "file_extension": ".py",
   "mimetype": "text/x-python",
   "name": "python",
   "nbconvert_exporter": "python",
   "pygments_lexer": "ipython3",
   "version": "3.12.6"
  }
 },
 "nbformat": 4,
 "nbformat_minor": 5
}
