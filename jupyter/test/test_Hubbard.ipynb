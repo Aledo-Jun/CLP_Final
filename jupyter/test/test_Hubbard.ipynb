{
 "cells": [
  {
   "cell_type": "code",
   "execution_count": 2,
   "id": "c9d95508",
   "metadata": {},
   "outputs": [],
   "source": [
    "import numpy as np\n",
    "import sys\n",
    "import itertools as itertools\n",
    "sys.path.append(\"..\")\n",
    "sys.path.append(\"../..\")\n",
    "\n",
    "import matplotlib.pyplot as plt\n",
    "from python.Hubbard import Hubbard_model_with_filling, Double_occupancy, get_filling\n",
    "from python.DMRG import DMRG\n",
    "from python.Zippers import MPO_to_Hamiltonian, contract_MPS\n",
    "from python.Canonical_Form import get_Neumann_entropy"
   ]
  },
  {
   "cell_type": "code",
   "execution_count": 66,
   "id": "4c5e5657",
   "metadata": {},
   "outputs": [],
   "source": [
    "n_sites = 100\n",
    "\n",
    "hopping_t = 1.0\n",
    "interaction_U = 1\n",
    "chemical_potential = 0\n",
    "\n",
    "Hamiltonian = Hubbard_model_with_filling(\n",
    "    n_sites=n_sites, hopping_t=hopping_t,\n",
    "    interaction_U=interaction_U, chemical_potential=chemical_potential,\n",
    ")\n",
    "\n",
    "MPO_transposed = [ham.transpose(2, 3, 0, 1) for ham in Hamiltonian]"
   ]
  },
  {
   "cell_type": "code",
   "execution_count": null,
   "id": "c7e20565",
   "metadata": {},
   "outputs": [
    {
     "data": {
      "text/plain": [
       "array([-4.72818747, -4.40230342, -4.40230342, -4.10123611, -4.10123611,\n",
       "       -3.93798172, -3.93798172, -3.93798172, -3.72818747, -3.66862141])"
      ]
     },
     "execution_count": 55,
     "metadata": {},
     "output_type": "execute_result"
    }
   ],
   "source": [
    "# \"\"\"\n",
    "# Get exact matrix (exponential barrier)\n",
    "# \"\"\"\n",
    "\n",
    "# matrix = MPO_to_Hamiltonian(MPO_transposed)\n",
    "# eigvals, _ = np.linalg.eigh(matrix)\n",
    "# eigvals[:10]"
   ]
  },
  {
   "cell_type": "code",
   "execution_count": null,
   "id": "7953b255",
   "metadata": {},
   "outputs": [
    {
     "data": {
      "text/plain": [
       "0.0"
      ]
     },
     "execution_count": 56,
     "metadata": {},
     "output_type": "execute_result"
    }
   ],
   "source": [
    "# np.linalg.norm(matrix - matrix.conj().T)"
   ]
  },
  {
   "cell_type": "code",
   "execution_count": 67,
   "id": "21806b33",
   "metadata": {},
   "outputs": [],
   "source": [
    "NKeep = 20\n",
    "NSweep = 10\n",
    "Krylov_bases = 5 #* 5 is usually enough\n",
    "Lanczos_cutoff = 1e-2\n",
    "two_site = True\n",
    "verbose = True"
   ]
  },
  {
   "cell_type": "code",
   "execution_count": 68,
   "id": "62648768",
   "metadata": {},
   "outputs": [
    {
     "name": "stdout",
     "output_type": "stream",
     "text": [
      "L=100 | NKeep=20 | NSweep=10 | iterative=True | two_site=True | Krylov_bases=5 | Lanczos_cutoff=0.01\n",
      "iter=0 | energy=-105.67906 | time=0.0s\n",
      "iter=1 | energy=-106.34163 | time=3.28s\n",
      "iter=2 | energy=-106.40961 | time=5.73s\n",
      "iter=3 | energy=-106.4175 | time=7.82s\n",
      "iter=4 | energy=-106.41915 | time=10.4s\n",
      "iter=5 | energy=-106.41944 | time=12.4s\n",
      "iter=6 | energy=-106.41962 | time=14.9s\n",
      "iter=7 | energy=-106.41974 | time=17.5s\n",
      "iter=8 | energy=-106.41985 | time=19.6s\n",
      "iter=9 | energy=-106.41988 | time=22.0s\n",
      "iter=10 | energy=-106.4199 | time=24.1s\n"
     ]
    }
   ],
   "source": [
    "ground_energies, ground_times, ground_MPS = DMRG(\n",
    "    Hamiltonian = Hamiltonian,\n",
    "    NKeep = NKeep,\n",
    "    NSweep = NSweep,\n",
    "    Krylov_bases = Krylov_bases,\n",
    "    Lanczos_cutoff = Lanczos_cutoff,\n",
    "    iterative_diag = True,\n",
    "    two_site = two_site,\n",
    "    verbose = verbose,\n",
    ")\n",
    "\n",
    "# eigvals[0]"
   ]
  },
  {
   "cell_type": "code",
   "execution_count": 59,
   "id": "ef5d5817",
   "metadata": {},
   "outputs": [
    {
     "name": "stdout",
     "output_type": "stream",
     "text": [
      "L=5 | NKeep=20 | NSweep=10 | iterative=False | two_site=True | Krylov_bases=5 | Lanczos_cutoff=0.01\n",
      "iter=0 | energy=1.4226157 | time=0.0s\n",
      "iter=1 | energy=-4.4018439 | time=0.0676s\n",
      "iter=2 | energy=-4.4022801 | time=0.107s\n",
      "iter=3 | energy=-4.4022801 | time=0.126s\n",
      "iter=4 | energy=-4.4022801 | time=0.149s\n",
      "iter=5 | energy=-4.4022801 | time=0.191s\n",
      "iter=6 | energy=-4.4022801 | time=0.232s\n",
      "iter=7 | energy=-4.4022801 | time=0.264s\n",
      "iter=8 | energy=-4.4022801 | time=0.303s\n",
      "iter=9 | energy=-4.4022801 | time=0.337s\n",
      "iter=10 | energy=-4.4022801 | time=0.372s\n"
     ]
    },
    {
     "data": {
      "text/plain": [
       "-4.402303420391809"
      ]
     },
     "execution_count": 59,
     "metadata": {},
     "output_type": "execute_result"
    }
   ],
   "source": [
    "excited_energies, excited_times, excited_MPS = DMRG(\n",
    "    Hamiltonian = Hamiltonian,\n",
    "    NKeep = NKeep,\n",
    "    NSweep = NSweep,\n",
    "    Krylov_bases = Krylov_bases,\n",
    "    Lanczos_cutoff = Lanczos_cutoff,\n",
    "    iterative_diag = False,\n",
    "    orthogonal_to_list_of_MPS=[ground_MPS],\n",
    "    two_site = two_site,\n",
    "    verbose = verbose,\n",
    ")\n",
    "\n",
    "eigvals[1]"
   ]
  },
  {
   "cell_type": "code",
   "execution_count": 60,
   "id": "22d79308",
   "metadata": {},
   "outputs": [
    {
     "data": {
      "text/plain": [
       "array([1.8589367 , 1.61241571, 1.61802789, 1.85550712])"
      ]
     },
     "execution_count": 60,
     "metadata": {},
     "output_type": "execute_result"
    }
   ],
   "source": [
    "get_Neumann_entropy(ground_MPS)"
   ]
  },
  {
   "cell_type": "code",
   "execution_count": 61,
   "id": "6b0b29c9",
   "metadata": {},
   "outputs": [
    {
     "data": {
      "text/plain": [
       "array([1.75692179, 1.47589815, 1.47684727, 1.756684  ])"
      ]
     },
     "execution_count": 61,
     "metadata": {},
     "output_type": "execute_result"
    }
   ],
   "source": [
    "get_Neumann_entropy(excited_MPS)"
   ]
  },
  {
   "cell_type": "code",
   "execution_count": 62,
   "id": "0182134f",
   "metadata": {},
   "outputs": [
    {
     "data": {
      "text/plain": [
       "4.000000059977084"
      ]
     },
     "execution_count": 62,
     "metadata": {},
     "output_type": "execute_result"
    }
   ],
   "source": [
    "get_filling(ground_MPS).sum()"
   ]
  },
  {
   "cell_type": "code",
   "execution_count": 63,
   "id": "6e5279d9",
   "metadata": {},
   "outputs": [
    {
     "data": {
      "text/plain": [
       "(4.99990776892655-3.469446951953614e-17j)"
      ]
     },
     "execution_count": 63,
     "metadata": {},
     "output_type": "execute_result"
    }
   ],
   "source": [
    "get_filling(excited_MPS).sum()"
   ]
  },
  {
   "cell_type": "code",
   "execution_count": null,
   "id": "9bad3a5e",
   "metadata": {},
   "outputs": [],
   "source": []
  },
  {
   "cell_type": "code",
   "execution_count": null,
   "id": "26bda73c",
   "metadata": {},
   "outputs": [],
   "source": []
  }
 ],
 "metadata": {
  "kernelspec": {
   "display_name": "latest",
   "language": "python",
   "name": "python3"
  },
  "language_info": {
   "codemirror_mode": {
    "name": "ipython",
    "version": 3
   },
   "file_extension": ".py",
   "mimetype": "text/x-python",
   "name": "python",
   "nbconvert_exporter": "python",
   "pygments_lexer": "ipython3",
   "version": "3.11.4"
  }
 },
 "nbformat": 4,
 "nbformat_minor": 5
}
