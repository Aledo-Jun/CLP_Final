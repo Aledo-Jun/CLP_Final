{
 "cells": [
  {
   "cell_type": "code",
   "execution_count": 1,
   "id": "c9d95508",
   "metadata": {},
   "outputs": [],
   "source": [
    "import numpy as np\n",
    "import sys\n",
    "import itertools as itertools\n",
    "sys.path.append(\"..\")\n",
    "sys.path.append(\"../..\")\n",
    "\n",
    "import matplotlib.pyplot as plt\n",
    "from python.Hubbard import Hubbard_model_with_filling, Double_occupancy, get_filling\n",
    "from python.DMRG import DMRG\n",
    "from python.Zippers import MPO_to_Hamiltonian, contract_MPS\n",
    "from python.Canonical_Form import get_Neumann_entropy"
   ]
  },
  {
   "cell_type": "code",
   "execution_count": 56,
   "id": "4c5e5657",
   "metadata": {},
   "outputs": [],
   "source": [
    "n_sites = 5\n",
    "\n",
    "hopping_t = 1.0\n",
    "interaction_U = 2.0\n",
    "chemical_potential = 1.0\n",
    "\n",
    "Hamiltonian = Hubbard_model_with_filling(\n",
    "    n_sites=n_sites, hopping_t=hopping_t,\n",
    "    interaction_U=interaction_U, chemical_potential=chemical_potential,\n",
    ")\n",
    "\n",
    "MPO_transposed = [ham.transpose(2, 3, 0, 1) for ham in Hamiltonian]"
   ]
  },
  {
   "cell_type": "code",
   "execution_count": null,
   "id": "c7e20565",
   "metadata": {},
   "outputs": [
    {
     "data": {
      "text/plain": [
       "array([-8.55415139, -8.55415139, -8.16604011, -8.16604011, -7.77446918,\n",
       "       -7.77446918, -7.52435237, -7.52435237, -7.52435237, -7.52435237])"
      ]
     },
     "execution_count": 57,
     "metadata": {},
     "output_type": "execute_result"
    }
   ],
   "source": [
    "\"\"\"\n",
    "Get exact matrix (exponential barrier)\n",
    "\"\"\"\n",
    "\n",
    "matrix = MPO_to_Hamiltonian(MPO_transposed)\n",
    "eigvals, _ = np.linalg.eigh(matrix)\n",
    "eigvals[:10]"
   ]
  },
  {
   "cell_type": "code",
   "execution_count": 58,
   "id": "7953b255",
   "metadata": {},
   "outputs": [
    {
     "data": {
      "text/plain": [
       "0.0"
      ]
     },
     "execution_count": 58,
     "metadata": {},
     "output_type": "execute_result"
    }
   ],
   "source": [
    "np.linalg.norm(matrix - matrix.conj().T)"
   ]
  },
  {
   "cell_type": "code",
   "execution_count": null,
   "id": "21806b33",
   "metadata": {},
   "outputs": [],
   "source": [
    "NKeep = 20\n",
    "NSweep = 10\n",
    "Krylov_bases = 5 #* 5 is usually enough\n",
    "Lanczos_cutoff = 1e-2\n",
    "iterative_diag = True\n",
    "two_site = True\n",
    "verbose = True"
   ]
  },
  {
   "cell_type": "code",
   "execution_count": 60,
   "id": "62648768",
   "metadata": {},
   "outputs": [
    {
     "name": "stdout",
     "output_type": "stream",
     "text": [
      "L=5 | NKeep=20 | NSweep=10 | iterative=True | two_site=True | Krylov_bases=5 | Lanczos_cutoff=0.01\n",
      "iter=0 | energy=-8.3591856 | time=0.0s\n",
      "iter=1 | energy=-8.5541463 | time=0.0264s\n",
      "iter=2 | energy=-8.5541463 | time=0.0394s\n",
      "iter=3 | energy=-8.5541463 | time=0.0522s\n",
      "iter=4 | energy=-8.5541463 | time=0.0656s\n",
      "iter=5 | energy=-8.5541463 | time=0.0789s\n",
      "iter=6 | energy=-8.5541463 | time=0.0903s\n",
      "iter=7 | energy=-8.5541463 | time=0.1s\n",
      "iter=8 | energy=-8.5541463 | time=0.11s\n",
      "iter=9 | energy=-8.5541463 | time=0.12s\n",
      "iter=10 | energy=-8.5541463 | time=0.13s\n"
     ]
    },
    {
     "data": {
      "text/plain": [
       "-8.5541513932622"
      ]
     },
     "execution_count": 60,
     "metadata": {},
     "output_type": "execute_result"
    }
   ],
   "source": [
    "ground_energies, ground_times, ground_MPS = DMRG(\n",
    "    Hamiltonian = Hamiltonian,\n",
    "    NKeep = NKeep,\n",
    "    NSweep = NSweep,\n",
    "    Krylov_bases = Krylov_bases,\n",
    "    Lanczos_cutoff = Lanczos_cutoff,\n",
    "    iterative_diag = iterative_diag,\n",
    "    two_site = two_site,\n",
    "    verbose = verbose,\n",
    ")\n",
    "\n",
    "eigvals[0]"
   ]
  },
  {
   "cell_type": "code",
   "execution_count": 61,
   "id": "ef5d5817",
   "metadata": {},
   "outputs": [
    {
     "name": "stdout",
     "output_type": "stream",
     "text": [
      "L=5 | NKeep=20 | NSweep=10 | iterative=False | two_site=True | Krylov_bases=5 | Lanczos_cutoff=0.01\n",
      "iter=0 | energy=-2.3729959 | time=0.0s\n",
      "iter=1 | energy=-8.554003 | time=0.123s\n",
      "iter=2 | energy=-8.5541364 | time=0.153s\n",
      "iter=3 | energy=-8.5541364 | time=0.177s\n",
      "iter=4 | energy=-8.5541364 | time=0.204s\n",
      "iter=5 | energy=-8.5541364 | time=0.27s\n",
      "iter=6 | energy=-8.5541364 | time=0.299s\n",
      "iter=7 | energy=-8.5541364 | time=0.32s\n",
      "iter=8 | energy=-8.5541364 | time=0.361s\n",
      "iter=9 | energy=-8.5541364 | time=0.383s\n",
      "iter=10 | energy=-8.5541364 | time=0.442s\n"
     ]
    },
    {
     "data": {
      "text/plain": [
       "-8.554151393262199"
      ]
     },
     "execution_count": 61,
     "metadata": {},
     "output_type": "execute_result"
    }
   ],
   "source": [
    "excited_energies, excited_times, excited_MPS = DMRG(\n",
    "    Hamiltonian = Hamiltonian,\n",
    "    NKeep = NKeep,\n",
    "    NSweep = NSweep,\n",
    "    Krylov_bases = Krylov_bases,\n",
    "    Lanczos_cutoff = Lanczos_cutoff,\n",
    "    iterative_diag = False,\n",
    "    orthogonal_to_list_of_MPS=[ground_MPS],\n",
    "    two_site = two_site,\n",
    "    verbose = verbose,\n",
    ")\n",
    "\n",
    "eigvals[1]"
   ]
  },
  {
   "cell_type": "code",
   "execution_count": 62,
   "id": "22d79308",
   "metadata": {},
   "outputs": [
    {
     "data": {
      "text/plain": [
       "array([1.6311999 , 1.34413932, 1.34677498, 1.62915346])"
      ]
     },
     "execution_count": 62,
     "metadata": {},
     "output_type": "execute_result"
    }
   ],
   "source": [
    "get_Neumann_entropy(ground_MPS)"
   ]
  },
  {
   "cell_type": "code",
   "execution_count": 63,
   "id": "6b0b29c9",
   "metadata": {},
   "outputs": [
    {
     "data": {
      "text/plain": [
       "array([1.63077494, 1.34599653, 1.34515945, 1.63128744])"
      ]
     },
     "execution_count": 63,
     "metadata": {},
     "output_type": "execute_result"
    }
   ],
   "source": [
    "get_Neumann_entropy(excited_MPS)"
   ]
  },
  {
   "cell_type": "code",
   "execution_count": 64,
   "id": "0182134f",
   "metadata": {},
   "outputs": [
    {
     "data": {
      "text/plain": [
       "4.999999998830106"
      ]
     },
     "execution_count": 64,
     "metadata": {},
     "output_type": "execute_result"
    }
   ],
   "source": [
    "get_filling(ground_MPS).sum()"
   ]
  },
  {
   "cell_type": "code",
   "execution_count": 65,
   "id": "6e5279d9",
   "metadata": {},
   "outputs": [
    {
     "data": {
      "text/plain": [
       "(4.999976575593868-2.3592239273284576e-16j)"
      ]
     },
     "execution_count": 65,
     "metadata": {},
     "output_type": "execute_result"
    }
   ],
   "source": [
    "get_filling(excited_MPS).sum()"
   ]
  },
  {
   "cell_type": "code",
   "execution_count": null,
   "id": "9bad3a5e",
   "metadata": {},
   "outputs": [],
   "source": []
  },
  {
   "cell_type": "code",
   "execution_count": null,
   "id": "26bda73c",
   "metadata": {},
   "outputs": [],
   "source": []
  }
 ],
 "metadata": {
  "kernelspec": {
   "display_name": "latest",
   "language": "python",
   "name": "python3"
  },
  "language_info": {
   "codemirror_mode": {
    "name": "ipython",
    "version": 3
   },
   "file_extension": ".py",
   "mimetype": "text/x-python",
   "name": "python",
   "nbconvert_exporter": "python",
   "pygments_lexer": "ipython3",
   "version": "3.11.4"
  }
 },
 "nbformat": 4,
 "nbformat_minor": 5
}
