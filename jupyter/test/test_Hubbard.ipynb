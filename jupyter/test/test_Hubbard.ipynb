{
 "cells": [
  {
   "cell_type": "code",
   "execution_count": 1,
   "id": "c9d95508",
   "metadata": {},
   "outputs": [],
   "source": [
    "import numpy as np\n",
    "import sys\n",
    "import itertools as itertools\n",
    "sys.path.append(\"..\")\n",
    "sys.path.append(\"../..\")\n",
    "\n",
    "import matplotlib.pyplot as plt\n",
    "from python.Hubbard import Hubbard_model_with_filling, Double_occupancy, get_filling\n",
    "from python.DMRG import DMRG\n",
    "from python.Zippers import MPO_to_Hamiltonian, contract_MPS\n",
    "from python.Canonical_Form import get_Neumann_entropy\n",
    "from python.Backend import Backend\n",
    "from python.Decomposition import EIGH"
   ]
  },
  {
   "cell_type": "code",
   "execution_count": 13,
   "id": "4c5e5657",
   "metadata": {},
   "outputs": [],
   "source": [
    "n_sites = 10\n",
    "\n",
    "hopping_t = 1.0\n",
    "interaction_U = 2\n",
    "chemical_potential = 1\n",
    "# bk = Backend(\"numpy\")\n",
    "bk = Backend(\"torch\")\n",
    "\n",
    "Hamiltonian = Hubbard_model_with_filling(\n",
    "    bk=bk, n_sites=n_sites, hopping_t=hopping_t,\n",
    "    interaction_U=interaction_U, chemical_potential=chemical_potential,\n",
    ")\n",
    "\n",
    "MPO_transposed = [bk.transpose(ham, (2, 3, 0, 1)) for ham in Hamiltonian]"
   ]
  },
  {
   "cell_type": "code",
   "execution_count": 14,
   "id": "c7e20565",
   "metadata": {},
   "outputs": [],
   "source": [
    "# \"\"\"\n",
    "# Get exact matrix (exponential barrier)\n",
    "# \"\"\"\n",
    "\n",
    "# matrix = MPO_to_Hamiltonian(MPO_transposed, bk=bk)\n",
    "# eigvals, _ = EIGH(matrix, bk=bk)\n",
    "# eigvals"
   ]
  },
  {
   "cell_type": "code",
   "execution_count": 15,
   "id": "7953b255",
   "metadata": {},
   "outputs": [],
   "source": [
    "# np.linalg.norm(matrix - matrix.conj().T)"
   ]
  },
  {
   "cell_type": "code",
   "execution_count": 16,
   "id": "21806b33",
   "metadata": {},
   "outputs": [],
   "source": [
    "NKeep = 20\n",
    "NSweep = 10\n",
    "Krylov_bases = 5 #* 5 is usually enough\n",
    "Lanczos_cutoff = 1e-2\n",
    "two_site = True\n",
    "verbose = True"
   ]
  },
  {
   "cell_type": "code",
   "execution_count": 17,
   "id": "62648768",
   "metadata": {},
   "outputs": [
    {
     "name": "stdout",
     "output_type": "stream",
     "text": [
      "L=10 | NKeep=20 | NSweep=10 | diag=True | two=True | Krylov=5 | cutoff=0.01\n",
      "Iterative diagonalization complete\n",
      "iter=0 | energy=-17.726795 | time=0js\n",
      "iter=1 | energy=(-17.906319398714942+0j) | time=1.1656220750001012s\n",
      "iter=2 | energy=(-17.90632159151029+0j) | time=2.3055384680001225s\n",
      "iter=3 | energy=(-17.90632160527373+0j) | time=3.4700943859998006s\n"
     ]
    }
   ],
   "source": [
    "ground_energies, ground_times, ground_MPS = DMRG(\n",
    "    bk = bk,\n",
    "    Hamiltonian = Hamiltonian,\n",
    "    NKeep = NKeep,\n",
    "    NSweep = NSweep,\n",
    "    Krylov_bases = Krylov_bases,\n",
    "    Lanczos_cutoff = Lanczos_cutoff,\n",
    "    iterative_diag = True,\n",
    "    two_site = two_site,\n",
    "    verbose = verbose,\n",
    ")\n",
    "\n",
    "# eigvals[0]"
   ]
  },
  {
   "cell_type": "code",
   "execution_count": 18,
   "id": "ef5d5817",
   "metadata": {},
   "outputs": [
    {
     "name": "stdout",
     "output_type": "stream",
     "text": [
      "L=10 | NKeep=20 | NSweep=10 | diag=False | two=True | Krylov=5 | cutoff=0.01\n",
      "Random initialization complete\n",
      "iter=0 | energy=-5.0347099 | time=0js\n",
      "iter=1 | energy=(-17.516613549234755+0j) | time=1.7298197570007687s\n",
      "iter=2 | energy=(-17.525923158119756+0j) | time=3.3220735770009924s\n",
      "iter=3 | energy=(-17.527650289662095+0j) | time=4.942420479001157s\n",
      "iter=4 | energy=(-17.527918502611264+0j) | time=6.535564974001318s\n",
      "iter=5 | energy=(-17.5280790845565+0j) | time=8.137189887002023s\n",
      "iter=6 | energy=(-17.528312962742152+0j) | time=9.751689259001978s\n",
      "iter=7 | energy=(-17.52860867400795+0j) | time=11.356875524002135s\n",
      "iter=8 | energy=(-17.5286206232876+0j) | time=13.01602300900231s\n",
      "iter=9 | energy=(-17.528625541971934+0j) | time=14.617983292002464s\n",
      "iter=10 | energy=(-17.528627886880304+0j) | time=16.06172419500308s\n"
     ]
    }
   ],
   "source": [
    "excited_energies, excited_times, excited_MPS = DMRG(\n",
    "    bk = bk,\n",
    "    Hamiltonian = Hamiltonian,\n",
    "    NKeep = NKeep,\n",
    "    NSweep = NSweep,\n",
    "    Krylov_bases = Krylov_bases,\n",
    "    Lanczos_cutoff = Lanczos_cutoff,\n",
    "    iterative_diag = False,\n",
    "    orthogonal_to_list_of_MPS = [ground_MPS],\n",
    "    two_site = two_site,\n",
    "    verbose = verbose,\n",
    ")\n",
    "\n",
    "# eigvals[1]"
   ]
  },
  {
   "cell_type": "code",
   "execution_count": 19,
   "id": "22d79308",
   "metadata": {},
   "outputs": [
    {
     "data": {
      "text/plain": [
       "tensor([1.8550+0.j, 1.2903+0.j, 1.9581+0.j, 1.5058+0.j, 1.9874+0.j, 1.5060+0.j, 1.9607+0.j,\n",
       "        1.2917+0.j, 1.8551+0.j], device='cuda:0')"
      ]
     },
     "execution_count": 19,
     "metadata": {},
     "output_type": "execute_result"
    }
   ],
   "source": [
    "get_Neumann_entropy(ground_MPS, bk = bk,)"
   ]
  },
  {
   "cell_type": "code",
   "execution_count": 20,
   "id": "6b0b29c9",
   "metadata": {},
   "outputs": [
    {
     "data": {
      "text/plain": [
       "tensor([1.5785+0.j, 1.5160+0.j, 1.4522+0.j, 1.9189+0.j, 1.4030+0.j, 1.9193+0.j, 1.4524+0.j,\n",
       "        1.5165+0.j, 1.5789+0.j], device='cuda:0')"
      ]
     },
     "execution_count": 20,
     "metadata": {},
     "output_type": "execute_result"
    }
   ],
   "source": [
    "get_Neumann_entropy(excited_MPS, bk = bk,)"
   ]
  },
  {
   "cell_type": "code",
   "execution_count": 21,
   "id": "0182134f",
   "metadata": {},
   "outputs": [
    {
     "data": {
      "text/plain": [
       "tensor(10.0000+0.j, device='cuda:0')"
      ]
     },
     "execution_count": 21,
     "metadata": {},
     "output_type": "execute_result"
    }
   ],
   "source": [
    "get_filling(ground_MPS, bk = bk,).sum()"
   ]
  },
  {
   "cell_type": "code",
   "execution_count": 22,
   "id": "6e5279d9",
   "metadata": {},
   "outputs": [
    {
     "data": {
      "text/plain": [
       "tensor(10.0000-2.4376e-16j, device='cuda:0')"
      ]
     },
     "execution_count": 22,
     "metadata": {},
     "output_type": "execute_result"
    }
   ],
   "source": [
    "get_filling(excited_MPS, bk = bk,).sum()"
   ]
  },
  {
   "cell_type": "code",
   "execution_count": null,
   "id": "9bad3a5e",
   "metadata": {},
   "outputs": [],
   "source": []
  },
  {
   "cell_type": "code",
   "execution_count": null,
   "id": "26bda73c",
   "metadata": {},
   "outputs": [],
   "source": []
  }
 ],
 "metadata": {
  "kernelspec": {
   "display_name": "latest",
   "language": "python",
   "name": "python3"
  },
  "language_info": {
   "codemirror_mode": {
    "name": "ipython",
    "version": 3
   },
   "file_extension": ".py",
   "mimetype": "text/x-python",
   "name": "python",
   "nbconvert_exporter": "python",
   "pygments_lexer": "ipython3",
   "version": "3.11.4"
  }
 },
 "nbformat": 4,
 "nbformat_minor": 5
}
