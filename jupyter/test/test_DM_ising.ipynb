{
 "cells": [
  {
   "cell_type": "code",
   "execution_count": 1,
   "id": "df5c65ea",
   "metadata": {},
   "outputs": [],
   "source": [
    "import numpy as np\n",
    "import sys\n",
    "import itertools as itertools\n",
    "sys.path.append(\"..\")\n",
    "sys.path.append(\"../..\")\n",
    "\n",
    "import matplotlib.pyplot as plt\n",
    "from python.Dzyalonshinskii_Moriya_Ising import DM_Ising\n",
    "from python.DMRG import DMRG\n",
    "from python.Zippers import MPO_to_Hamiltonian, contract_MPS\n",
    "from python.Canonical_Form import get_Neumann_entropy\n",
    "from python.Backend import Backend\n",
    "from python.Decomposition import EIGH"
   ]
  },
  {
   "cell_type": "code",
   "execution_count": 32,
   "id": "badcaf14",
   "metadata": {},
   "outputs": [],
   "source": [
    "n_sites = 10\n",
    "\n",
    "J = 1.0\n",
    "D = 2.0\n",
    "magnetic_field = 0.0\n",
    "\n",
    "bk = Backend(\"numpy\")\n",
    "# bk = Backend(\"torch\")\n",
    "\n",
    "Hamiltonian = DM_Ising(\n",
    "    n_sites=n_sites, J=J, D=D, magnetic_field=magnetic_field, bk=bk\n",
    ")\n",
    "\n",
    "MPO_transposed = [bk.transpose(ham, (2, 3, 0, 1)) for ham in Hamiltonian]"
   ]
  },
  {
   "cell_type": "code",
   "execution_count": 33,
   "id": "5e9c7d4e",
   "metadata": {},
   "outputs": [
    {
     "data": {
      "text/plain": [
       "array([-7.18050141, -6.71853006, -6.71853006, ...,  4.96634056,\n",
       "        4.96634056,  5.09340351])"
      ]
     },
     "execution_count": 33,
     "metadata": {},
     "output_type": "execute_result"
    }
   ],
   "source": [
    "\"\"\"\n",
    "Get exact matrix (exponential barrier)\n",
    "\"\"\"\n",
    "\n",
    "matrix = MPO_to_Hamiltonian(MPO_transposed, bk=bk)\n",
    "eigvals, _ = EIGH(matrix, bk=bk)\n",
    "eigvals"
   ]
  },
  {
   "cell_type": "code",
   "execution_count": 34,
   "id": "dae75c2a",
   "metadata": {},
   "outputs": [
    {
     "data": {
      "text/plain": [
       "0.0"
      ]
     },
     "execution_count": 34,
     "metadata": {},
     "output_type": "execute_result"
    }
   ],
   "source": [
    "bk.norm(matrix - matrix.conj().T)"
   ]
  },
  {
   "cell_type": "code",
   "execution_count": 35,
   "id": "3e9089f4",
   "metadata": {},
   "outputs": [],
   "source": [
    "NKeep = 20\n",
    "NSweep = 10\n",
    "Krylov_bases = 5 #* 5 is usually enough\n",
    "Lanczos_cutoff = 1e-2\n",
    "iterative_diag = True\n",
    "two_site = True\n",
    "verbose = True"
   ]
  },
  {
   "cell_type": "code",
   "execution_count": 36,
   "id": "688ee915",
   "metadata": {},
   "outputs": [
    {
     "name": "stdout",
     "output_type": "stream",
     "text": [
      "L=10 | NKeep=20 | NSweep=10 | diag=True | two=True | Krylov=5 | cutoff=0.01\n",
      "Iterative diagonalization complete\n",
      "iter=0 | energy=-7.1778373 | time=0js\n",
      "iter=1 | energy=(-7.180501091285148+0j) | time=0.21487506999983452s\n",
      "iter=2 | energy=(-7.18050109128515+0j) | time=0.3400266589997045s\n"
     ]
    },
    {
     "data": {
      "text/plain": [
       "-7.180501405973142"
      ]
     },
     "execution_count": 36,
     "metadata": {},
     "output_type": "execute_result"
    }
   ],
   "source": [
    "ground_energies, ground_times, ground_MPS = DMRG(\n",
    "    bk = bk,\n",
    "    Hamiltonian = Hamiltonian,\n",
    "    NKeep = NKeep,\n",
    "    NSweep = NSweep,\n",
    "    Krylov_bases = Krylov_bases,\n",
    "    Lanczos_cutoff = Lanczos_cutoff,\n",
    "    iterative_diag = iterative_diag,\n",
    "    two_site = two_site,\n",
    "    verbose = verbose,\n",
    ")\n",
    "\n",
    "eigvals[0]"
   ]
  },
  {
   "cell_type": "code",
   "execution_count": 37,
   "id": "529fd998",
   "metadata": {},
   "outputs": [
    {
     "name": "stdout",
     "output_type": "stream",
     "text": [
      "L=10 | NKeep=20 | NSweep=10 | diag=False | two=True | Krylov=5 | cutoff=0.01\n",
      "Random initialization complete\n",
      "iter=0 | energy=-0.064854027 | time=0js\n",
      "iter=1 | energy=(-6.7184792750981135+0j) | time=0.3177847280003334s\n",
      "iter=2 | energy=(-6.718516606075855+0j) | time=0.564999849000742s\n",
      "iter=3 | energy=(-6.718516606075852+0j) | time=0.9215987240013419s\n"
     ]
    },
    {
     "data": {
      "text/plain": [
       "-6.718530060700819"
      ]
     },
     "execution_count": 37,
     "metadata": {},
     "output_type": "execute_result"
    }
   ],
   "source": [
    "excited_energies, excited_times, excited_MPS = DMRG(\n",
    "    bk = bk,\n",
    "    Hamiltonian = Hamiltonian,\n",
    "    NKeep = NKeep,\n",
    "    NSweep = NSweep,\n",
    "    Krylov_bases = Krylov_bases,\n",
    "    Lanczos_cutoff = Lanczos_cutoff,\n",
    "    iterative_diag = False,\n",
    "    orthogonal_to_list_of_MPS=[ground_MPS],\n",
    "    two_site = two_site,\n",
    "    verbose = verbose,\n",
    ")\n",
    "\n",
    "eigvals[1]"
   ]
  },
  {
   "cell_type": "code",
   "execution_count": 38,
   "id": "2db5fcab",
   "metadata": {},
   "outputs": [
    {
     "data": {
      "text/plain": [
       "array([1.        +0.j, 0.62279999+0.j, 1.05247991+0.j, 0.75064355+0.j,\n",
       "       1.07100508+0.j, 0.75074456+0.j, 1.05249544+0.j, 0.6228611 +0.j,\n",
       "       1.        +0.j])"
      ]
     },
     "execution_count": 38,
     "metadata": {},
     "output_type": "execute_result"
    }
   ],
   "source": [
    "get_Neumann_entropy(ground_MPS, bk=bk)"
   ]
  },
  {
   "cell_type": "code",
   "execution_count": 39,
   "id": "1f9eeec3",
   "metadata": {},
   "outputs": [
    {
     "data": {
      "text/plain": [
       "array([0.90598768+0.j, 0.90134731+0.j, 0.95163355+0.j, 1.26081054+0.j,\n",
       "       0.98804787+0.j, 1.26089317+0.j, 0.9517061 +0.j, 0.90185461+0.j,\n",
       "       0.90587701+0.j])"
      ]
     },
     "execution_count": 39,
     "metadata": {},
     "output_type": "execute_result"
    }
   ],
   "source": [
    "get_Neumann_entropy(excited_MPS, bk=bk)"
   ]
  },
  {
   "cell_type": "code",
   "execution_count": null,
   "id": "e93c7096",
   "metadata": {},
   "outputs": [],
   "source": []
  }
 ],
 "metadata": {
  "kernelspec": {
   "display_name": "latest",
   "language": "python",
   "name": "python3"
  },
  "language_info": {
   "codemirror_mode": {
    "name": "ipython",
    "version": 3
   },
   "file_extension": ".py",
   "mimetype": "text/x-python",
   "name": "python",
   "nbconvert_exporter": "python",
   "pygments_lexer": "ipython3",
   "version": "3.11.4"
  }
 },
 "nbformat": 4,
 "nbformat_minor": 5
}
