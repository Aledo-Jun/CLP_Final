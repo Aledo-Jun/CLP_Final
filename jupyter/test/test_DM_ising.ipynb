{
 "cells": [
  {
   "cell_type": "code",
   "execution_count": 3,
   "id": "df5c65ea",
   "metadata": {},
   "outputs": [],
   "source": [
    "import numpy as np\n",
    "import sys\n",
    "import itertools as itertools\n",
    "sys.path.append(\"..\")\n",
    "sys.path.append(\"../..\")\n",
    "\n",
    "import matplotlib.pyplot as plt\n",
    "from python.Dzyalonshinskii_Moriya_Ising import DM_Ising\n",
    "from python.DMRG import DMRG\n",
    "from python.Zippers import MPO_to_Hamiltonian, contract_MPS\n",
    "from python.Canonical_Form import get_Neumann_entropy"
   ]
  },
  {
   "cell_type": "code",
   "execution_count": 3,
   "id": "badcaf14",
   "metadata": {},
   "outputs": [],
   "source": [
    "n_sites = 5\n",
    "\n",
    "J = 1.0\n",
    "D = 2.0\n",
    "magnetic_field = 0.0\n",
    "\n",
    "Hamiltonian = DM_Ising(\n",
    "    n_sites=n_sites, J=J, D=D, magnetic_field=magnetic_field\n",
    ")\n",
    "\n",
    "MPO_transposed = [ham.transpose(2, 3, 0, 1) for ham in Hamiltonian]"
   ]
  },
  {
   "cell_type": "code",
   "execution_count": null,
   "id": "5e9c7d4e",
   "metadata": {},
   "outputs": [
    {
     "data": {
      "text/plain": [
       "array([-3.25274574, -3.25274574, -2.03628705, -2.03628705, -1.66401564,\n",
       "       -1.66401564, -1.12851004, -1.12851004, -1.07886104, -1.07886104])"
      ]
     },
     "execution_count": 4,
     "metadata": {},
     "output_type": "execute_result"
    }
   ],
   "source": [
    "\"\"\"\n",
    "Get exact matrix (exponential barrier)\n",
    "\"\"\"\n",
    "\n",
    "matrix = MPO_to_Hamiltonian(MPO_transposed)\n",
    "eigvals, _ = np.linalg.eigh(matrix)\n",
    "eigvals[:10]"
   ]
  },
  {
   "cell_type": "code",
   "execution_count": 5,
   "id": "dae75c2a",
   "metadata": {},
   "outputs": [
    {
     "data": {
      "text/plain": [
       "0.0"
      ]
     },
     "execution_count": 5,
     "metadata": {},
     "output_type": "execute_result"
    }
   ],
   "source": [
    "np.linalg.norm(matrix - matrix.conj().T)"
   ]
  },
  {
   "cell_type": "code",
   "execution_count": 6,
   "id": "3e9089f4",
   "metadata": {},
   "outputs": [],
   "source": [
    "NKeep = 20\n",
    "NSweep = 10\n",
    "Krylov_bases = 5 #* 5 is usually enough\n",
    "Lanczos_cutoff = 1e-2\n",
    "iterative_diag = True\n",
    "two_site = True\n",
    "verbose = True"
   ]
  },
  {
   "cell_type": "code",
   "execution_count": 7,
   "id": "688ee915",
   "metadata": {},
   "outputs": [
    {
     "name": "stdout",
     "output_type": "stream",
     "text": [
      "L=5 | NKeep=20 | NSweep=10 | iterative=True | two_site=True | Krylov_bases=5 | Lanczos_cutoff=0.01\n",
      "iter=0 | energy=-3.1143643 | time=0.0s\n",
      "iter=1 | energy=-3.2527455 | time=0.0154s\n",
      "iter=2 | energy=-3.2527455 | time=0.0279s\n",
      "iter=3 | energy=-3.2527455 | time=0.0397s\n",
      "iter=4 | energy=-3.2527455 | time=0.0487s\n",
      "iter=5 | energy=-3.2527455 | time=0.0582s\n",
      "iter=6 | energy=-3.2527455 | time=0.0673s\n",
      "iter=7 | energy=-3.2527455 | time=0.0765s\n",
      "iter=8 | energy=-3.2527455 | time=0.087s\n",
      "iter=9 | energy=-3.2527455 | time=0.0962s\n",
      "iter=10 | energy=-3.2527455 | time=0.107s\n"
     ]
    },
    {
     "data": {
      "text/plain": [
       "-3.2527457389229784"
      ]
     },
     "execution_count": 7,
     "metadata": {},
     "output_type": "execute_result"
    }
   ],
   "source": [
    "ground_energies, ground_times, ground_MPS = DMRG(\n",
    "    Hamiltonian = Hamiltonian,\n",
    "    NKeep = NKeep,\n",
    "    NSweep = NSweep,\n",
    "    Krylov_bases = Krylov_bases,\n",
    "    Lanczos_cutoff = Lanczos_cutoff,\n",
    "    iterative_diag = iterative_diag,\n",
    "    two_site = two_site,\n",
    "    verbose = verbose,\n",
    ")\n",
    "\n",
    "eigvals[0]"
   ]
  },
  {
   "cell_type": "code",
   "execution_count": 8,
   "id": "529fd998",
   "metadata": {},
   "outputs": [
    {
     "name": "stdout",
     "output_type": "stream",
     "text": [
      "L=5 | NKeep=20 | NSweep=10 | iterative=False | two_site=True | Krylov_bases=5 | Lanczos_cutoff=0.01\n",
      "iter=0 | energy=0.11294155 | time=0.0s\n",
      "iter=1 | energy=-3.2527193 | time=0.0197s\n",
      "iter=2 | energy=-3.2527193 | time=0.032s\n",
      "iter=3 | energy=-3.2527193 | time=0.0446s\n",
      "iter=4 | energy=-3.2527193 | time=0.0568s\n",
      "iter=5 | energy=-3.2527193 | time=0.0694s\n",
      "iter=6 | energy=-3.2527193 | time=0.0812s\n",
      "iter=7 | energy=-3.2527193 | time=0.0933s\n",
      "iter=8 | energy=-3.2527193 | time=0.105s\n",
      "iter=9 | energy=-3.2527193 | time=0.118s\n",
      "iter=10 | energy=-3.2527193 | time=0.131s\n"
     ]
    },
    {
     "data": {
      "text/plain": [
       "-3.252745738922972"
      ]
     },
     "execution_count": 8,
     "metadata": {},
     "output_type": "execute_result"
    }
   ],
   "source": [
    "excited_energies, excited_times, excited_MPS = DMRG(\n",
    "    Hamiltonian = Hamiltonian,\n",
    "    NKeep = NKeep,\n",
    "    NSweep = NSweep,\n",
    "    Krylov_bases = Krylov_bases,\n",
    "    Lanczos_cutoff = Lanczos_cutoff,\n",
    "    iterative_diag = False,\n",
    "    orthogonal_to_list_of_MPS=[ground_MPS],\n",
    "    two_site = two_site,\n",
    "    verbose = verbose,\n",
    ")\n",
    "\n",
    "eigvals[1]"
   ]
  },
  {
   "cell_type": "code",
   "execution_count": 9,
   "id": "2db5fcab",
   "metadata": {},
   "outputs": [
    {
     "data": {
      "text/plain": [
       "array([0.86963479, 0.68087358, 0.68053553, 0.86945157])"
      ]
     },
     "execution_count": 9,
     "metadata": {},
     "output_type": "execute_result"
    }
   ],
   "source": [
    "get_Neumann_entropy(ground_MPS)"
   ]
  },
  {
   "cell_type": "code",
   "execution_count": 10,
   "id": "1f9eeec3",
   "metadata": {},
   "outputs": [
    {
     "data": {
      "text/plain": [
       "array([0.86969975, 0.67960124, 0.67989058, 0.869272  ])"
      ]
     },
     "execution_count": 10,
     "metadata": {},
     "output_type": "execute_result"
    }
   ],
   "source": [
    "get_Neumann_entropy(excited_MPS)"
   ]
  },
  {
   "cell_type": "code",
   "execution_count": null,
   "id": "e93c7096",
   "metadata": {},
   "outputs": [],
   "source": []
  }
 ],
 "metadata": {
  "kernelspec": {
   "display_name": "latest",
   "language": "python",
   "name": "python3"
  },
  "language_info": {
   "codemirror_mode": {
    "name": "ipython",
    "version": 3
   },
   "file_extension": ".py",
   "mimetype": "text/x-python",
   "name": "python",
   "nbconvert_exporter": "python",
   "pygments_lexer": "ipython3",
   "version": "3.11.4"
  }
 },
 "nbformat": 4,
 "nbformat_minor": 5
}
