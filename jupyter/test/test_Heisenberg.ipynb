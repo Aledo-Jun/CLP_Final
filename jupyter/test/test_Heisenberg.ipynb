{
 "cells": [
  {
   "cell_type": "code",
   "execution_count": null,
   "id": "ed889896",
   "metadata": {},
   "outputs": [],
   "source": [
    "import numpy as np\n",
    "import sys\n",
    "import itertools as itertools\n",
    "sys.path.append(\"..\")\n",
    "sys.path.append(\"../..\")\n",
    "\n",
    "import matplotlib.pyplot as plt\n",
    "from python.Heisenberg import XXZ_model, nn_Heisenberg_model, XY_model\n",
    "from python.DMRG import DMRG\n",
    "from python.Zippers import MPO_to_Hamiltonian, contract_MPS\n",
    "from python.Canonical_Form import get_Neumann_entropy"
   ]
  },
  {
   "cell_type": "code",
   "execution_count": 2,
   "id": "47972b31",
   "metadata": {},
   "outputs": [],
   "source": [
    "n_sites = 10\n",
    "\n",
    "ZZ_coupling = 1.0\n",
    "XY_coupling = 1.0\n",
    "magnetic_field = 0.0\n",
    "\n",
    "Hamiltonian = XXZ_model(\n",
    "    n_sites=n_sites, ZZ_coupling=ZZ_coupling,\n",
    "    XY_coupling=XY_coupling, magnetic_field=magnetic_field,\n",
    ")\n",
    "MPO_transposed = [ham.transpose(2, 3, 0, 1) for ham in Hamiltonian]"
   ]
  },
  {
   "cell_type": "code",
   "execution_count": null,
   "id": "ea90f31b",
   "metadata": {},
   "outputs": [],
   "source": [
    "\"\"\"\n",
    "Get exact matrix (exponential barrier)\n",
    "\"\"\"\n",
    "\n",
    "matrix = MPO_to_Hamiltonian(MPO_transposed)\n",
    "eigvals, _ = np.linalg.eigh(matrix)\n",
    "eigvals[:10]"
   ]
  },
  {
   "cell_type": "code",
   "execution_count": 4,
   "id": "a5903c15",
   "metadata": {},
   "outputs": [],
   "source": [
    "NKeep = 20\n",
    "NSweep = 10\n",
    "Krylov_bases = 5 #* 5 is usually enough\n",
    "Lanczos_cutoff = 1e-2\n",
    "iterative_diag = True\n",
    "two_site = True\n",
    "verbose = True"
   ]
  },
  {
   "cell_type": "code",
   "execution_count": null,
   "id": "2e266f20",
   "metadata": {},
   "outputs": [
    {
     "name": "stdout",
     "output_type": "stream",
     "text": [
      "L=10 | NKeep=20 | NSweep=10 | iterative=True | two_site=True | Krylov_bases=5 | Lanczos_cutoff=0.01\n",
      "iter=0 | energy=-7.1778373 | time=0.0s\n",
      "iter=1 | energy=-7.1805011 | time=0.296s\n",
      "iter=2 | energy=-7.1805011 | time=0.409s\n",
      "iter=3 | energy=-7.1805011 | time=0.567s\n",
      "iter=4 | energy=-7.1805011 | time=0.739s\n",
      "iter=5 | energy=-7.1805011 | time=0.901s\n",
      "iter=6 | energy=-7.1805011 | time=1.02s\n",
      "iter=7 | energy=-7.1805011 | time=1.23s\n",
      "iter=8 | energy=-7.1805011 | time=1.38s\n",
      "iter=9 | energy=-7.1805011 | time=1.52s\n",
      "iter=10 | energy=-7.1805011 | time=1.62s\n"
     ]
    }
   ],
   "source": [
    "ground_energies, ground_times, ground_MPS = DMRG(\n",
    "    Hamiltonian = Hamiltonian,\n",
    "    NKeep = NKeep,\n",
    "    NSweep = NSweep,\n",
    "    Krylov_bases = Krylov_bases,\n",
    "    Lanczos_cutoff = Lanczos_cutoff,\n",
    "    iterative_diag = iterative_diag,\n",
    "    two_site = two_site,\n",
    "    verbose = verbose,\n",
    ")\n",
    "\n",
    "eigvals[0]"
   ]
  },
  {
   "cell_type": "code",
   "execution_count": null,
   "id": "532fa62e",
   "metadata": {},
   "outputs": [
    {
     "name": "stdout",
     "output_type": "stream",
     "text": [
      "L=10 | NKeep=20 | NSweep=10 | iterative=False | two_site=True | Krylov_bases=5 | Lanczos_cutoff=0.01\n",
      "iter=0 | energy=-0.064555886 | time=0.0s\n",
      "iter=1 | energy=-6.7185007 | time=1.24s\n",
      "iter=2 | energy=-6.7185007 | time=2.03s\n",
      "iter=3 | energy=-6.7185007 | time=3.05s\n",
      "iter=4 | energy=-6.7185007 | time=3.52s\n",
      "iter=5 | energy=-6.7185007 | time=4.12s\n",
      "iter=6 | energy=-6.7185007 | time=4.56s\n",
      "iter=7 | energy=-6.7185007 | time=5.3s\n",
      "iter=8 | energy=-6.7185007 | time=6.15s\n",
      "iter=9 | energy=-6.7185007 | time=7.31s\n",
      "iter=10 | energy=-6.7185007 | time=8.51s\n"
     ]
    }
   ],
   "source": [
    "excited_energies, excited_times, excited_MPS = DMRG(\n",
    "    Hamiltonian = Hamiltonian,\n",
    "    NKeep = NKeep,\n",
    "    NSweep = NSweep,\n",
    "    Krylov_bases = Krylov_bases,\n",
    "    Lanczos_cutoff = Lanczos_cutoff,\n",
    "    iterative_diag = False,\n",
    "    orthogonal_to_list_of_MPS=[ground_MPS],\n",
    "    two_site = two_site,\n",
    "    verbose = verbose,\n",
    ")\n",
    "\n",
    "eigvals[1]"
   ]
  },
  {
   "cell_type": "code",
   "execution_count": 8,
   "id": "e09af602",
   "metadata": {},
   "outputs": [],
   "source": [
    "n_sites = 10\n",
    "\n",
    "J1 = 1.0\n",
    "J2 = 1.0\n",
    "\n",
    "Hamiltonian = nn_Heisenberg_model(\n",
    "    n_sites=n_sites, J1=J1, J2=J2,\n",
    ")\n",
    "MPO_transposed = [ham.transpose(2, 3, 0, 1) for ham in Hamiltonian]"
   ]
  },
  {
   "cell_type": "code",
   "execution_count": null,
   "id": "ffb4e58c",
   "metadata": {},
   "outputs": [
    {
     "data": {
      "text/plain": [
       "array([-2.25, -2.25, -1.75, -1.75, -1.75, -1.75, -1.75, -1.75, -1.75,\n",
       "       -1.75])"
      ]
     },
     "execution_count": 10,
     "metadata": {},
     "output_type": "execute_result"
    }
   ],
   "source": [
    "\"\"\"\n",
    "Get exact matrix (exponential barrier)\n",
    "\"\"\"\n",
    "\n",
    "matrix = MPO_to_Hamiltonian(MPO_transposed)\n",
    "eigvals, _ = np.linalg.eigh(matrix)\n",
    "eigvals[:10]"
   ]
  },
  {
   "cell_type": "code",
   "execution_count": 13,
   "id": "79b2f471",
   "metadata": {},
   "outputs": [],
   "source": [
    "NKeep = 20\n",
    "NSweep = 10\n",
    "Krylov_bases = 5 #* 5 is usually enough\n",
    "Lanczos_cutoff = 1e-2\n",
    "iterative_diag = True\n",
    "two_site = True\n",
    "verbose = True"
   ]
  },
  {
   "cell_type": "code",
   "execution_count": 14,
   "id": "e3797c46",
   "metadata": {},
   "outputs": [
    {
     "name": "stdout",
     "output_type": "stream",
     "text": [
      "L=10 | NKeep=20 | NSweep=10 | iterative=True | two_site=True | Krylov_bases=5 | Lanczos_cutoff=0.01\n",
      "iter=0 | energy=-2.25 | time=0.0s\n",
      "iter=1 | energy=-2.25 | time=0.0263s\n",
      "iter=2 | energy=-2.25 | time=0.0519s\n",
      "iter=3 | energy=-2.25 | time=0.0776s\n",
      "iter=4 | energy=-2.25 | time=0.0979s\n",
      "iter=5 | energy=-2.25 | time=0.117s\n",
      "iter=6 | energy=-2.25 | time=0.136s\n",
      "iter=7 | energy=-2.25 | time=0.157s\n",
      "iter=8 | energy=-2.25 | time=0.176s\n",
      "iter=9 | energy=-2.25 | time=0.196s\n",
      "iter=10 | energy=-2.25 | time=0.215s\n"
     ]
    },
    {
     "data": {
      "text/plain": [
       "-2.25"
      ]
     },
     "execution_count": 14,
     "metadata": {},
     "output_type": "execute_result"
    }
   ],
   "source": [
    "ground_energies, ground_times, ground_MPS = DMRG(\n",
    "    Hamiltonian = Hamiltonian,\n",
    "    NKeep = NKeep,\n",
    "    NSweep = NSweep,\n",
    "    Krylov_bases = Krylov_bases,\n",
    "    Lanczos_cutoff = Lanczos_cutoff,\n",
    "    iterative_diag = iterative_diag,\n",
    "    two_site = two_site,\n",
    "    verbose = verbose,\n",
    ")\n",
    "\n",
    "eigvals[0]"
   ]
  },
  {
   "cell_type": "code",
   "execution_count": 15,
   "id": "e6373984",
   "metadata": {},
   "outputs": [
    {
     "name": "stdout",
     "output_type": "stream",
     "text": [
      "L=10 | NKeep=20 | NSweep=10 | iterative=False | two_site=True | Krylov_bases=5 | Lanczos_cutoff=0.01\n",
      "iter=0 | energy=0.050230742 | time=0.0s\n",
      "iter=1 | energy=-2.2499805 | time=0.208s\n",
      "iter=2 | energy=-2.2499805 | time=0.352s\n",
      "iter=3 | energy=-2.2499805 | time=0.462s\n",
      "iter=4 | energy=-2.2499805 | time=0.674s\n",
      "iter=5 | energy=-2.2499805 | time=0.799s\n",
      "iter=6 | energy=-2.2499805 | time=0.871s\n",
      "iter=7 | energy=-2.2499805 | time=0.997s\n",
      "iter=8 | energy=-2.2499805 | time=1.06s\n",
      "iter=9 | energy=-2.2499805 | time=1.13s\n",
      "iter=10 | energy=-2.2499805 | time=1.19s\n"
     ]
    },
    {
     "data": {
      "text/plain": [
       "-2.25"
      ]
     },
     "execution_count": 15,
     "metadata": {},
     "output_type": "execute_result"
    }
   ],
   "source": [
    "excited_energies, excited_times, excited_MPS = DMRG(\n",
    "    Hamiltonian = Hamiltonian,\n",
    "    NKeep = NKeep,\n",
    "    NSweep = NSweep,\n",
    "    Krylov_bases = Krylov_bases,\n",
    "    Lanczos_cutoff = Lanczos_cutoff,\n",
    "    iterative_diag = False,\n",
    "    orthogonal_to_list_of_MPS=[ground_MPS],\n",
    "    two_site = two_site,\n",
    "    verbose = verbose,\n",
    ")\n",
    "\n",
    "eigvals[1]"
   ]
  },
  {
   "cell_type": "code",
   "execution_count": 16,
   "id": "1bd6df94",
   "metadata": {},
   "outputs": [],
   "source": [
    "n_sites = 10\n",
    "\n",
    "J = -1.0\n",
    "Gamma = 1.0\n",
    "\n",
    "Hamiltonian = XY_model(\n",
    "    n_sites=n_sites, J=J, Gamma=Gamma,\n",
    ")\n",
    "MPO_transposed = [ham.transpose(2, 3, 0, 1) for ham in Hamiltonian]"
   ]
  },
  {
   "cell_type": "code",
   "execution_count": null,
   "id": "04ebbe2e",
   "metadata": {},
   "outputs": [
    {
     "data": {
      "text/plain": [
       "array([-5.28482978, -4.75150298, -4.66134396, -4.53573529, -4.39498427,\n",
       "       -4.25373069, -4.12801717, -4.12188325, -4.00629712, -4.00240849])"
      ]
     },
     "execution_count": 17,
     "metadata": {},
     "output_type": "execute_result"
    }
   ],
   "source": [
    "\"\"\"\n",
    "Get exact matrix (exponential barrier)\n",
    "\"\"\"\n",
    "\n",
    "matrix = MPO_to_Hamiltonian(MPO_transposed)\n",
    "eigvals, _ = np.linalg.eigh(matrix)\n",
    "eigvals[:10]"
   ]
  },
  {
   "cell_type": "code",
   "execution_count": 18,
   "id": "9c0b25c3",
   "metadata": {},
   "outputs": [
    {
     "name": "stdout",
     "output_type": "stream",
     "text": [
      "L=10 | NKeep=20 | NSweep=10 | iterative=True | two_site=True | Krylov_bases=5 | Lanczos_cutoff=0.01\n",
      "iter=0 | energy=-5.2770168 | time=0.0s\n",
      "iter=1 | energy=-5.2848298 | time=0.113s\n",
      "iter=2 | energy=-5.2848298 | time=0.25s\n",
      "iter=3 | energy=-5.2848298 | time=0.283s\n",
      "iter=4 | energy=-5.2848298 | time=0.32s\n",
      "iter=5 | energy=-5.2848298 | time=0.37s\n",
      "iter=6 | energy=-5.2848298 | time=0.413s\n",
      "iter=7 | energy=-5.2848298 | time=0.455s\n",
      "iter=8 | energy=-5.2848298 | time=0.487s\n",
      "iter=9 | energy=-5.2848298 | time=0.519s\n",
      "iter=10 | energy=-5.2848298 | time=0.615s\n"
     ]
    },
    {
     "data": {
      "text/plain": [
       "-5.2848297789078025"
      ]
     },
     "execution_count": 18,
     "metadata": {},
     "output_type": "execute_result"
    }
   ],
   "source": [
    "ground_energies, ground_times, ground_MPS = DMRG(\n",
    "    Hamiltonian = Hamiltonian,\n",
    "    NKeep = NKeep,\n",
    "    NSweep = NSweep,\n",
    "    Krylov_bases = Krylov_bases,\n",
    "    Lanczos_cutoff = Lanczos_cutoff,\n",
    "    iterative_diag = iterative_diag,\n",
    "    two_site = two_site,\n",
    "    verbose = verbose,\n",
    ")\n",
    "\n",
    "eigvals[0]"
   ]
  },
  {
   "cell_type": "code",
   "execution_count": 19,
   "id": "ecad1032",
   "metadata": {},
   "outputs": [
    {
     "name": "stdout",
     "output_type": "stream",
     "text": [
      "L=10 | NKeep=20 | NSweep=10 | iterative=False | two_site=True | Krylov_bases=5 | Lanczos_cutoff=0.01\n",
      "iter=0 | energy=-0.01717453 | time=0.0s\n",
      "iter=1 | energy=-4.7507212 | time=0.668s\n",
      "iter=2 | energy=-4.7513389 | time=1.02s\n",
      "iter=3 | energy=-4.7513389 | time=1.34s\n",
      "iter=4 | energy=-4.7513389 | time=1.64s\n",
      "iter=5 | energy=-4.7513389 | time=1.76s\n",
      "iter=6 | energy=-4.7513389 | time=1.84s\n",
      "iter=7 | energy=-4.7513389 | time=1.95s\n",
      "iter=8 | energy=-4.7513389 | time=2.1s\n",
      "iter=9 | energy=-4.7513389 | time=2.18s\n",
      "iter=10 | energy=-4.7513389 | time=2.37s\n"
     ]
    },
    {
     "data": {
      "text/plain": [
       "-4.751502980728418"
      ]
     },
     "execution_count": 19,
     "metadata": {},
     "output_type": "execute_result"
    }
   ],
   "source": [
    "excited_energies, excited_times, excited_MPS = DMRG(\n",
    "    Hamiltonian = Hamiltonian,\n",
    "    NKeep = NKeep,\n",
    "    NSweep = NSweep,\n",
    "    Krylov_bases = Krylov_bases,\n",
    "    Lanczos_cutoff = Lanczos_cutoff,\n",
    "    iterative_diag = False,\n",
    "    orthogonal_to_list_of_MPS=[ground_MPS],\n",
    "    two_site = two_site,\n",
    "    verbose = verbose,\n",
    ")\n",
    "\n",
    "eigvals[1]"
   ]
  },
  {
   "cell_type": "code",
   "execution_count": 20,
   "id": "1016f9a8",
   "metadata": {},
   "outputs": [
    {
     "data": {
      "text/plain": [
       "array([0.11924839, 0.12692302, 0.1279663 , 0.1281325 , 0.12815813,\n",
       "       0.12813472, 0.12797017, 0.12694886, 0.11927737])"
      ]
     },
     "execution_count": 20,
     "metadata": {},
     "output_type": "execute_result"
    }
   ],
   "source": [
    "get_Neumann_entropy(ground_MPS)"
   ]
  },
  {
   "cell_type": "code",
   "execution_count": 1,
   "id": "c06f7a59",
   "metadata": {},
   "outputs": [
    {
     "ename": "NameError",
     "evalue": "name 'get_Neumann_entropy' is not defined",
     "output_type": "error",
     "traceback": [
      "\u001b[0;31m---------------------------------------------------------------------------\u001b[0m",
      "\u001b[0;31mNameError\u001b[0m                                 Traceback (most recent call last)",
      "Cell \u001b[0;32mIn[1], line 1\u001b[0m\n\u001b[0;32m----> 1\u001b[0m \u001b[43mget_Neumann_entropy\u001b[49m(excited_MPS)\n",
      "\u001b[0;31mNameError\u001b[0m: name 'get_Neumann_entropy' is not defined"
     ]
    }
   ],
   "source": [
    "get_Neumann_entropy(excited_MPS)"
   ]
  },
  {
   "cell_type": "code",
   "execution_count": null,
   "id": "8a142757",
   "metadata": {},
   "outputs": [],
   "source": []
  }
 ],
 "metadata": {
  "kernelspec": {
   "display_name": "latest",
   "language": "python",
   "name": "python3"
  },
  "language_info": {
   "codemirror_mode": {
    "name": "ipython",
    "version": 3
   },
   "file_extension": ".py",
   "mimetype": "text/x-python",
   "name": "python",
   "nbconvert_exporter": "python",
   "pygments_lexer": "ipython3",
   "version": "3.11.4"
  }
 },
 "nbformat": 4,
 "nbformat_minor": 5
}
