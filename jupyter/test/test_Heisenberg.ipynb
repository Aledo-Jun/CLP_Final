{
 "cells": [
  {
   "cell_type": "code",
   "execution_count": 1,
   "id": "ed889896",
   "metadata": {
    "ExecuteTime": {
     "end_time": "2025-05-26T14:07:38.879135Z",
     "start_time": "2025-05-26T14:07:34.222775Z"
    }
   },
   "outputs": [],
   "source": [
    "import numpy as np\n",
    "import sys\n",
    "import itertools as itertools\n",
    "sys.path.append(\"..\")\n",
    "sys.path.append(\"../..\")\n",
    "\n",
    "import matplotlib.pyplot as plt\n",
    "from python.Heisenberg import XXZ_model, nn_Heisenberg_model, XY_model\n",
    "from python.DMRG import DMRG\n",
    "from python.Zippers import MPO_to_Hamiltonian, contract_MPS\n",
    "from python.Canonical_Form import get_Neumann_entropy\n",
    "from python.Backend import Backend\n",
    "from python.Decomposition import EIGH"
   ]
  },
  {
   "cell_type": "code",
   "execution_count": 2,
   "id": "b30d49c2ec5c4f6a",
   "metadata": {
    "ExecuteTime": {
     "end_time": "2025-05-26T14:07:39.121374Z",
     "start_time": "2025-05-26T14:07:39.118549Z"
    }
   },
   "outputs": [],
   "source": [
    "# bk = Backend(\"numpy\")\n",
    "bk = Backend(\"torch\")\n",
    "\n",
    "NKeep = 20\n",
    "NSweep = 10\n",
    "Krylov_bases = 5  #* 5 is usually enough\n",
    "Lanczos_cutoff = 1e-2\n",
    "iterative_diag = True\n",
    "two_site = True\n",
    "verbose = True"
   ]
  },
  {
   "cell_type": "markdown",
   "id": "3aad6209bf5da108",
   "metadata": {},
   "source": [
    "# XXZ model"
   ]
  },
  {
   "cell_type": "code",
   "execution_count": 3,
   "id": "47972b31",
   "metadata": {},
   "outputs": [],
   "source": [
    "n_sites = 10\n",
    "\n",
    "ZZ_coupling = 1.0\n",
    "XY_coupling = 1.0\n",
    "magnetic_field = 0.0\n",
    "\n",
    "Hamiltonian = XXZ_model(\n",
    "    bk=bk, n_sites=n_sites, ZZ_coupling=ZZ_coupling,\n",
    "    XY_coupling=XY_coupling, magnetic_field=magnetic_field,\n",
    ")\n",
    "MPO_transposed = [bk.transpose(ham, (2, 3, 0, 1)) for ham in Hamiltonian]"
   ]
  },
  {
   "cell_type": "code",
   "execution_count": 4,
   "id": "ea90f31b",
   "metadata": {},
   "outputs": [
    {
     "data": {
      "text/plain": [
       "tensor([-7.1805, -6.7185, -6.7185,  ...,  4.9663,  4.9663,  5.0934],\n",
       "       device='cuda:0')"
      ]
     },
     "execution_count": 4,
     "metadata": {},
     "output_type": "execute_result"
    }
   ],
   "source": [
    "\"\"\"\n",
    "Get exact matrix (exponential barrier)\n",
    "\"\"\"\n",
    "\n",
    "matrix = MPO_to_Hamiltonian(MPO_transposed, bk=bk)\n",
    "eigvals, _ = EIGH(matrix, bk=bk)\n",
    "eigvals"
   ]
  },
  {
   "cell_type": "code",
   "execution_count": 5,
   "id": "2e266f20",
   "metadata": {},
   "outputs": [
    {
     "name": "stdout",
     "output_type": "stream",
     "text": [
      "L=10 | NKeep=20 | NSweep=10 | diag=True | two=True | Krylov=5 | cutoff=0.01\n",
      "Iterative diagonalization complete\n"
     ]
    },
    {
     "name": "stdout",
     "output_type": "stream",
     "text": [
      "iter=0 | energy=-7.1778373 | time=0js\n",
      "iter=1 | energy=(-7.1805010912851905+0j) | time=0.3354911420001372s\n",
      "iter=2 | energy=(-7.180501091285022+0j) | time=0.5502316010006325s\n"
     ]
    },
    {
     "data": {
      "text/plain": [
       "tensor(-7.1805, device='cuda:0')"
      ]
     },
     "execution_count": 5,
     "metadata": {},
     "output_type": "execute_result"
    }
   ],
   "source": [
    "ground_energies, ground_times, ground_MPS = DMRG(\n",
    "    bk = bk,\n",
    "    Hamiltonian = Hamiltonian,\n",
    "    NKeep = NKeep,\n",
    "    NSweep = NSweep,\n",
    "    Krylov_bases = Krylov_bases,\n",
    "    Lanczos_cutoff = Lanczos_cutoff,\n",
    "    iterative_diag = iterative_diag,\n",
    "    two_site = two_site,\n",
    "    verbose = verbose,\n",
    ")\n",
    "\n",
    "eigvals[0]"
   ]
  },
  {
   "cell_type": "code",
   "execution_count": 6,
   "id": "532fa62e",
   "metadata": {},
   "outputs": [
    {
     "name": "stdout",
     "output_type": "stream",
     "text": [
      "L=10 | NKeep=20 | NSweep=10 | diag=False | two=True | Krylov=5 | cutoff=0.01\n",
      "Random initialization complete\n",
      "iter=0 | energy=-0.01672645 | time=0js\n"
     ]
    },
    {
     "name": "stdout",
     "output_type": "stream",
     "text": [
      "iter=1 | energy=(-6.71843780544522+0j) | time=0.48165756999969744s\n",
      "iter=2 | energy=(-6.7184378054451175+0j) | time=0.8050141019994044s\n"
     ]
    },
    {
     "data": {
      "text/plain": [
       "tensor(-6.7185, device='cuda:0')"
      ]
     },
     "execution_count": 6,
     "metadata": {},
     "output_type": "execute_result"
    }
   ],
   "source": [
    "excited_energies, excited_times, excited_MPS = DMRG(\n",
    "    bk = bk,\n",
    "    Hamiltonian = Hamiltonian,\n",
    "    NKeep = NKeep,\n",
    "    NSweep = NSweep,\n",
    "    Krylov_bases = Krylov_bases,\n",
    "    Lanczos_cutoff = Lanczos_cutoff,\n",
    "    iterative_diag = False,\n",
    "    orthogonal_to_list_of_MPS=[ground_MPS],\n",
    "    two_site = two_site,\n",
    "    verbose = verbose,\n",
    ")\n",
    "\n",
    "eigvals[1]"
   ]
  },
  {
   "cell_type": "markdown",
   "id": "71bb57ca7018d580",
   "metadata": {},
   "source": [
    "# nn Heisenberg"
   ]
  },
  {
   "cell_type": "code",
   "execution_count": 7,
   "id": "e09af602",
   "metadata": {},
   "outputs": [],
   "source": [
    "# bk = Backend(\"numpy\")\n",
    "bk = Backend(\"torch\")\n",
    "\n",
    "n_sites = 10\n",
    "\n",
    "J1 = 1.0\n",
    "J2 = 1.0\n",
    "\n",
    "Hamiltonian = nn_Heisenberg_model(\n",
    "    n_sites=n_sites, J1=J1, J2=J2, bk = bk,\n",
    ")\n",
    "MPO_transposed = [bk.transpose(ham, (2, 3, 0, 1)) for ham in Hamiltonian]"
   ]
  },
  {
   "cell_type": "code",
   "execution_count": 8,
   "id": "ffb4e58c",
   "metadata": {},
   "outputs": [
    {
     "data": {
      "text/plain": [
       "tensor([-2.2500, -2.2500, -1.7500,  ...,  3.2500,  4.2500,  4.2500],\n",
       "       device='cuda:0')"
      ]
     },
     "execution_count": 8,
     "metadata": {},
     "output_type": "execute_result"
    }
   ],
   "source": [
    "\"\"\"\n",
    "Get exact matrix (exponential barrier)\n",
    "\"\"\"\n",
    "\n",
    "matrix = MPO_to_Hamiltonian(MPO_transposed, bk=bk)\n",
    "eigvals, _ = EIGH(matrix, bk=bk)\n",
    "eigvals"
   ]
  },
  {
   "cell_type": "code",
   "execution_count": 9,
   "id": "79b2f471",
   "metadata": {},
   "outputs": [],
   "source": [
    "NKeep = 20\n",
    "NSweep = 10\n",
    "Krylov_bases = 5 #* 5 is usually enough\n",
    "Lanczos_cutoff = 1e-2\n",
    "iterative_diag = True\n",
    "two_site = True\n",
    "verbose = True"
   ]
  },
  {
   "cell_type": "code",
   "execution_count": 10,
   "id": "e3797c46",
   "metadata": {},
   "outputs": [
    {
     "name": "stdout",
     "output_type": "stream",
     "text": [
      "L=10 | NKeep=20 | NSweep=10 | diag=True | two=True | Krylov=5 | cutoff=0.01\n",
      "Iterative diagonalization complete\n",
      "iter=0 | energy=-2.25 | time=0js\n",
      "iter=1 | energy=(-2.249999999999999+0j) | time=0.16666175600039423s\n"
     ]
    },
    {
     "data": {
      "text/plain": [
       "tensor(-2.2500, device='cuda:0')"
      ]
     },
     "execution_count": 10,
     "metadata": {},
     "output_type": "execute_result"
    }
   ],
   "source": [
    "ground_energies, ground_times, ground_MPS = DMRG(\n",
    "    bk = bk,\n",
    "    Hamiltonian = Hamiltonian,\n",
    "    NKeep = NKeep,\n",
    "    NSweep = NSweep,\n",
    "    Krylov_bases = Krylov_bases,\n",
    "    Lanczos_cutoff = Lanczos_cutoff,\n",
    "    iterative_diag = iterative_diag,\n",
    "    two_site = two_site,\n",
    "    verbose = verbose,\n",
    ")\n",
    "\n",
    "eigvals[0]"
   ]
  },
  {
   "cell_type": "code",
   "execution_count": 11,
   "id": "e6373984",
   "metadata": {},
   "outputs": [
    {
     "name": "stdout",
     "output_type": "stream",
     "text": [
      "L=10 | NKeep=20 | NSweep=10 | diag=False | two=True | Krylov=5 | cutoff=0.01\n",
      "Random initialization complete\n",
      "iter=0 | energy=0.070293005 | time=0js\n",
      "iter=1 | energy=(-2.2499897689419655+0j) | time=0.4362479589999566s\n",
      "iter=2 | energy=(-2.2499897689419455+0j) | time=0.7653190970004289s\n"
     ]
    },
    {
     "data": {
      "text/plain": [
       "tensor(-2.2500, device='cuda:0')"
      ]
     },
     "execution_count": 11,
     "metadata": {},
     "output_type": "execute_result"
    }
   ],
   "source": [
    "excited_energies, excited_times, excited_MPS = DMRG(\n",
    "    bk = bk,\n",
    "    Hamiltonian = Hamiltonian,\n",
    "    NKeep = NKeep,\n",
    "    NSweep = NSweep,\n",
    "    Krylov_bases = Krylov_bases,\n",
    "    Lanczos_cutoff = Lanczos_cutoff,\n",
    "    iterative_diag = False,\n",
    "    orthogonal_to_list_of_MPS=[ground_MPS],\n",
    "    two_site = two_site,\n",
    "    verbose = verbose,\n",
    ")\n",
    "\n",
    "eigvals[1]"
   ]
  },
  {
   "cell_type": "markdown",
   "id": "868c1db8260264cb",
   "metadata": {},
   "source": [
    "# XY model"
   ]
  },
  {
   "cell_type": "code",
   "execution_count": 12,
   "id": "1bd6df94",
   "metadata": {
    "ExecuteTime": {
     "end_time": "2025-05-26T14:08:06.508505Z",
     "start_time": "2025-05-26T14:08:06.503642Z"
    }
   },
   "outputs": [],
   "source": [
    "# bk = Backend(\"numpy\")\n",
    "bk = Backend(\"torch\")\n",
    "\n",
    "n_sites = 10\n",
    "\n",
    "J = -1.0\n",
    "Gamma = 1.0\n",
    "\n",
    "Hamiltonian = XY_model(\n",
    "    n_sites=n_sites, J=J, Gamma=Gamma, bk=bk\n",
    ")\n",
    "MPO_transposed = [bk.transpose(ham, (2, 3, 0, 1)) for ham in Hamiltonian]"
   ]
  },
  {
   "cell_type": "code",
   "execution_count": 13,
   "id": "04ebbe2e",
   "metadata": {
    "ExecuteTime": {
     "end_time": "2025-05-26T14:08:08.651388Z",
     "start_time": "2025-05-26T14:08:07.645851Z"
    }
   },
   "outputs": [
    {
     "data": {
      "text/plain": [
       "tensor([-5.2848, -4.7515, -4.6613,  ...,  4.6613,  4.7515,  5.2848],\n",
       "       device='cuda:0')"
      ]
     },
     "execution_count": 13,
     "metadata": {},
     "output_type": "execute_result"
    }
   ],
   "source": [
    "\"\"\"\n",
    "Get exact matrix (exponential barrier)\n",
    "\"\"\"\n",
    "\n",
    "matrix = MPO_to_Hamiltonian(MPO_transposed, bk=bk)\n",
    "eigvals, _ = EIGH(matrix, bk=bk)\n",
    "eigvals"
   ]
  },
  {
   "cell_type": "code",
   "execution_count": 14,
   "id": "9c0b25c3",
   "metadata": {
    "ExecuteTime": {
     "end_time": "2025-05-26T14:08:10.086880Z",
     "start_time": "2025-05-26T14:08:09.704895Z"
    }
   },
   "outputs": [
    {
     "name": "stdout",
     "output_type": "stream",
     "text": [
      "L=10 | NKeep=20 | NSweep=10 | diag=True | two=True | Krylov=5 | cutoff=0.01\n",
      "Iterative diagonalization complete\n",
      "iter=0 | energy=-5.2770168 | time=0js\n",
      "iter=1 | energy=(-5.2848297738978625+0j) | time=0.24597153300055652s\n",
      "iter=2 | energy=(-5.284829773897861+0j) | time=0.4381416080004783s\n"
     ]
    },
    {
     "data": {
      "text/plain": [
       "tensor(-5.2848, device='cuda:0')"
      ]
     },
     "execution_count": 14,
     "metadata": {},
     "output_type": "execute_result"
    }
   ],
   "source": [
    "ground_energies, ground_times, ground_MPS = DMRG(\n",
    "    bk = bk,\n",
    "    Hamiltonian = Hamiltonian,\n",
    "    NKeep = NKeep,\n",
    "    NSweep = NSweep,\n",
    "    Krylov_bases = Krylov_bases,\n",
    "    Lanczos_cutoff = Lanczos_cutoff,\n",
    "    iterative_diag = iterative_diag,\n",
    "    two_site = two_site,\n",
    "    verbose = verbose,\n",
    ")\n",
    "\n",
    "eigvals[0]"
   ]
  },
  {
   "cell_type": "code",
   "execution_count": 15,
   "id": "ecad1032",
   "metadata": {
    "ExecuteTime": {
     "end_time": "2025-05-26T14:08:18.119747Z",
     "start_time": "2025-05-26T14:08:17.052177Z"
    }
   },
   "outputs": [
    {
     "name": "stdout",
     "output_type": "stream",
     "text": [
      "L=10 | NKeep=20 | NSweep=10 | diag=False | two=True | Krylov=5 | cutoff=0.01\n",
      "Random initialization complete\n",
      "iter=0 | energy=-0.24445708 | time=0js\n",
      "iter=1 | energy=(-4.751452233699276+0j) | time=0.5259036799998285s\n",
      "iter=2 | energy=(-4.751452233699316+0j) | time=0.8774124399997163s\n"
     ]
    },
    {
     "data": {
      "text/plain": [
       "tensor(-4.7515, device='cuda:0')"
      ]
     },
     "execution_count": 15,
     "metadata": {},
     "output_type": "execute_result"
    }
   ],
   "source": [
    "excited_energies, excited_times, excited_MPS = DMRG(\n",
    "    bk = bk,\n",
    "    Hamiltonian = Hamiltonian,\n",
    "    NKeep = NKeep,\n",
    "    NSweep = NSweep,\n",
    "    Krylov_bases = Krylov_bases,\n",
    "    Lanczos_cutoff = Lanczos_cutoff,\n",
    "    iterative_diag = False,\n",
    "    orthogonal_to_list_of_MPS=[ground_MPS],\n",
    "    two_site = two_site,\n",
    "    verbose = verbose,\n",
    ")\n",
    "\n",
    "eigvals[1]"
   ]
  },
  {
   "cell_type": "code",
   "execution_count": 16,
   "id": "1016f9a8",
   "metadata": {
    "ExecuteTime": {
     "end_time": "2025-05-26T14:08:21.562420Z",
     "start_time": "2025-05-26T14:08:21.528087Z"
    }
   },
   "outputs": [
    {
     "data": {
      "text/plain": [
       "tensor([0.1192+0.j, 0.1269+0.j, 0.1280+0.j, 0.1281+0.j, 0.1282+0.j, 0.1281+0.j, 0.1280+0.j,\n",
       "        0.1269+0.j, 0.1193+0.j], device='cuda:0')"
      ]
     },
     "execution_count": 16,
     "metadata": {},
     "output_type": "execute_result"
    }
   ],
   "source": [
    "get_Neumann_entropy(ground_MPS, bk=bk)"
   ]
  },
  {
   "cell_type": "code",
   "execution_count": 17,
   "id": "c06f7a59",
   "metadata": {
    "ExecuteTime": {
     "end_time": "2025-05-26T14:08:23.120398Z",
     "start_time": "2025-05-26T14:08:23.085446Z"
    }
   },
   "outputs": [
    {
     "data": {
      "text/plain": [
       "tensor([0.2302+0.j, 0.4702+0.j, 0.7437+0.j, 0.9564+0.j, 1.0327+0.j, 0.9454+0.j, 0.7271+0.j,\n",
       "        0.4550+0.j, 0.2232+0.j], device='cuda:0')"
      ]
     },
     "execution_count": 17,
     "metadata": {},
     "output_type": "execute_result"
    }
   ],
   "source": [
    "get_Neumann_entropy(excited_MPS, bk=bk)"
   ]
  },
  {
   "cell_type": "code",
   "execution_count": 18,
   "id": "8a142757",
   "metadata": {
    "ExecuteTime": {
     "end_time": "2025-05-26T14:27:36.982516Z",
     "start_time": "2025-05-26T14:27:36.977275Z"
    }
   },
   "outputs": [
    {
     "ename": "ModuleNotFoundError",
     "evalue": "No module named 'tqdm'",
     "output_type": "error",
     "traceback": [
      "\u001b[0;31m---------------------------------------------------------------------------\u001b[0m",
      "\u001b[0;31mModuleNotFoundError\u001b[0m                       Traceback (most recent call last)",
      "Cell \u001b[0;32mIn[18], line 2\u001b[0m\n\u001b[1;32m      1\u001b[0m \u001b[38;5;28;01mimport\u001b[39;00m \u001b[38;5;21;01mmatplotlib\u001b[39;00m\u001b[38;5;21;01m.\u001b[39;00m\u001b[38;5;21;01mpyplot\u001b[39;00m \u001b[38;5;28;01mas\u001b[39;00m \u001b[38;5;21;01mplt\u001b[39;00m\n\u001b[0;32m----> 2\u001b[0m \u001b[38;5;28;01mfrom\u001b[39;00m \u001b[38;5;21;01mtqdm\u001b[39;00m\u001b[38;5;21;01m.\u001b[39;00m\u001b[38;5;21;01mauto\u001b[39;00m \u001b[38;5;28;01mimport\u001b[39;00m tqdm\n\u001b[1;32m      4\u001b[0m L \u001b[38;5;241m=\u001b[39m \u001b[38;5;241m40\u001b[39m\n\u001b[1;32m      5\u001b[0m N_keep \u001b[38;5;241m=\u001b[39m \u001b[38;5;241m32\u001b[39m\n",
      "\u001b[0;31mModuleNotFoundError\u001b[0m: No module named 'tqdm'"
     ]
    }
   ],
   "source": [
    "import matplotlib.pyplot as plt\n",
    "from tqdm.auto import tqdm\n",
    "\n",
    "L = 40\n",
    "N_keep = 32\n",
    "sweeps = 10\n",
    "krylov = 5\n",
    "gammas = np.linspace(0, 1, 21)\n",
    "Js     = np.linspace(0.2 ,2, 19)"
   ]
  },
  {
   "cell_type": "code",
   "execution_count": null,
   "id": "11e1fa9bb09a544f",
   "metadata": {
    "ExecuteTime": {
     "end_time": "2025-05-26T16:34:52.515953Z",
     "start_time": "2025-05-26T14:27:37.352245Z"
    }
   },
   "outputs": [],
   "source": [
    "E0  = np.zeros((len(Js), len(gammas)))\n",
    "gap = np.zeros_like(E0)\n",
    "SvN = np.zeros_like(E0)\n",
    "\n",
    "for iJ, J in enumerate(tqdm(Js, desc='J loop')):\n",
    "    for ig, gamma in enumerate(tqdm(gammas, desc='gamma loop', leave=False)):\n",
    "        # --- build MPO ------------\n",
    "        H_MPO = XY_model(n_sites=L, J=J, Gamma=gamma)\n",
    "\n",
    "        # --- ground state ---------------\n",
    "        (E_series, _, GS_MPS) = DMRG(\n",
    "            Hamiltonian = H_MPO,\n",
    "            NKeep       = N_keep,\n",
    "            NSweep      = sweeps,\n",
    "            Krylov_bases= krylov,\n",
    "            iterative_diag = True,\n",
    "            two_site    = True,\n",
    "            verbose     = False,\n",
    "        )\n",
    "        E0[iJ, ig] = E_series[-1].real\n",
    "\n",
    "        # --- first excited state (orthogonalized one further run) ----------\n",
    "        (E1_series, _, _) = DMRG(\n",
    "            Hamiltonian = H_MPO,\n",
    "            NKeep       = N_keep,\n",
    "            NSweep      = sweeps,\n",
    "            Krylov_bases= krylov,\n",
    "            iterative_diag = False,\n",
    "            two_site    = True,\n",
    "            orthogonal_to_list_of_MPS = [GS_MPS],  # ⟂ to ground state\n",
    "            verbose     = False,\n",
    "        )\n",
    "        gap[iJ, ig] = (E1_series[-1] - E0[iJ, ig]).real\n",
    "\n",
    "        # --- mid-chain entanglement entropy -----------\n",
    "        SvN_chain = get_Neumann_entropy(GS_MPS)\n",
    "        SvN[iJ, ig] = SvN_chain[L//2 - 1]           # cut at L/2\n",
    "\n",
    "# --------------------- plotting --------------------------------\n",
    "fig, axes = plt.subplots(1, 3, figsize=(18, 5))\n",
    "\n",
    "titles   = [r'Ground-state energy density $e_0$',\n",
    "            r'Spectral gap $\\Delta$',\n",
    "            r'Mid-chain entropy $S_{\\mathrm{vN}}$']\n",
    "data     = [E0 / L, gap, SvN]\n",
    "\n",
    "for ax, dat, title in zip(axes, data, titles):\n",
    "    im = ax.imshow(dat,\n",
    "                   origin='lower',\n",
    "                   extent=[gammas[0], gammas[-1],\n",
    "                               Js[0],    Js[-1]],\n",
    "                   aspect='auto')\n",
    "    ax.set_title(title, fontsize=13)\n",
    "    ax.set_xlabel(r'$\\gamma$')\n",
    "    ax.set_ylabel(r'$J$')\n",
    "    fig.colorbar(im, ax=ax, fraction=0.046)\n",
    "\n",
    "plt.tight_layout()\n",
    "plt.show()"
   ]
  },
  {
   "cell_type": "code",
   "execution_count": null,
   "id": "e7a3d1daf6d59ebe",
   "metadata": {},
   "outputs": [],
   "source": [
    "import pickle, datetime, pathlib\n",
    "\n",
    "results = {\n",
    "    \"timestamp\"   : datetime.datetime.now().isoformat(),\n",
    "    \"system_size\" : L,\n",
    "    \"bond_dim\"    : N_keep,\n",
    "    \"sweeps\"      : sweeps,\n",
    "    \"gamma_vals\"  : gammas,\n",
    "    \"J_vals\"      : Js,\n",
    "    \"E0\"          : E0,            # ground-state energy\n",
    "    \"gap\"         : gap,           # spectral gap\n",
    "    \"SvN\"         : SvN,           # mid-chain von-Neumann entropy\n",
    "}\n",
    "\n",
    "fname = pathlib.Path(f\"XY_phase_diag_L{L}_chi{N_keep}.pkl\").as_posix()\n",
    "with open(fname, \"wb\") as f:\n",
    "    pickle.dump(results, f)\n",
    "\n",
    "print(f\"✔  Saved to {fname}\")"
   ]
  }
 ],
 "metadata": {
  "kernelspec": {
   "display_name": "latest",
   "language": "python",
   "name": "python3"
  },
  "language_info": {
   "codemirror_mode": {
    "name": "ipython",
    "version": 3
   },
   "file_extension": ".py",
   "mimetype": "text/x-python",
   "name": "python",
   "nbconvert_exporter": "python",
   "pygments_lexer": "ipython3",
   "version": "3.11.4"
  }
 },
 "nbformat": 4,
 "nbformat_minor": 5
}
