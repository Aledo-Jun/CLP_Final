{
 "cells": [
  {
   "cell_type": "code",
   "id": "ed889896",
   "metadata": {
    "ExecuteTime": {
     "end_time": "2025-05-26T14:07:38.879135Z",
     "start_time": "2025-05-26T14:07:34.222775Z"
    }
   },
   "source": [
    "import numpy as np\n",
    "import sys\n",
    "import itertools as itertools\n",
    "sys.path.append(\"..\")\n",
    "sys.path.append(\"../..\")\n",
    "\n",
    "import matplotlib.pyplot as plt\n",
    "from python.Heisenberg import XXZ_model, nn_Heisenberg_model, XY_model\n",
    "from python.DMRG import DMRG\n",
    "from python.Zippers import MPO_to_Hamiltonian, contract_MPS\n",
    "from python.Canonical_Form import get_Neumann_entropy"
   ],
   "outputs": [],
   "execution_count": 1
  },
  {
   "metadata": {
    "ExecuteTime": {
     "end_time": "2025-05-26T14:07:39.121374Z",
     "start_time": "2025-05-26T14:07:39.118549Z"
    }
   },
   "cell_type": "code",
   "source": [
    "NKeep = 20\n",
    "NSweep = 10\n",
    "Krylov_bases = 5  #* 5 is usually enough\n",
    "Lanczos_cutoff = 1e-2\n",
    "iterative_diag = True\n",
    "two_site = True\n",
    "verbose = True"
   ],
   "id": "b30d49c2ec5c4f6a",
   "outputs": [],
   "execution_count": 2
  },
  {
   "metadata": {},
   "cell_type": "markdown",
   "source": "# XXZ model",
   "id": "3aad6209bf5da108"
  },
  {
   "cell_type": "code",
   "execution_count": 2,
   "id": "47972b31",
   "metadata": {},
   "outputs": [],
   "source": [
    "n_sites = 10\n",
    "\n",
    "ZZ_coupling = 1.0\n",
    "XY_coupling = 1.0\n",
    "magnetic_field = 0.0\n",
    "\n",
    "Hamiltonian = XXZ_model(\n",
    "    n_sites=n_sites, ZZ_coupling=ZZ_coupling,\n",
    "    XY_coupling=XY_coupling, magnetic_field=magnetic_field,\n",
    ")\n",
    "MPO_transposed = [ham.transpose(2, 3, 0, 1) for ham in Hamiltonian]"
   ]
  },
  {
   "cell_type": "code",
   "execution_count": null,
   "id": "ea90f31b",
   "metadata": {},
   "outputs": [],
   "source": [
    "\"\"\"\n",
    "Get exact matrix (exponential barrier)\n",
    "\"\"\"\n",
    "\n",
    "matrix = MPO_to_Hamiltonian(MPO_transposed)\n",
    "eigvals, _ = np.linalg.eigh(matrix)\n",
    "eigvals[:10]"
   ]
  },
  {
   "cell_type": "code",
   "execution_count": null,
   "id": "2e266f20",
   "metadata": {},
   "outputs": [
    {
     "name": "stdout",
     "output_type": "stream",
     "text": [
      "L=10 | NKeep=20 | NSweep=10 | iterative=True | two_site=True | Krylov_bases=5 | Lanczos_cutoff=0.01\n",
      "iter=0 | energy=-7.1778373 | time=0.0s\n",
      "iter=1 | energy=-7.1805011 | time=0.296s\n",
      "iter=2 | energy=-7.1805011 | time=0.409s\n",
      "iter=3 | energy=-7.1805011 | time=0.567s\n",
      "iter=4 | energy=-7.1805011 | time=0.739s\n",
      "iter=5 | energy=-7.1805011 | time=0.901s\n",
      "iter=6 | energy=-7.1805011 | time=1.02s\n",
      "iter=7 | energy=-7.1805011 | time=1.23s\n",
      "iter=8 | energy=-7.1805011 | time=1.38s\n",
      "iter=9 | energy=-7.1805011 | time=1.52s\n",
      "iter=10 | energy=-7.1805011 | time=1.62s\n"
     ]
    }
   ],
   "source": [
    "ground_energies, ground_times, ground_MPS = DMRG(\n",
    "    Hamiltonian = Hamiltonian,\n",
    "    NKeep = NKeep,\n",
    "    NSweep = NSweep,\n",
    "    Krylov_bases = Krylov_bases,\n",
    "    Lanczos_cutoff = Lanczos_cutoff,\n",
    "    iterative_diag = iterative_diag,\n",
    "    two_site = two_site,\n",
    "    verbose = verbose,\n",
    ")\n",
    "\n",
    "eigvals[0]"
   ]
  },
  {
   "cell_type": "code",
   "execution_count": null,
   "id": "532fa62e",
   "metadata": {},
   "outputs": [
    {
     "name": "stdout",
     "output_type": "stream",
     "text": [
      "L=10 | NKeep=20 | NSweep=10 | iterative=False | two_site=True | Krylov_bases=5 | Lanczos_cutoff=0.01\n",
      "iter=0 | energy=-0.064555886 | time=0.0s\n",
      "iter=1 | energy=-6.7185007 | time=1.24s\n",
      "iter=2 | energy=-6.7185007 | time=2.03s\n",
      "iter=3 | energy=-6.7185007 | time=3.05s\n",
      "iter=4 | energy=-6.7185007 | time=3.52s\n",
      "iter=5 | energy=-6.7185007 | time=4.12s\n",
      "iter=6 | energy=-6.7185007 | time=4.56s\n",
      "iter=7 | energy=-6.7185007 | time=5.3s\n",
      "iter=8 | energy=-6.7185007 | time=6.15s\n",
      "iter=9 | energy=-6.7185007 | time=7.31s\n",
      "iter=10 | energy=-6.7185007 | time=8.51s\n"
     ]
    }
   ],
   "source": [
    "excited_energies, excited_times, excited_MPS = DMRG(\n",
    "    Hamiltonian = Hamiltonian,\n",
    "    NKeep = NKeep,\n",
    "    NSweep = NSweep,\n",
    "    Krylov_bases = Krylov_bases,\n",
    "    Lanczos_cutoff = Lanczos_cutoff,\n",
    "    iterative_diag = False,\n",
    "    orthogonal_to_list_of_MPS=[ground_MPS],\n",
    "    two_site = two_site,\n",
    "    verbose = verbose,\n",
    ")\n",
    "\n",
    "eigvals[1]"
   ]
  },
  {
   "metadata": {},
   "cell_type": "markdown",
   "source": "# nn Heisenberg",
   "id": "71bb57ca7018d580"
  },
  {
   "cell_type": "code",
   "execution_count": 8,
   "id": "e09af602",
   "metadata": {},
   "outputs": [],
   "source": [
    "n_sites = 10\n",
    "\n",
    "J1 = 1.0\n",
    "J2 = 1.0\n",
    "\n",
    "Hamiltonian = nn_Heisenberg_model(\n",
    "    n_sites=n_sites, J1=J1, J2=J2,\n",
    ")\n",
    "MPO_transposed = [ham.transpose(2, 3, 0, 1) for ham in Hamiltonian]"
   ]
  },
  {
   "cell_type": "code",
   "execution_count": null,
   "id": "ffb4e58c",
   "metadata": {},
   "outputs": [
    {
     "data": {
      "text/plain": [
       "array([-2.25, -2.25, -1.75, -1.75, -1.75, -1.75, -1.75, -1.75, -1.75,\n",
       "       -1.75])"
      ]
     },
     "execution_count": 10,
     "metadata": {},
     "output_type": "execute_result"
    }
   ],
   "source": [
    "\"\"\"\n",
    "Get exact matrix (exponential barrier)\n",
    "\"\"\"\n",
    "\n",
    "matrix = MPO_to_Hamiltonian(MPO_transposed)\n",
    "eigvals, _ = np.linalg.eigh(matrix)\n",
    "eigvals[:10]"
   ]
  },
  {
   "cell_type": "code",
   "execution_count": 13,
   "id": "79b2f471",
   "metadata": {},
   "outputs": [],
   "source": [
    "NKeep = 20\n",
    "NSweep = 10\n",
    "Krylov_bases = 5 #* 5 is usually enough\n",
    "Lanczos_cutoff = 1e-2\n",
    "iterative_diag = True\n",
    "two_site = True\n",
    "verbose = True"
   ]
  },
  {
   "cell_type": "code",
   "execution_count": 14,
   "id": "e3797c46",
   "metadata": {},
   "outputs": [
    {
     "name": "stdout",
     "output_type": "stream",
     "text": [
      "L=10 | NKeep=20 | NSweep=10 | iterative=True | two_site=True | Krylov_bases=5 | Lanczos_cutoff=0.01\n",
      "iter=0 | energy=-2.25 | time=0.0s\n",
      "iter=1 | energy=-2.25 | time=0.0263s\n",
      "iter=2 | energy=-2.25 | time=0.0519s\n",
      "iter=3 | energy=-2.25 | time=0.0776s\n",
      "iter=4 | energy=-2.25 | time=0.0979s\n",
      "iter=5 | energy=-2.25 | time=0.117s\n",
      "iter=6 | energy=-2.25 | time=0.136s\n",
      "iter=7 | energy=-2.25 | time=0.157s\n",
      "iter=8 | energy=-2.25 | time=0.176s\n",
      "iter=9 | energy=-2.25 | time=0.196s\n",
      "iter=10 | energy=-2.25 | time=0.215s\n"
     ]
    },
    {
     "data": {
      "text/plain": [
       "-2.25"
      ]
     },
     "execution_count": 14,
     "metadata": {},
     "output_type": "execute_result"
    }
   ],
   "source": [
    "ground_energies, ground_times, ground_MPS = DMRG(\n",
    "    Hamiltonian = Hamiltonian,\n",
    "    NKeep = NKeep,\n",
    "    NSweep = NSweep,\n",
    "    Krylov_bases = Krylov_bases,\n",
    "    Lanczos_cutoff = Lanczos_cutoff,\n",
    "    iterative_diag = iterative_diag,\n",
    "    two_site = two_site,\n",
    "    verbose = verbose,\n",
    ")\n",
    "\n",
    "eigvals[0]"
   ]
  },
  {
   "cell_type": "code",
   "execution_count": 15,
   "id": "e6373984",
   "metadata": {},
   "outputs": [
    {
     "name": "stdout",
     "output_type": "stream",
     "text": [
      "L=10 | NKeep=20 | NSweep=10 | iterative=False | two_site=True | Krylov_bases=5 | Lanczos_cutoff=0.01\n",
      "iter=0 | energy=0.050230742 | time=0.0s\n",
      "iter=1 | energy=-2.2499805 | time=0.208s\n",
      "iter=2 | energy=-2.2499805 | time=0.352s\n",
      "iter=3 | energy=-2.2499805 | time=0.462s\n",
      "iter=4 | energy=-2.2499805 | time=0.674s\n",
      "iter=5 | energy=-2.2499805 | time=0.799s\n",
      "iter=6 | energy=-2.2499805 | time=0.871s\n",
      "iter=7 | energy=-2.2499805 | time=0.997s\n",
      "iter=8 | energy=-2.2499805 | time=1.06s\n",
      "iter=9 | energy=-2.2499805 | time=1.13s\n",
      "iter=10 | energy=-2.2499805 | time=1.19s\n"
     ]
    },
    {
     "data": {
      "text/plain": [
       "-2.25"
      ]
     },
     "execution_count": 15,
     "metadata": {},
     "output_type": "execute_result"
    }
   ],
   "source": [
    "excited_energies, excited_times, excited_MPS = DMRG(\n",
    "    Hamiltonian = Hamiltonian,\n",
    "    NKeep = NKeep,\n",
    "    NSweep = NSweep,\n",
    "    Krylov_bases = Krylov_bases,\n",
    "    Lanczos_cutoff = Lanczos_cutoff,\n",
    "    iterative_diag = False,\n",
    "    orthogonal_to_list_of_MPS=[ground_MPS],\n",
    "    two_site = two_site,\n",
    "    verbose = verbose,\n",
    ")\n",
    "\n",
    "eigvals[1]"
   ]
  },
  {
   "metadata": {},
   "cell_type": "markdown",
   "source": "# XY model",
   "id": "868c1db8260264cb"
  },
  {
   "cell_type": "code",
   "id": "1bd6df94",
   "metadata": {
    "ExecuteTime": {
     "end_time": "2025-05-26T14:08:06.508505Z",
     "start_time": "2025-05-26T14:08:06.503642Z"
    }
   },
   "source": [
    "n_sites = 10\n",
    "\n",
    "J = -1.0\n",
    "Gamma = 1.0\n",
    "\n",
    "Hamiltonian = XY_model(\n",
    "    n_sites=n_sites, J=J, Gamma=Gamma,\n",
    ")\n",
    "MPO_transposed = [ham.transpose(2, 3, 0, 1) for ham in Hamiltonian]"
   ],
   "outputs": [],
   "execution_count": 6
  },
  {
   "cell_type": "code",
   "id": "04ebbe2e",
   "metadata": {
    "ExecuteTime": {
     "end_time": "2025-05-26T14:08:08.651388Z",
     "start_time": "2025-05-26T14:08:07.645851Z"
    }
   },
   "source": [
    "\"\"\"\n",
    "Get exact matrix (exponential barrier)\n",
    "\"\"\"\n",
    "\n",
    "matrix = MPO_to_Hamiltonian(MPO_transposed)\n",
    "eigvals, _ = np.linalg.eigh(matrix)\n",
    "eigvals[:10]"
   ],
   "outputs": [
    {
     "data": {
      "text/plain": [
       "array([-5.28482978, -4.75150298, -4.66134396, -4.53573529, -4.39498427,\n",
       "       -4.25373069, -4.12801717, -4.12188325, -4.00629712, -4.00240849])"
      ]
     },
     "execution_count": 7,
     "metadata": {},
     "output_type": "execute_result"
    }
   ],
   "execution_count": 7
  },
  {
   "cell_type": "code",
   "id": "9c0b25c3",
   "metadata": {
    "ExecuteTime": {
     "end_time": "2025-05-26T14:08:10.086880Z",
     "start_time": "2025-05-26T14:08:09.704895Z"
    }
   },
   "source": [
    "ground_energies, ground_times, ground_MPS = DMRG(\n",
    "    Hamiltonian = Hamiltonian,\n",
    "    NKeep = NKeep,\n",
    "    NSweep = NSweep,\n",
    "    Krylov_bases = Krylov_bases,\n",
    "    Lanczos_cutoff = Lanczos_cutoff,\n",
    "    iterative_diag = iterative_diag,\n",
    "    two_site = two_site,\n",
    "    verbose = verbose,\n",
    ")\n",
    "\n",
    "eigvals[0]"
   ],
   "outputs": [
    {
     "name": "stdout",
     "output_type": "stream",
     "text": [
      "L=10 | NKeep=20 | NSweep=10 | iterative=True | two_site=True | Krylov_bases=5 | Lanczos_cutoff=0.01\n",
      "iter=0 | energy=-5.2770168 | time=0.0s\n",
      "iter=1 | energy=-5.2848298 | time=0.0587s\n",
      "iter=2 | energy=-5.2848298 | time=0.0893s\n",
      "iter=3 | energy=-5.2848298 | time=0.118s\n",
      "iter=4 | energy=-5.2848298 | time=0.148s\n",
      "iter=5 | energy=-5.2848298 | time=0.178s\n",
      "iter=6 | energy=-5.2848298 | time=0.208s\n",
      "iter=7 | energy=-5.2848298 | time=0.236s\n",
      "iter=8 | energy=-5.2848298 | time=0.265s\n",
      "iter=9 | energy=-5.2848298 | time=0.304s\n",
      "iter=10 | energy=-5.2848298 | time=0.345s\n"
     ]
    },
    {
     "data": {
      "text/plain": [
       "np.float64(-5.2848297789078025)"
      ]
     },
     "execution_count": 8,
     "metadata": {},
     "output_type": "execute_result"
    }
   ],
   "execution_count": 8
  },
  {
   "cell_type": "code",
   "id": "ecad1032",
   "metadata": {
    "ExecuteTime": {
     "end_time": "2025-05-26T14:08:18.119747Z",
     "start_time": "2025-05-26T14:08:17.052177Z"
    }
   },
   "source": [
    "excited_energies, excited_times, excited_MPS = DMRG(\n",
    "    Hamiltonian = Hamiltonian,\n",
    "    NKeep = NKeep,\n",
    "    NSweep = NSweep,\n",
    "    Krylov_bases = Krylov_bases,\n",
    "    Lanczos_cutoff = Lanczos_cutoff,\n",
    "    iterative_diag = False,\n",
    "    orthogonal_to_list_of_MPS=[ground_MPS],\n",
    "    two_site = two_site,\n",
    "    verbose = verbose,\n",
    ")\n",
    "\n",
    "eigvals[1]"
   ],
   "outputs": [
    {
     "name": "stdout",
     "output_type": "stream",
     "text": [
      "L=10 | NKeep=20 | NSweep=10 | iterative=False | two_site=True | Krylov_bases=5 | Lanczos_cutoff=0.01\n",
      "iter=0 | energy=-0.043132269 | time=0.0s\n",
      "iter=1 | energy=-4.7511231 | time=0.161s\n",
      "iter=2 | energy=-4.7514289 | time=0.269s\n",
      "iter=3 | energy=-4.7514289 | time=0.366s\n",
      "iter=4 | energy=-4.7514289 | time=0.468s\n",
      "iter=5 | energy=-4.7514289 | time=0.581s\n",
      "iter=6 | energy=-4.7514289 | time=0.69s\n",
      "iter=7 | energy=-4.7514289 | time=0.777s\n",
      "iter=8 | energy=-4.7514289 | time=0.871s\n",
      "iter=9 | energy=-4.7514289 | time=0.955s\n",
      "iter=10 | energy=-4.7514289 | time=1.05s\n"
     ]
    },
    {
     "data": {
      "text/plain": [
       "np.float64(-4.751502980728416)"
      ]
     },
     "execution_count": 9,
     "metadata": {},
     "output_type": "execute_result"
    }
   ],
   "execution_count": 9
  },
  {
   "cell_type": "code",
   "id": "1016f9a8",
   "metadata": {
    "ExecuteTime": {
     "end_time": "2025-05-26T14:08:21.562420Z",
     "start_time": "2025-05-26T14:08:21.528087Z"
    }
   },
   "source": [
    "get_Neumann_entropy(ground_MPS)"
   ],
   "outputs": [
    {
     "data": {
      "text/plain": [
       "array([0.11924839, 0.12692302, 0.1279663 , 0.1281325 , 0.12815813,\n",
       "       0.12813472, 0.12797017, 0.12694886, 0.11927737])"
      ]
     },
     "execution_count": 10,
     "metadata": {},
     "output_type": "execute_result"
    }
   ],
   "execution_count": 10
  },
  {
   "cell_type": "code",
   "id": "c06f7a59",
   "metadata": {
    "ExecuteTime": {
     "end_time": "2025-05-26T14:08:23.120398Z",
     "start_time": "2025-05-26T14:08:23.085446Z"
    }
   },
   "source": [
    "get_Neumann_entropy(excited_MPS)"
   ],
   "outputs": [
    {
     "data": {
      "text/plain": [
       "array([0.2442514 , 0.49815053, 0.77345297, 0.97314738, 1.0329971 ,\n",
       "       0.93625976, 0.71811735, 0.45222302, 0.2233231 ])"
      ]
     },
     "execution_count": 11,
     "metadata": {},
     "output_type": "execute_result"
    }
   ],
   "execution_count": 11
  },
  {
   "cell_type": "code",
   "id": "8a142757",
   "metadata": {
    "ExecuteTime": {
     "end_time": "2025-05-26T14:27:36.982516Z",
     "start_time": "2025-05-26T14:27:36.977275Z"
    }
   },
   "source": [
    "import matplotlib.pyplot as plt\n",
    "from tqdm.auto import tqdm\n",
    "\n",
    "L = 40\n",
    "N_keep = 32\n",
    "sweeps = 10\n",
    "krylov = 5\n",
    "gammas = np.linspace(0, 1, 21)\n",
    "Js     = np.linspace(0.2 ,2, 19)"
   ],
   "outputs": [],
   "execution_count": 16
  },
  {
   "metadata": {
    "ExecuteTime": {
     "end_time": "2025-05-26T16:34:52.515953Z",
     "start_time": "2025-05-26T14:27:37.352245Z"
    }
   },
   "cell_type": "code",
   "source": [
    "E0  = np.zeros((len(Js), len(gammas)))\n",
    "gap = np.zeros_like(E0)\n",
    "SvN = np.zeros_like(E0)\n",
    "\n",
    "for iJ, J in enumerate(tqdm(Js, desc='J loop')):\n",
    "    for ig, gamma in enumerate(tqdm(gammas, desc='gamma loop', leave=False)):\n",
    "        # --- build MPO ------------\n",
    "        H_MPO = XY_model(n_sites=L, J=J, Gamma=gamma)\n",
    "\n",
    "        # --- ground state ---------------\n",
    "        (E_series, _, GS_MPS) = DMRG(\n",
    "            Hamiltonian = H_MPO,\n",
    "            NKeep       = N_keep,\n",
    "            NSweep      = sweeps,\n",
    "            Krylov_bases= krylov,\n",
    "            iterative_diag = True,\n",
    "            two_site    = True,\n",
    "            verbose     = False,\n",
    "        )\n",
    "        E0[iJ, ig] = E_series[-1].real\n",
    "\n",
    "        # --- first excited state (orthogonalized one further run) ----------\n",
    "        (E1_series, _, _) = DMRG(\n",
    "            Hamiltonian = H_MPO,\n",
    "            NKeep       = N_keep,\n",
    "            NSweep      = sweeps,\n",
    "            Krylov_bases= krylov,\n",
    "            iterative_diag = False,\n",
    "            two_site    = True,\n",
    "            orthogonal_to_list_of_MPS = [GS_MPS],  # ⟂ to ground state\n",
    "            verbose     = False,\n",
    "        )\n",
    "        gap[iJ, ig] = (E1_series[-1] - E0[iJ, ig]).real\n",
    "\n",
    "        # --- mid-chain entanglement entropy -----------\n",
    "        SvN_chain = get_Neumann_entropy(GS_MPS)\n",
    "        SvN[iJ, ig] = SvN_chain[L//2 - 1]           # cut at L/2\n",
    "\n",
    "# --------------------- plotting --------------------------------\n",
    "fig, axes = plt.subplots(1, 3, figsize=(18, 5))\n",
    "\n",
    "titles   = [r'Ground-state energy density $e_0$',\n",
    "            r'Spectral gap $\\Delta$',\n",
    "            r'Mid-chain entropy $S_{\\mathrm{vN}}$']\n",
    "data     = [E0 / L, gap, SvN]\n",
    "\n",
    "for ax, dat, title in zip(axes, data, titles):\n",
    "    im = ax.imshow(dat,\n",
    "                   origin='lower',\n",
    "                   extent=[gammas[0], gammas[-1],\n",
    "                               Js[0],    Js[-1]],\n",
    "                   aspect='auto')\n",
    "    ax.set_title(title, fontsize=13)\n",
    "    ax.set_xlabel(r'$\\gamma$')\n",
    "    ax.set_ylabel(r'$J$')\n",
    "    fig.colorbar(im, ax=ax, fraction=0.046)\n",
    "\n",
    "plt.tight_layout()\n",
    "plt.show()"
   ],
   "id": "11e1fa9bb09a544f",
   "outputs": [
    {
     "data": {
      "text/plain": [
       "J loop:   0%|          | 0/19 [00:00<?, ?it/s]"
      ],
      "application/vnd.jupyter.widget-view+json": {
       "version_major": 2,
       "version_minor": 0,
       "model_id": "a13819ead30e4419a974130c0d12c606"
      }
     },
     "metadata": {},
     "output_type": "display_data"
    },
    {
     "data": {
      "text/plain": [
       "gamma loop:   0%|          | 0/21 [00:00<?, ?it/s]"
      ],
      "application/vnd.jupyter.widget-view+json": {
       "version_major": 2,
       "version_minor": 0,
       "model_id": "d428e4e5b60f4ff8a54a5be8d9ce4818"
      }
     },
     "metadata": {},
     "output_type": "display_data"
    },
    {
     "data": {
      "text/plain": [
       "gamma loop:   0%|          | 0/21 [00:00<?, ?it/s]"
      ],
      "application/vnd.jupyter.widget-view+json": {
       "version_major": 2,
       "version_minor": 0,
       "model_id": "75e36958b1564b97b998ae1f63504359"
      }
     },
     "metadata": {},
     "output_type": "display_data"
    },
    {
     "ename": "KeyboardInterrupt",
     "evalue": "",
     "output_type": "error",
     "traceback": [
      "\u001B[31m---------------------------------------------------------------------------\u001B[39m",
      "\u001B[31mKeyboardInterrupt\u001B[39m                         Traceback (most recent call last)",
      "\u001B[36mCell\u001B[39m\u001B[36m \u001B[39m\u001B[32mIn[17]\u001B[39m\u001B[32m, line 23\u001B[39m\n\u001B[32m     20\u001B[39m E0[iJ, ig] = E_series[-\u001B[32m1\u001B[39m].real\n\u001B[32m     22\u001B[39m \u001B[38;5;66;03m# --- first excited state (orthogonalized one further run) ----------\u001B[39;00m\n\u001B[32m---> \u001B[39m\u001B[32m23\u001B[39m (E1_series, _, _) = \u001B[43mDMRG\u001B[49m\u001B[43m(\u001B[49m\n\u001B[32m     24\u001B[39m \u001B[43m    \u001B[49m\u001B[43mHamiltonian\u001B[49m\u001B[43m \u001B[49m\u001B[43m=\u001B[49m\u001B[43m \u001B[49m\u001B[43mH_MPO\u001B[49m\u001B[43m,\u001B[49m\n\u001B[32m     25\u001B[39m \u001B[43m    \u001B[49m\u001B[43mNKeep\u001B[49m\u001B[43m       \u001B[49m\u001B[43m=\u001B[49m\u001B[43m \u001B[49m\u001B[43mN_keep\u001B[49m\u001B[43m,\u001B[49m\n\u001B[32m     26\u001B[39m \u001B[43m    \u001B[49m\u001B[43mNSweep\u001B[49m\u001B[43m      \u001B[49m\u001B[43m=\u001B[49m\u001B[43m \u001B[49m\u001B[43msweeps\u001B[49m\u001B[43m,\u001B[49m\n\u001B[32m     27\u001B[39m \u001B[43m    \u001B[49m\u001B[43mKrylov_bases\u001B[49m\u001B[43m=\u001B[49m\u001B[43m \u001B[49m\u001B[43mkrylov\u001B[49m\u001B[43m,\u001B[49m\n\u001B[32m     28\u001B[39m \u001B[43m    \u001B[49m\u001B[43miterative_diag\u001B[49m\u001B[43m \u001B[49m\u001B[43m=\u001B[49m\u001B[43m \u001B[49m\u001B[38;5;28;43;01mFalse\u001B[39;49;00m\u001B[43m,\u001B[49m\n\u001B[32m     29\u001B[39m \u001B[43m    \u001B[49m\u001B[43mtwo_site\u001B[49m\u001B[43m    \u001B[49m\u001B[43m=\u001B[49m\u001B[43m \u001B[49m\u001B[38;5;28;43;01mTrue\u001B[39;49;00m\u001B[43m,\u001B[49m\n\u001B[32m     30\u001B[39m \u001B[43m    \u001B[49m\u001B[43morthogonal_to_list_of_MPS\u001B[49m\u001B[43m \u001B[49m\u001B[43m=\u001B[49m\u001B[43m \u001B[49m\u001B[43m[\u001B[49m\u001B[43mGS_MPS\u001B[49m\u001B[43m]\u001B[49m\u001B[43m,\u001B[49m\u001B[43m  \u001B[49m\u001B[38;5;66;43;03m# ⟂ to ground state\u001B[39;49;00m\n\u001B[32m     31\u001B[39m \u001B[43m    \u001B[49m\u001B[43mverbose\u001B[49m\u001B[43m     \u001B[49m\u001B[43m=\u001B[49m\u001B[43m \u001B[49m\u001B[38;5;28;43;01mFalse\u001B[39;49;00m\u001B[43m,\u001B[49m\n\u001B[32m     32\u001B[39m \u001B[43m\u001B[49m\u001B[43m)\u001B[49m\n\u001B[32m     33\u001B[39m gap[iJ, ig] = (E1_series[-\u001B[32m1\u001B[39m] - E0[iJ, ig]).real\n\u001B[32m     35\u001B[39m \u001B[38;5;66;03m# --- mid-chain entanglement entropy -----------\u001B[39;00m\n",
      "\u001B[36mFile \u001B[39m\u001B[32m~\\OneDrive\\Desktop\\김준수\\4-1\\CLP\\FinalProject\\python\\DMRG.py:118\u001B[39m, in \u001B[36mDMRG\u001B[39m\u001B[34m(Hamiltonian, NKeep, NSweep, iterative_diag, two_site, Krylov_bases, Lanczos_cutoff, orthogonal_to_list_of_MPS, verbose)\u001B[39m\n\u001B[32m    115\u001B[39m now = time.perf_counter()\n\u001B[32m    117\u001B[39m \u001B[38;5;28;01mif\u001B[39;00m two_site:\n\u001B[32m--> \u001B[39m\u001B[32m118\u001B[39m      energies, MPS = \u001B[43msweep_with_two_site_update\u001B[49m\u001B[43m(\u001B[49m\n\u001B[32m    119\u001B[39m \u001B[43m          \u001B[49m\u001B[43mMPS\u001B[49m\u001B[43m \u001B[49m\u001B[43m=\u001B[49m\u001B[43m \u001B[49m\u001B[43mMPS\u001B[49m\u001B[43m,\u001B[49m\n\u001B[32m    120\u001B[39m \u001B[43m          \u001B[49m\u001B[43mHamiltonian\u001B[49m\u001B[43m \u001B[49m\u001B[43m=\u001B[49m\u001B[43m \u001B[49m\u001B[43mHamiltonian\u001B[49m\u001B[43m,\u001B[49m\n\u001B[32m    121\u001B[39m \u001B[43m          \u001B[49m\u001B[43mcontract_list_left\u001B[49m\u001B[43m \u001B[49m\u001B[43m=\u001B[49m\u001B[43m \u001B[49m\u001B[43mcontract_list_left\u001B[49m\u001B[43m,\u001B[49m\n\u001B[32m    122\u001B[39m \u001B[43m          \u001B[49m\u001B[43mcontract_list_right\u001B[49m\u001B[43m \u001B[49m\u001B[43m=\u001B[49m\u001B[43m \u001B[49m\u001B[43mcontract_list_right\u001B[49m\u001B[43m,\u001B[49m\n\u001B[32m    123\u001B[39m \u001B[43m          \u001B[49m\u001B[43mNKeep\u001B[49m\u001B[43m \u001B[49m\u001B[43m=\u001B[49m\u001B[43m \u001B[49m\u001B[43mNKeep\u001B[49m\u001B[43m,\u001B[49m\n\u001B[32m    124\u001B[39m \u001B[43m          \u001B[49m\u001B[43mKrylov_bases\u001B[49m\u001B[43m \u001B[49m\u001B[43m=\u001B[49m\u001B[43m \u001B[49m\u001B[43mKrylov_bases\u001B[49m\u001B[43m,\u001B[49m\n\u001B[32m    125\u001B[39m \u001B[43m          \u001B[49m\u001B[43mLanczos_cutoff\u001B[49m\u001B[43m \u001B[49m\u001B[43m=\u001B[49m\u001B[43m \u001B[49m\u001B[43mLanczos_cutoff\u001B[49m\u001B[43m,\u001B[49m\n\u001B[32m    126\u001B[39m \u001B[43m          \u001B[49m\u001B[43morthogonal_to_list_of_MPS\u001B[49m\u001B[43m \u001B[49m\u001B[43m=\u001B[49m\u001B[43m \u001B[49m\u001B[43morthogonal_to_list_of_MPS\u001B[49m\u001B[43m,\u001B[49m\n\u001B[32m    127\u001B[39m \u001B[43m     \u001B[49m\u001B[43m)\u001B[49m\n\u001B[32m    129\u001B[39m \u001B[38;5;28;01melse\u001B[39;00m:\n\u001B[32m    130\u001B[39m      energies, MPS = sweep_with_single_site_update(\n\u001B[32m    131\u001B[39m           MPS = MPS,\n\u001B[32m    132\u001B[39m           Hamiltonian = Hamiltonian,\n\u001B[32m   (...)\u001B[39m\u001B[32m    137\u001B[39m           orthogonal_to_list_of_MPS = orthogonal_to_list_of_MPS,\n\u001B[32m    138\u001B[39m      )\n",
      "\u001B[36mFile \u001B[39m\u001B[32m~\\OneDrive\\Desktop\\김준수\\4-1\\CLP\\FinalProject\\python\\DMRG.py:535\u001B[39m, in \u001B[36msweep_with_two_site_update\u001B[39m\u001B[34m(MPS, Hamiltonian, contract_list_left, contract_list_right, NKeep, Krylov_bases, Lanczos_cutoff, orthogonal_to_list_of_MPS)\u001B[39m\n\u001B[32m    532\u001B[39m           MPS_without_orthogonality_center[orthogonality_center-\u001B[32m1\u001B[39m] = \u001B[38;5;28;01mNone\u001B[39;00m\n\u001B[32m    533\u001B[39m           MPS_without_orthogonality_center[orthogonality_center] = \u001B[38;5;28;01mNone\u001B[39;00m\n\u001B[32m--> \u001B[39m\u001B[32m535\u001B[39m           constraint_mps = \u001B[43mMPS_MPS_overlap\u001B[49m\u001B[43m(\u001B[49m\n\u001B[32m    536\u001B[39m \u001B[43m               \u001B[49m\u001B[43morthogonal_MPS\u001B[49m\u001B[43m,\u001B[49m\u001B[43m \u001B[49m\u001B[43mMPS_without_orthogonality_center\u001B[49m\n\u001B[32m    537\u001B[39m \u001B[43m          \u001B[49m\u001B[43m)\u001B[49m\n\u001B[32m    539\u001B[39m           constraints.append(constraint_mps)\n\u001B[32m    541\u001B[39m initial_vector = Contract(\u001B[33m\"\u001B[39m\u001B[33miak,ajl->ijkl\u001B[39m\u001B[33m\"\u001B[39m, initial_vector1, initial_vector2)\n",
      "\u001B[36mFile \u001B[39m\u001B[32m~\\OneDrive\\Desktop\\김준수\\4-1\\CLP\\FinalProject\\python\\Zippers.py:39\u001B[39m, in \u001B[36mMPS_MPS_overlap\u001B[39m\u001B[34m(MPS1, MPS2, conj)\u001B[39m\n\u001B[32m     36\u001B[39m \u001B[38;5;28;01melse\u001B[39;00m:\n\u001B[32m     37\u001B[39m     \u001B[38;5;66;03m# print(f\"{mps1.shape=}, {mps2.shape=}\")\u001B[39;00m\n\u001B[32m     38\u001B[39m     \u001B[38;5;28;01mif\u001B[39;00m conj:\n\u001B[32m---> \u001B[39m\u001B[32m39\u001B[39m         overlap = \u001B[43mmps_mps\u001B[49m\u001B[43m(\u001B[49m\u001B[43moverlap\u001B[49m\u001B[43m,\u001B[49m\u001B[43m \u001B[49m\u001B[43mmps1\u001B[49m\u001B[43m,\u001B[49m\u001B[43m \u001B[49m\u001B[43mmps2\u001B[49m\u001B[43m.\u001B[49m\u001B[43mconj\u001B[49m\u001B[43m(\u001B[49m\u001B[43m)\u001B[49m\u001B[43m,\u001B[49m\u001B[43m \u001B[49m\u001B[43mbackward\u001B[49m\u001B[43m)\u001B[49m\n\u001B[32m     40\u001B[39m     \u001B[38;5;28;01melse\u001B[39;00m:\n\u001B[32m     41\u001B[39m         overlap = mps_mps(overlap, mps1, mps2, backward)\n",
      "\u001B[36mFile \u001B[39m\u001B[32m~\\OneDrive\\Desktop\\김준수\\4-1\\CLP\\FinalProject\\python\\Zippers.py:74\u001B[39m, in \u001B[36mmps_mps\u001B[39m\u001B[34m(tensor, mps1, mps2, backward)\u001B[39m\n\u001B[32m     71\u001B[39m new = mps_none(tensor, mps1)\n\u001B[32m     73\u001B[39m \u001B[38;5;28;01mif\u001B[39;00m backward:\n\u001B[32m---> \u001B[39m\u001B[32m74\u001B[39m     new = \u001B[43mTensordot\u001B[49m\u001B[43m(\u001B[49m\n\u001B[32m     75\u001B[39m \u001B[43m        \u001B[49m\u001B[43mnew\u001B[49m\u001B[43m,\u001B[49m\u001B[43m \u001B[49m\u001B[43mmps2\u001B[49m\u001B[43m,\u001B[49m\u001B[43m \u001B[49m\u001B[43maxes\u001B[49m\u001B[43m=\u001B[49m\u001B[43m[\u001B[49m\u001B[43m(\u001B[49m\u001B[32;43m1\u001B[39;49m\u001B[43m,\u001B[49m\u001B[43m \u001B[49m\u001B[38;5;28;43mlen\u001B[39;49m\u001B[43m(\u001B[49m\u001B[43mnew\u001B[49m\u001B[43m.\u001B[49m\u001B[43mshape\u001B[49m\u001B[43m)\u001B[49m\u001B[43m-\u001B[49m\u001B[32;43m1\u001B[39;49m\u001B[43m)\u001B[49m\u001B[43m,\u001B[49m\u001B[43m \u001B[49m\u001B[43m(\u001B[49m\u001B[32;43m0\u001B[39;49m\u001B[43m,\u001B[49m\u001B[43m \u001B[49m\u001B[32;43m2\u001B[39;49m\u001B[43m)\u001B[49m\u001B[43m]\u001B[49m\n\u001B[32m     76\u001B[39m \u001B[43m    \u001B[49m\u001B[43m)\u001B[49m\n\u001B[32m     78\u001B[39m     ord_new = \u001B[38;5;28mlen\u001B[39m(new.shape)\n\u001B[32m     79\u001B[39m     lst = [i \u001B[38;5;28;01mfor\u001B[39;00m i \u001B[38;5;129;01min\u001B[39;00m \u001B[38;5;28mrange\u001B[39m(ord_new)]\n",
      "\u001B[36mFile \u001B[39m\u001B[32m~\\OneDrive\\Desktop\\김준수\\4-1\\CLP\\FinalProject\\python\\Contract.py:148\u001B[39m, in \u001B[36mTensordot\u001B[39m\u001B[34m(tensor1, tensor2, axes)\u001B[39m\n\u001B[32m    136\u001B[39m \u001B[38;5;28;01massert\u001B[39;00m np.isfinite(tensor2).all(), \u001B[33mf\u001B[39m\u001B[33m\"\u001B[39m\u001B[33mtensor2 is not finite\u001B[39m\u001B[38;5;130;01m\\n\u001B[39;00m\u001B[38;5;132;01m{\u001B[39;00mtensor2\u001B[38;5;132;01m=}\u001B[39;00m\u001B[33m\"\u001B[39m\n\u001B[32m    138\u001B[39m \u001B[38;5;28;01mtry\u001B[39;00m:\n\u001B[32m    139\u001B[39m     \u001B[38;5;66;03m# return np.tensordot(\u001B[39;00m\n\u001B[32m    140\u001B[39m     \u001B[38;5;66;03m#     tensor1, tensor2, axes=axes), round_sig(time.perf_counter()-now)\u001B[39;00m\n\u001B[32m   (...)\u001B[39m\u001B[32m    146\u001B[39m \n\u001B[32m    147\u001B[39m     \u001B[38;5;66;03m# else:\u001B[39;00m\n\u001B[32m--> \u001B[39m\u001B[32m148\u001B[39m     \u001B[38;5;28;01mreturn\u001B[39;00m \u001B[43mnp\u001B[49m\u001B[43m.\u001B[49m\u001B[43mtensordot\u001B[49m\u001B[43m(\u001B[49m\n\u001B[32m    149\u001B[39m \u001B[43m        \u001B[49m\u001B[43mtensor1\u001B[49m\u001B[43m,\u001B[49m\u001B[43m \u001B[49m\u001B[43mtensor2\u001B[49m\u001B[43m,\u001B[49m\u001B[43m \u001B[49m\u001B[43maxes\u001B[49m\u001B[43m=\u001B[49m\u001B[43maxes\u001B[49m\n\u001B[32m    150\u001B[39m \u001B[43m    \u001B[49m\u001B[43m)\u001B[49m\n\u001B[32m    152\u001B[39m \u001B[38;5;28;01mexcept\u001B[39;00m \u001B[38;5;167;01mException\u001B[39;00m \u001B[38;5;28;01mas\u001B[39;00m e:\n\u001B[32m    153\u001B[39m     \u001B[38;5;28mprint\u001B[39m(\u001B[33mf\u001B[39m\u001B[33m\"\u001B[39m\u001B[33mTensordot error\u001B[39m\u001B[38;5;130;01m\\n\u001B[39;00m\u001B[38;5;132;01m{\u001B[39;00me\u001B[38;5;132;01m}\u001B[39;00m\u001B[38;5;130;01m\\n\u001B[39;00m\u001B[38;5;132;01m{\u001B[39;00mtensor1.shape\u001B[38;5;132;01m=}\u001B[39;00m\u001B[38;5;130;01m\\n\u001B[39;00m\u001B[38;5;132;01m{\u001B[39;00mtensor2.shape\u001B[38;5;132;01m=}\u001B[39;00m\u001B[38;5;130;01m\\n\u001B[39;00m\u001B[38;5;132;01m{\u001B[39;00maxes\u001B[38;5;132;01m=}\u001B[39;00m\u001B[33m\"\u001B[39m)\n",
      "\u001B[36mFile \u001B[39m\u001B[32m~\\AppData\\Local\\Programs\\Python\\Python312\\Lib\\site-packages\\numpy\\_core\\numeric.py:1175\u001B[39m, in \u001B[36mtensordot\u001B[39m\u001B[34m(a, b, axes)\u001B[39m\n\u001B[32m   1172\u001B[39m newshape_b = (N2, math.prod([bs[ax] \u001B[38;5;28;01mfor\u001B[39;00m ax \u001B[38;5;129;01min\u001B[39;00m notin]))\n\u001B[32m   1173\u001B[39m oldb = [bs[axis] \u001B[38;5;28;01mfor\u001B[39;00m axis \u001B[38;5;129;01min\u001B[39;00m notin]\n\u001B[32m-> \u001B[39m\u001B[32m1175\u001B[39m at = \u001B[43ma\u001B[49m\u001B[43m.\u001B[49m\u001B[43mtranspose\u001B[49m\u001B[43m(\u001B[49m\u001B[43mnewaxes_a\u001B[49m\u001B[43m)\u001B[49m\u001B[43m.\u001B[49m\u001B[43mreshape\u001B[49m\u001B[43m(\u001B[49m\u001B[43mnewshape_a\u001B[49m\u001B[43m)\u001B[49m\n\u001B[32m   1176\u001B[39m bt = b.transpose(newaxes_b).reshape(newshape_b)\n\u001B[32m   1177\u001B[39m res = dot(at, bt)\n",
      "\u001B[31mKeyboardInterrupt\u001B[39m: "
     ]
    }
   ],
   "execution_count": 17
  },
  {
   "metadata": {},
   "cell_type": "code",
   "outputs": [],
   "execution_count": null,
   "source": [
    "import pickle, datetime, pathlib\n",
    "\n",
    "results = {\n",
    "    \"timestamp\"   : datetime.datetime.now().isoformat(),\n",
    "    \"system_size\" : L,\n",
    "    \"bond_dim\"    : N_keep,\n",
    "    \"sweeps\"      : sweeps,\n",
    "    \"gamma_vals\"  : gammas,\n",
    "    \"J_vals\"      : Js,\n",
    "    \"E0\"          : E0,            # ground-state energy\n",
    "    \"gap\"         : gap,           # spectral gap\n",
    "    \"SvN\"         : SvN,           # mid-chain von-Neumann entropy\n",
    "}\n",
    "\n",
    "fname = pathlib.Path(f\"XY_phase_diag_L{L}_chi{N_keep}.pkl\").as_posix()\n",
    "with open(fname, \"wb\") as f:\n",
    "    pickle.dump(results, f)\n",
    "\n",
    "print(f\"✔  Saved to {fname}\")"
   ],
   "id": "e7a3d1daf6d59ebe"
  }
 ],
 "metadata": {
  "kernelspec": {
   "display_name": "latest",
   "language": "python",
   "name": "python3"
  },
  "language_info": {
   "codemirror_mode": {
    "name": "ipython",
    "version": 3
   },
   "file_extension": ".py",
   "mimetype": "text/x-python",
   "name": "python",
   "nbconvert_exporter": "python",
   "pygments_lexer": "ipython3",
   "version": "3.11.4"
  }
 },
 "nbformat": 4,
 "nbformat_minor": 5
}
