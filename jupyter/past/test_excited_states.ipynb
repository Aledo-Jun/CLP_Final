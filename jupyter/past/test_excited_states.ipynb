{
 "cells": [
  {
   "cell_type": "code",
   "execution_count": null,
   "id": "5ddae0c7",
   "metadata": {},
   "outputs": [],
   "source": [
    "import numpy as np\n",
    "import sys\n",
    "import itertools as itertools\n",
    "sys.path.append(\"..\")\n",
    "\n",
    "import matplotlib.pyplot as plt\n",
    "from python.Spinless import Spinless_fermions, get_exact_gs_energy_spinless_fermions, get_eigvals_single_ptcl\n",
    "from python.DMRG import DMRG\n",
    "from python.Zippers import MPO_to_Hamiltonian, contract_MPS"
   ]
  },
  {
   "cell_type": "code",
   "execution_count": 22,
   "id": "29428d93",
   "metadata": {},
   "outputs": [],
   "source": [
    "n_sites = 4\n",
    "\n",
    "hopping_amps_uniform = np.array([1.0 for _ in range(n_sites)])\n",
    "\n",
    "Hamiltonian_uniform = Spinless_fermions(hopping_amps_uniform)\n",
    "exact_gs_uniform = get_exact_gs_energy_spinless_fermions(hopping_amps_uniform)\n",
    "single_ptcl_eigvals = get_eigvals_single_ptcl(hopping_amps_uniform)"
   ]
  },
  {
   "cell_type": "code",
   "execution_count": 23,
   "id": "282e1f51",
   "metadata": {},
   "outputs": [
    {
     "data": {
      "text/plain": [
       "array([-1.61803399, -0.61803399,  0.61803399,  1.61803399])"
      ]
     },
     "execution_count": 23,
     "metadata": {},
     "output_type": "execute_result"
    }
   ],
   "source": [
    "single_ptcl_eigvals"
   ]
  },
  {
   "cell_type": "code",
   "execution_count": 24,
   "id": "cbd26abb",
   "metadata": {},
   "outputs": [
    {
     "data": {
      "text/plain": [
       "array([-2.23606798, -1.61803399, -1.61803399, -1.        , -0.61803399,\n",
       "       -0.61803399,  0.        ,  0.        ,  0.        ,  0.        ,\n",
       "        0.61803399,  0.61803399,  1.        ,  1.61803399,  1.61803399,\n",
       "        2.23606798])"
      ]
     },
     "execution_count": 24,
     "metadata": {},
     "output_type": "execute_result"
    }
   ],
   "source": [
    "MPO_transposed = [ham.transpose(2, 3, 0, 1) for ham in Hamiltonian_uniform]\n",
    "matrix = MPO_to_Hamiltonian(MPO_transposed)\n",
    "eigvals, _ = np.linalg.eigh(matrix)\n",
    "eigvals"
   ]
  },
  {
   "cell_type": "code",
   "execution_count": 26,
   "id": "b6f76e96",
   "metadata": {},
   "outputs": [
    {
     "data": {
      "text/plain": [
       "array([[0., 0., 0., 0., 0., 0., 0., 0., 0., 0., 0., 0., 0., 0., 0., 0.],\n",
       "       [0., 0., 1., 0., 0., 0., 0., 0., 0., 0., 0., 0., 0., 0., 0., 0.],\n",
       "       [0., 1., 0., 0., 1., 0., 0., 0., 0., 0., 0., 0., 0., 0., 0., 0.],\n",
       "       [0., 0., 0., 0., 0., 1., 0., 0., 0., 0., 0., 0., 0., 0., 0., 0.],\n",
       "       [0., 0., 1., 0., 0., 0., 0., 0., 1., 0., 0., 0., 0., 0., 0., 0.],\n",
       "       [0., 0., 0., 1., 0., 0., 1., 0., 0., 1., 0., 0., 0., 0., 0., 0.],\n",
       "       [0., 0., 0., 0., 0., 1., 0., 0., 0., 0., 1., 0., 0., 0., 0., 0.],\n",
       "       [0., 0., 0., 0., 0., 0., 0., 0., 0., 0., 0., 1., 0., 0., 0., 0.],\n",
       "       [0., 0., 0., 0., 1., 0., 0., 0., 0., 0., 0., 0., 0., 0., 0., 0.],\n",
       "       [0., 0., 0., 0., 0., 1., 0., 0., 0., 0., 1., 0., 0., 0., 0., 0.],\n",
       "       [0., 0., 0., 0., 0., 0., 1., 0., 0., 1., 0., 0., 1., 0., 0., 0.],\n",
       "       [0., 0., 0., 0., 0., 0., 0., 1., 0., 0., 0., 0., 0., 1., 0., 0.],\n",
       "       [0., 0., 0., 0., 0., 0., 0., 0., 0., 0., 1., 0., 0., 0., 0., 0.],\n",
       "       [0., 0., 0., 0., 0., 0., 0., 0., 0., 0., 0., 1., 0., 0., 1., 0.],\n",
       "       [0., 0., 0., 0., 0., 0., 0., 0., 0., 0., 0., 0., 0., 1., 0., 0.],\n",
       "       [0., 0., 0., 0., 0., 0., 0., 0., 0., 0., 0., 0., 0., 0., 0., 0.]])"
      ]
     },
     "execution_count": 26,
     "metadata": {},
     "output_type": "execute_result"
    }
   ],
   "source": [
    "matrix"
   ]
  },
  {
   "cell_type": "code",
   "execution_count": 46,
   "id": "8136b6a8",
   "metadata": {},
   "outputs": [],
   "source": [
    "NKeep = 10\n",
    "NSweep = 10\n",
    "Krylov_bases = 5 #* 5 is usually enough\n",
    "Lanczos_cutoff = 1e-2 #* Lanczos cutoff\n",
    "# iterative_diag = True\n",
    "# two_site = True\n",
    "verbose = True"
   ]
  },
  {
   "cell_type": "code",
   "execution_count": 47,
   "id": "c80122a1",
   "metadata": {},
   "outputs": [
    {
     "name": "stdout",
     "output_type": "stream",
     "text": [
      "L=10 | NKeep=10 | NSweep=10 | iterative=False | two_site=False | Krylov_bases=5 | Lanczos_cutoff=0.01\n",
      "iter=0 | energy=0.16442432 | time=0.0s\n",
      "iter=1 | energy=-6.0259785 | time=0.0611s\n",
      "iter=2 | energy=-6.0266118 | time=0.103s\n",
      "iter=3 | energy=-6.0266118 | time=0.124s\n",
      "iter=4 | energy=-6.0266118 | time=0.148s\n",
      "iter=5 | energy=-6.0266118 | time=0.167s\n",
      "iter=6 | energy=-6.0266118 | time=0.186s\n",
      "iter=7 | energy=-6.0266118 | time=0.207s\n",
      "iter=8 | energy=-6.0266118 | time=0.229s\n",
      "iter=9 | energy=-6.0266118 | time=0.248s\n",
      "iter=10 | energy=-6.0266118 | time=0.267s\n",
      "L=10 | NKeep=10 | NSweep=10 | iterative=False | two_site=True | Krylov_bases=5 | Lanczos_cutoff=0.01\n",
      "iter=0 | energy=0.27967553 | time=0.0s\n",
      "iter=1 | energy=-6.0266357 | time=0.0797s\n",
      "iter=2 | energy=-6.0266357 | time=0.103s\n",
      "iter=3 | energy=-6.0266357 | time=0.127s\n"
     ]
    },
    {
     "name": "stderr",
     "output_type": "stream",
     "text": [
      "/home/sungbinlee/miniconda3/envs/latest/lib/python3.11/site-packages/matplotlib/cbook.py:1699: ComplexWarning: Casting complex values to real discards the imaginary part\n",
      "  return math.isfinite(val)\n",
      "/home/sungbinlee/miniconda3/envs/latest/lib/python3.11/site-packages/matplotlib/cbook.py:1345: ComplexWarning: Casting complex values to real discards the imaginary part\n",
      "  return np.asarray(x, float)\n"
     ]
    },
    {
     "name": "stdout",
     "output_type": "stream",
     "text": [
      "iter=4 | energy=-6.0266357 | time=0.152s\n",
      "iter=5 | energy=-6.0266357 | time=0.179s\n",
      "iter=6 | energy=-6.0266357 | time=0.204s\n",
      "iter=7 | energy=-6.0266357 | time=0.23s\n",
      "iter=8 | energy=-6.0266357 | time=0.256s\n",
      "iter=9 | energy=-6.0266357 | time=0.281s\n",
      "iter=10 | energy=-6.0266357 | time=0.305s\n",
      "L=10 | NKeep=10 | NSweep=10 | iterative=True | two_site=False | Krylov_bases=5 | Lanczos_cutoff=0.01\n",
      "iter=0 | energy=-6.0238599 | time=0.0s\n",
      "iter=1 | energy=-6.0266551 | time=0.0409s\n",
      "iter=2 | energy=-6.0266551 | time=0.0671s\n",
      "iter=3 | energy=-6.0266551 | time=0.0912s\n",
      "iter=4 | energy=-6.0266551 | time=0.109s\n",
      "iter=5 | energy=-6.0266551 | time=0.128s\n",
      "iter=6 | energy=-6.0266551 | time=0.146s\n",
      "iter=7 | energy=-6.0266551 | time=0.166s\n",
      "iter=8 | energy=-6.0266551 | time=0.185s\n",
      "iter=9 | energy=-6.0266551 | time=0.204s\n",
      "iter=10 | energy=-6.0266551 | time=0.224s\n",
      "L=10 | NKeep=10 | NSweep=10 | iterative=True | two_site=True | Krylov_bases=5 | Lanczos_cutoff=0.01\n",
      "iter=0 | energy=-6.0238599 | time=0.0s\n",
      "iter=1 | energy=-6.0266551 | time=0.0494s\n",
      "iter=2 | energy=-6.0266551 | time=0.0805s\n",
      "iter=3 | energy=-6.0266551 | time=0.106s\n",
      "iter=4 | energy=-6.0266551 | time=0.134s\n",
      "iter=5 | energy=-6.0266551 | time=0.163s\n",
      "iter=6 | energy=-6.0266551 | time=0.19s\n",
      "iter=7 | energy=-6.0266551 | time=0.215s\n",
      "iter=8 | energy=-6.0266551 | time=0.241s\n",
      "iter=9 | energy=-6.0266551 | time=0.267s\n",
      "iter=10 | energy=-6.0266551 | time=0.292s\n"
     ]
    },
    {
     "data": {
      "text/plain": [
       "Text(0, 0.5, 'Absolute error')"
      ]
     },
     "execution_count": 47,
     "metadata": {},
     "output_type": "execute_result"
    },
    {
     "data": {
      "image/png": "[encoded data removed]",
      "text/plain": [
       "<Figure size 640x480 with 1 Axes>"
      ]
     },
     "metadata": {},
     "output_type": "display_data"
    }
   ],
   "source": [
    "fig, ax = plt.subplots(1, 1)\n",
    "\n",
    "label1s = [\"random\", \"iter_diag\"]\n",
    "label2s = [\"single_site\", \"two_site\"]\n",
    "\n",
    "iterative_diags = [False, True]\n",
    "two_sites = [False, True]\n",
    "\n",
    "for it1, iterative_diag in enumerate(iterative_diags):\n",
    "    for it2, two_site in enumerate(two_sites):\n",
    "        energies_uniform, times_uniform, MPS_uniform = DMRG(\n",
    "            Hamiltonian = Hamiltonian_uniform,\n",
    "            NKeep = NKeep,\n",
    "            NSweep = NSweep,\n",
    "            Krylov_bases = Krylov_bases,\n",
    "            Lanczos_cutoff = Lanczos_cutoff,\n",
    "            iterative_diag = iterative_diag,\n",
    "            two_site = two_site,\n",
    "            verbose = verbose,\n",
    "        )\n",
    "        \n",
    "        ax.plot(energies_uniform - exact_gs_uniform, label = f\"{label1s[it1]} {label2s[it2]}\")\n",
    "\n",
    "ax.set_xlim(0, n_sites*2*NSweep)\n",
    "ax.set_yscale(\"log\")\n",
    "ax.legend()\n",
    "\n",
    "ax.set_xlabel(r\"Iterations\")\n",
    "ax.set_ylabel(r\"Absolute error\")"
   ]
  },
  {
   "cell_type": "code",
   "execution_count": 48,
   "id": "77c266aa",
   "metadata": {},
   "outputs": [
    {
     "name": "stdout",
     "output_type": "stream",
     "text": [
      "L=10 | NKeep=10 | NSweep=10 | iterative=True | two_site=True | Krylov_bases=5 | Lanczos_cutoff=0.01\n",
      "iter=0 | energy=-6.0238599 | time=0.0s\n",
      "iter=1 | energy=-5.4561244 | time=0.124s\n",
      "iter=2 | energy=-5.4561633 | time=0.214s\n",
      "iter=3 | energy=-5.7419697 | time=0.338s\n",
      "iter=4 | energy=-5.741982 | time=0.447s\n",
      "iter=5 | energy=-5.7419822 | time=0.525s\n",
      "iter=6 | energy=-5.7419823 | time=0.628s\n",
      "iter=7 | energy=-5.7419823 | time=0.758s\n",
      "iter=8 | energy=-5.7419823 | time=0.851s\n",
      "iter=9 | energy=-5.7419823 | time=0.991s\n",
      "iter=10 | energy=-5.7419823 | time=1.13s\n"
     ]
    }
   ],
   "source": [
    "energies_uniform_excited, times_uniform_excited, MPS_uniform_excited = DMRG(\n",
    "    Hamiltonian = Hamiltonian_uniform,\n",
    "    NKeep = NKeep,\n",
    "    NSweep = NSweep,\n",
    "    Krylov_bases = Krylov_bases,\n",
    "    Lanczos_cutoff = Lanczos_cutoff,\n",
    "    iterative_diag = True,\n",
    "    two_site = two_site,\n",
    "    orthogonal_to_list_of_MPS = [MPS_uniform],\n",
    "    verbose = verbose,\n",
    ")"
   ]
  },
  {
   "cell_type": "code",
   "execution_count": 49,
   "id": "e58605af",
   "metadata": {},
   "outputs": [
    {
     "data": {
      "text/plain": [
       "array(1.99139239e-16)"
      ]
     },
     "execution_count": 49,
     "metadata": {},
     "output_type": "execute_result"
    }
   ],
   "source": [
    "from python.Zippers import MPS_MPS_overlap, MPS_MPO_MPS_overlap, contract_MPS\n",
    "\n",
    "MPS_MPS_overlap(MPS_uniform, MPS_uniform_excited)"
   ]
  },
  {
   "cell_type": "code",
   "execution_count": 50,
   "id": "9ba0e5eb",
   "metadata": {},
   "outputs": [],
   "source": [
    "gs_uniform = contract_MPS(MPS_uniform).reshape(-1)\n",
    "ex_uniform = contract_MPS(MPS_uniform_excited).reshape(-1)"
   ]
  },
  {
   "cell_type": "code",
   "execution_count": 51,
   "id": "783d24e5",
   "metadata": {},
   "outputs": [
    {
     "data": {
      "text/plain": [
       "-6.026655060327542"
      ]
     },
     "execution_count": 51,
     "metadata": {},
     "output_type": "execute_result"
    }
   ],
   "source": [
    "(gs_uniform @ matrix @ gs_uniform)"
   ]
  },
  {
   "cell_type": "code",
   "execution_count": 52,
   "id": "5619077b",
   "metadata": {},
   "outputs": [
    {
     "data": {
      "text/plain": [
       "0.010204395323979171"
      ]
     },
     "execution_count": 52,
     "metadata": {},
     "output_type": "execute_result"
    }
   ],
   "source": [
    "np.linalg.norm(matrix @ gs_uniform - (gs_uniform @ matrix @ gs_uniform) * gs_uniform)"
   ]
  },
  {
   "cell_type": "code",
   "execution_count": 53,
   "id": "ce64106f",
   "metadata": {},
   "outputs": [
    {
     "data": {
      "text/plain": [
       "-5.741982310210627"
      ]
     },
     "execution_count": 53,
     "metadata": {},
     "output_type": "execute_result"
    }
   ],
   "source": [
    "(ex_uniform @ matrix @ ex_uniform)"
   ]
  },
  {
   "cell_type": "code",
   "execution_count": 54,
   "id": "3733f117",
   "metadata": {},
   "outputs": [
    {
     "data": {
      "text/plain": [
       "0.01631116165370561"
      ]
     },
     "execution_count": 54,
     "metadata": {},
     "output_type": "execute_result"
    }
   ],
   "source": [
    "np.linalg.norm(matrix @ ex_uniform - (ex_uniform @ matrix @ ex_uniform) * ex_uniform)"
   ]
  },
  {
   "cell_type": "code",
   "execution_count": 55,
   "id": "5ad9553d",
   "metadata": {},
   "outputs": [
    {
     "data": {
      "text/plain": [
       "array(-5.74198231)"
      ]
     },
     "execution_count": 55,
     "metadata": {},
     "output_type": "execute_result"
    }
   ],
   "source": [
    "Hamiltonian_uniform_transposed = [ham.transpose(2, 3, 0, 1) for ham in Hamiltonian_uniform]\n",
    "\n",
    "MPS_MPO_MPS_overlap(MPS_uniform_excited, Hamiltonian_uniform_transposed, MPS_uniform_excited)"
   ]
  },
  {
   "cell_type": "code",
   "execution_count": 56,
   "id": "99bc1921",
   "metadata": {},
   "outputs": [
    {
     "name": "stdout",
     "output_type": "stream",
     "text": [
      "L=10 | NKeep=10 | NSweep=10 | iterative=True | two_site=True | Krylov_bases=5 | Lanczos_cutoff=0.01\n",
      "iter=0 | energy=-6.0238599 | time=0.0s\n",
      "iter=1 | energy=-5.4561244 | time=0.183s\n",
      "iter=2 | energy=-5.4561628 | time=0.313s\n",
      "iter=3 | energy=-5.4561649 | time=0.446s\n",
      "iter=4 | energy=-5.741829 | time=0.583s\n",
      "iter=5 | energy=-5.741982 | time=0.697s\n",
      "iter=6 | energy=-5.7419823 | time=0.813s\n",
      "iter=7 | energy=-5.7419823 | time=0.946s\n",
      "iter=8 | energy=-5.7419823 | time=1.13s\n",
      "iter=9 | energy=-5.7419823 | time=1.33s\n",
      "iter=10 | energy=-5.7419823 | time=1.47s\n"
     ]
    }
   ],
   "source": [
    "energies_uniform_excited_2, times_uniform_excited_2, MPS_uniform_excited_2 = DMRG(\n",
    "    Hamiltonian = Hamiltonian_uniform,\n",
    "    NKeep = NKeep,\n",
    "    NSweep = NSweep,\n",
    "    Krylov_bases = Krylov_bases,\n",
    "    Lanczos_cutoff = Lanczos_cutoff,\n",
    "    iterative_diag = True,\n",
    "    two_site = two_site,\n",
    "    orthogonal_to_list_of_MPS = [MPS_uniform, MPS_uniform_excited],\n",
    "    verbose = verbose,\n",
    ")"
   ]
  },
  {
   "cell_type": "code",
   "execution_count": 57,
   "id": "9163cf9a",
   "metadata": {},
   "outputs": [
    {
     "name": "stdout",
     "output_type": "stream",
     "text": [
      "L=10 | NKeep=10 | NSweep=10 | iterative=True | two_site=True | Krylov_bases=5 | Lanczos_cutoff=0.01\n",
      "iter=0 | energy=-6.0238599 | time=0.0s\n",
      "iter=1 | energy=-5.4561244 | time=0.178s\n",
      "iter=2 | energy=-5.4561628 | time=0.329s\n",
      "iter=3 | energy=-5.4561628 | time=0.489s\n",
      "iter=4 | energy=-5.4561628 | time=0.646s\n",
      "iter=5 | energy=-5.4561628 | time=0.8s\n",
      "iter=6 | energy=-5.4561628 | time=0.959s\n",
      "iter=7 | energy=-5.4561628 | time=1.17s\n",
      "iter=8 | energy=-5.4561628 | time=1.33s\n",
      "iter=9 | energy=-5.4561628 | time=1.5s\n",
      "iter=10 | energy=-5.4561628 | time=1.66s\n"
     ]
    },
    {
     "data": {
      "text/plain": [
       "-5.45741483023913"
      ]
     },
     "execution_count": 57,
     "metadata": {},
     "output_type": "execute_result"
    }
   ],
   "source": [
    "energies_uniform_excited_3, times_uniform_excited_3, MPS_uniform_excited_3 = DMRG(\n",
    "    Hamiltonian = Hamiltonian_uniform,\n",
    "    NKeep = NKeep,\n",
    "    NSweep = NSweep,\n",
    "    Krylov_bases = Krylov_bases,\n",
    "    Lanczos_cutoff = Lanczos_cutoff,\n",
    "    iterative_diag = True,\n",
    "    two_site = two_site,\n",
    "    orthogonal_to_list_of_MPS = [MPS_uniform, MPS_uniform_excited, MPS_uniform_excited_2],\n",
    "    verbose = verbose,\n",
    ")\n",
    "\n",
    "eigvals[3]"
   ]
  },
  {
   "cell_type": "code",
   "execution_count": 58,
   "id": "197f95cd",
   "metadata": {},
   "outputs": [
    {
     "name": "stdout",
     "output_type": "stream",
     "text": [
      "L=10 | NKeep=10 | NSweep=10 | iterative=False | two_site=True | Krylov_bases=10 | Lanczos_cutoff=0.01\n",
      "iter=0 | energy=-0.18061093 | time=0.0s\n",
      "iter=1 | energy=-5.1954114 | time=0.461s\n",
      "iter=2 | energy=-5.1956353 | time=0.942s\n",
      "iter=3 | energy=-5.1956205 | time=1.43s\n",
      "iter=4 | energy=-5.1956234 | time=1.94s\n",
      "iter=5 | energy=-5.1956236 | time=2.48s\n",
      "iter=6 | energy=-5.1956235 | time=3.05s\n",
      "iter=7 | energy=-5.1956235 | time=3.31s\n",
      "iter=8 | energy=-5.1956235 | time=3.57s\n",
      "iter=9 | energy=-5.1956235 | time=4.19s\n",
      "iter=10 | energy=-5.1956235 | time=4.73s\n"
     ]
    },
    {
     "data": {
      "text/plain": [
       "-5.195844157328494"
      ]
     },
     "execution_count": 58,
     "metadata": {},
     "output_type": "execute_result"
    }
   ],
   "source": [
    "energies_uniform_excited_4, times_uniform_excited_4, MPS_uniform_excited_4 = DMRG(\n",
    "    Hamiltonian = Hamiltonian_uniform,\n",
    "    NKeep = NKeep,\n",
    "    NSweep = NSweep,\n",
    "    Krylov_bases = 10,\n",
    "    Lanczos_cutoff = Lanczos_cutoff,\n",
    "    iterative_diag = False,\n",
    "    two_site = two_site,\n",
    "    orthogonal_to_list_of_MPS = [MPS_uniform, MPS_uniform_excited, MPS_uniform_excited_2, MPS_uniform_excited_3],\n",
    "    verbose = verbose,\n",
    ")\n",
    "\n",
    "eigvals[4]"
   ]
  },
  {
   "cell_type": "code",
   "execution_count": 59,
   "id": "2fc0a7b2",
   "metadata": {},
   "outputs": [
    {
     "name": "stdout",
     "output_type": "stream",
     "text": [
      "L=10 | NKeep=10 | NSweep=10 | iterative=False | two_site=True | Krylov_bases=10 | Lanczos_cutoff=0.01\n",
      "iter=0 | energy=0.18567535 | time=0.0s\n",
      "iter=1 | energy=-5.1954495 | time=0.43s\n",
      "iter=2 | energy=-5.1956274 | time=0.928s\n",
      "iter=3 | energy=-5.1956278 | time=1.75s\n",
      "iter=4 | energy=-5.1956277 | time=2.16s\n",
      "iter=5 | energy=-5.1956292 | time=2.7s\n",
      "iter=6 | energy=-5.1956304 | time=3.4s\n",
      "iter=7 | energy=-5.1956303 | time=3.81s\n",
      "iter=8 | energy=-5.195634 | time=4.35s\n",
      "iter=9 | energy=-5.1956283 | time=4.7s\n",
      "iter=10 | energy=-5.1956291 | time=5.39s\n"
     ]
    },
    {
     "data": {
      "text/plain": [
       "-5.195844157328491"
      ]
     },
     "execution_count": 59,
     "metadata": {},
     "output_type": "execute_result"
    }
   ],
   "source": [
    "energies_uniform_excited_5, times_uniform_excited_5, MPS_uniform_excited_5 = DMRG(\n",
    "    Hamiltonian = Hamiltonian_uniform,\n",
    "    NKeep = NKeep,\n",
    "    NSweep = NSweep,\n",
    "    Krylov_bases = 10,\n",
    "    Lanczos_cutoff = Lanczos_cutoff,\n",
    "    iterative_diag = False,\n",
    "    two_site = two_site,\n",
    "    orthogonal_to_list_of_MPS = [MPS_uniform, MPS_uniform_excited, MPS_uniform_excited_2, MPS_uniform_excited_3, MPS_uniform_excited_4],\n",
    "    verbose = verbose,\n",
    ")\n",
    "\n",
    "eigvals[5]"
   ]
  },
  {
   "cell_type": "code",
   "execution_count": 60,
   "id": "bc20e35c",
   "metadata": {},
   "outputs": [
    {
     "name": "stdout",
     "output_type": "stream",
     "text": [
      "L=10 | NKeep=10 | NSweep=10 | iterative=False | two_site=True | Krylov_bases=5 | Lanczos_cutoff=0.01\n",
      "iter=0 | energy=-0.3431429 | time=0.0s\n",
      "iter=1 | energy=-30.561807 | time=0.514s\n",
      "iter=2 | energy=-4.9103651 | time=1.22s\n",
      "iter=3 | energy=-4.9105083 | time=1.61s\n",
      "iter=4 | energy=-4.9105259 | time=1.89s\n",
      "iter=5 | energy=-4.9105385 | time=2.15s\n",
      "iter=6 | energy=-4.9105504 | time=2.66s\n",
      "iter=7 | energy=-4.9105619 | time=3.17s\n",
      "iter=8 | energy=-4.910573 | time=3.42s\n",
      "iter=9 | energy=-4.9105838 | time=3.71s\n",
      "iter=10 | energy=-4.9105942 | time=3.99s\n"
     ]
    },
    {
     "data": {
      "text/plain": [
       "-4.911214480781928"
      ]
     },
     "execution_count": 60,
     "metadata": {},
     "output_type": "execute_result"
    }
   ],
   "source": [
    "energies_uniform_excited_6, times_uniform_excited_6, MPS_uniform_excited_6 = DMRG(\n",
    "    Hamiltonian = Hamiltonian_uniform,\n",
    "    NKeep = NKeep,\n",
    "    NSweep = NSweep,\n",
    "    Krylov_bases = 5,\n",
    "    Lanczos_cutoff = 1e-2,\n",
    "    iterative_diag = False,\n",
    "    two_site = two_site,\n",
    "    orthogonal_to_list_of_MPS = [MPS_uniform, MPS_uniform_excited, MPS_uniform_excited_2, MPS_uniform_excited_3, MPS_uniform_excited_4, MPS_uniform_excited_5],\n",
    "    verbose = verbose,\n",
    ")\n",
    "\n",
    "eigvals[6]"
   ]
  },
  {
   "cell_type": "code",
   "execution_count": 64,
   "id": "2ded2f07",
   "metadata": {},
   "outputs": [
    {
     "name": "stdout",
     "output_type": "stream",
     "text": [
      "L=10 | NKeep=20 | NSweep=10 | iterative=False | two_site=True | Krylov_bases=5 | Lanczos_cutoff=0.01\n",
      "iter=0 | energy=0.07587561 | time=0.0s\n",
      "iter=1 | energy=-4.9110517 | time=1.74s\n",
      "iter=2 | energy=-4.9111965 | time=2.34s\n",
      "iter=3 | energy=-4.9111965 | time=2.85s\n",
      "iter=4 | energy=-4.9111965 | time=3.32s\n",
      "iter=5 | energy=-4.9111965 | time=3.89s\n",
      "iter=6 | energy=-4.9111965 | time=4.47s\n",
      "iter=7 | energy=-4.9111965 | time=5.02s\n",
      "iter=8 | energy=-4.9111965 | time=5.47s\n",
      "iter=9 | energy=-4.9111965 | time=5.91s\n",
      "iter=10 | energy=-4.9111965 | time=6.41s\n"
     ]
    },
    {
     "data": {
      "text/plain": [
       "-4.911214480781927"
      ]
     },
     "execution_count": 64,
     "metadata": {},
     "output_type": "execute_result"
    }
   ],
   "source": [
    "energies_uniform_excited_7, times_uniform_excited_7, MPS_uniform_excited_7 = DMRG(\n",
    "    Hamiltonian = Hamiltonian_uniform,\n",
    "    NKeep = 20,\n",
    "    NSweep = 10,\n",
    "    Krylov_bases = 5,\n",
    "    Lanczos_cutoff = 1e-2,\n",
    "    iterative_diag = False,\n",
    "    two_site = two_site,\n",
    "    orthogonal_to_list_of_MPS = [MPS_uniform, MPS_uniform_excited, MPS_uniform_excited_2, MPS_uniform_excited_3, MPS_uniform_excited_4, MPS_uniform_excited_5, MPS_uniform_excited_6],\n",
    "    verbose = verbose,\n",
    ")\n",
    "\n",
    "eigvals[7]"
   ]
  },
  {
   "cell_type": "code",
   "execution_count": 65,
   "id": "b2d1bd18",
   "metadata": {},
   "outputs": [
    {
     "name": "stdout",
     "output_type": "stream",
     "text": [
      "L=10 | NKeep=20 | NSweep=10 | iterative=False | two_site=True | Krylov_bases=5 | Lanczos_cutoff=0.01\n",
      "iter=0 | energy=0.16199064 | time=0.0s\n",
      "iter=1 | energy=-4.9109778 | time=1.88s\n",
      "iter=2 | energy=-4.9111918 | time=2.74s\n",
      "iter=3 | energy=-4.9111918 | time=3.3s\n",
      "iter=4 | energy=-4.9111918 | time=3.94s\n",
      "iter=5 | energy=-4.9111918 | time=4.52s\n",
      "iter=6 | energy=-4.9111918 | time=5.12s\n",
      "iter=7 | energy=-4.9111918 | time=5.86s\n",
      "iter=8 | energy=-4.9111918 | time=6.47s\n",
      "iter=9 | energy=-4.9111918 | time=7.17s\n",
      "iter=10 | energy=-4.9111918 | time=7.81s\n"
     ]
    },
    {
     "data": {
      "text/plain": [
       "-4.911214480781927"
      ]
     },
     "execution_count": 65,
     "metadata": {},
     "output_type": "execute_result"
    }
   ],
   "source": [
    "energies_uniform_excited_8, times_uniform_excited_8, MPS_uniform_excited_8 = DMRG(\n",
    "    Hamiltonian = Hamiltonian_uniform,\n",
    "    NKeep = 20,\n",
    "    NSweep = 10,\n",
    "    Krylov_bases = 5,\n",
    "    Lanczos_cutoff = 1e-2,\n",
    "    iterative_diag = False,\n",
    "    two_site = two_site,\n",
    "    orthogonal_to_list_of_MPS = [MPS_uniform, MPS_uniform_excited, MPS_uniform_excited_2, MPS_uniform_excited_3, MPS_uniform_excited_4, MPS_uniform_excited_5, MPS_uniform_excited_6, MPS_uniform_excited_7],\n",
    "    verbose = verbose,\n",
    ")\n",
    "\n",
    "eigvals[8]"
   ]
  },
  {
   "cell_type": "code",
   "execution_count": null,
   "id": "87c2d549",
   "metadata": {},
   "outputs": [],
   "source": []
  }
 ],
 "metadata": {
  "kernelspec": {
   "display_name": "latest",
   "language": "python",
   "name": "python3"
  },
  "language_info": {
   "codemirror_mode": {
    "name": "ipython",
    "version": 3
   },
   "file_extension": ".py",
   "mimetype": "text/x-python",
   "name": "python",
   "nbconvert_exporter": "python",
   "pygments_lexer": "ipython3",
   "version": "3.11.4"
  }
 },
 "nbformat": 4,
 "nbformat_minor": 5
}
