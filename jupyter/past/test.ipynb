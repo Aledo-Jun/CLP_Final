{
 "cells": [
  {
   "cell_type": "code",
   "execution_count": 2,
   "id": "8d35bf7c",
   "metadata": {},
   "outputs": [],
   "source": [
    "import numpy as np\n",
    "import sys\n",
    "sys.path.append(\"..\")\n",
    "\n",
    "from python.initialization import random_initialization, Iterative_diagonalization\n",
    "from python.Zippers import *\n",
    "from python.Contract import *\n",
    "from python.DMRG import DMRG"
   ]
  },
  {
   "cell_type": "code",
   "execution_count": 3,
   "id": "700cc6d7",
   "metadata": {},
   "outputs": [
    {
     "data": {
      "text/plain": [
       "(3, 2, 3)"
      ]
     },
     "execution_count": 3,
     "metadata": {},
     "output_type": "execute_result"
    }
   ],
   "source": [
    "MPS1 = [np.random.rand(1, 2, 2), np.random.rand(2, 3, 2)]\n",
    "MPO = [np.random.rand(1, 2, 2, 2), np.random.rand(2, 2, 2, 2)]\n",
    "MPS2 = [np.random.rand(1, 2, 2), np.random.rand(2, 3, 2) ]\n",
    "\n",
    "MPS_MPO_MPS_env(MPS1, MPO, MPS2).shape"
   ]
  },
  {
   "cell_type": "code",
   "execution_count": 4,
   "id": "684e42d5",
   "metadata": {},
   "outputs": [],
   "source": [
    "n_sites = 8\n",
    "size = 2**n_sites\n",
    "\n",
    "matrix_Hamiltonian = np.random.rand(size, size) + 1j * np.random.rand(size, size)\n",
    "\n",
    "matrix_Hamiltonian = matrix_Hamiltonian + matrix_Hamiltonian.conj().T\n",
    "\n",
    "MPO_Hamiltonian = matrix_Hamiltonian.reshape(tuple([2 for _ in range(2*n_sites)]))\n",
    "\n",
    "MPO = Hamiltonian_to_MPO(MPO_Hamiltonian)"
   ]
  },
  {
   "cell_type": "code",
   "execution_count": 5,
   "id": "c8ec590a",
   "metadata": {},
   "outputs": [
    {
     "data": {
      "text/plain": [
       "array([ 2.56398480e+02,  1.78859129e+01,  1.73991895e+01,  1.72617911e+01,\n",
       "        1.69867124e+01,  1.66969260e+01,  1.65844502e+01,  1.63776248e+01,\n",
       "        1.60336080e+01,  1.57053690e+01,  1.54781862e+01,  1.51775215e+01,\n",
       "        1.49094221e+01,  1.47918273e+01,  1.47029679e+01,  1.43611500e+01,\n",
       "        1.41555569e+01,  1.39443592e+01,  1.37882359e+01,  1.36879570e+01,\n",
       "        1.35605997e+01,  1.33277646e+01,  1.32028324e+01,  1.29898907e+01,\n",
       "        1.28426355e+01,  1.27790676e+01,  1.25254790e+01,  1.24174509e+01,\n",
       "        1.22934505e+01,  1.22198808e+01,  1.20388031e+01,  1.18051149e+01,\n",
       "        1.16704606e+01,  1.15208202e+01,  1.14634672e+01,  1.12578333e+01,\n",
       "        1.11595071e+01,  1.11160366e+01,  1.08744261e+01,  1.07691946e+01,\n",
       "        1.06149045e+01,  1.03379897e+01,  1.02933255e+01,  1.01450130e+01,\n",
       "        1.00238672e+01,  9.79768797e+00,  9.74920081e+00,  9.56494446e+00,\n",
       "        9.41081558e+00,  9.28487160e+00,  9.19835198e+00,  8.97255306e+00,\n",
       "        8.88945433e+00,  8.76154296e+00,  8.63080990e+00,  8.53569585e+00,\n",
       "        8.39503439e+00,  8.28988738e+00,  8.09201824e+00,  7.91214449e+00,\n",
       "        7.80973926e+00,  7.69123413e+00,  7.50549782e+00,  7.42362582e+00,\n",
       "        7.26850737e+00,  7.20530212e+00,  7.07821987e+00,  6.97795997e+00,\n",
       "        6.86883673e+00,  6.74385353e+00,  6.65058979e+00,  6.58040178e+00,\n",
       "        6.46540368e+00,  6.25563613e+00,  6.19821618e+00,  6.01529428e+00,\n",
       "        5.84996422e+00,  5.72203455e+00,  5.67210718e+00,  5.57900354e+00,\n",
       "        5.51678800e+00,  5.30564999e+00,  5.27979263e+00,  5.12714809e+00,\n",
       "        5.09555805e+00,  4.98670165e+00,  4.87126550e+00,  4.65906183e+00,\n",
       "        4.52014599e+00,  4.42704130e+00,  4.34786055e+00,  4.29792807e+00,\n",
       "        4.08043941e+00,  4.04120790e+00,  3.93242517e+00,  3.79387458e+00,\n",
       "        3.71316227e+00,  3.49723211e+00,  3.43813378e+00,  3.30708439e+00,\n",
       "        3.19974984e+00,  2.97222981e+00,  2.83374315e+00,  2.78477513e+00,\n",
       "        2.67758426e+00,  2.59664528e+00,  2.45897666e+00,  2.36462872e+00,\n",
       "        2.26831031e+00,  2.20226237e+00,  2.02850518e+00,  1.88439290e+00,\n",
       "        1.77147213e+00,  1.65535334e+00,  1.60268608e+00,  1.47813891e+00,\n",
       "        1.38350941e+00,  1.20486002e+00,  1.09294502e+00,  1.00921292e+00,\n",
       "        9.57750760e-01,  7.81605034e-01,  6.41605764e-01,  5.42761377e-01,\n",
       "        4.10378061e-01,  3.00843548e-01,  2.48504729e-01,  2.95822245e-02,\n",
       "       -1.21944069e-01, -1.94315708e-01, -3.19608493e-01, -4.37109078e-01,\n",
       "       -5.19813307e-01, -6.06053524e-01, -7.20403068e-01, -8.23232985e-01,\n",
       "       -9.72847184e-01, -1.09130548e+00, -1.11760202e+00, -1.27532099e+00,\n",
       "       -1.35772714e+00, -1.53622417e+00, -1.57341946e+00, -1.68397092e+00,\n",
       "       -1.82963414e+00, -1.96971409e+00, -2.11234018e+00, -2.22471095e+00,\n",
       "       -2.34683668e+00, -2.45602360e+00, -2.57007942e+00, -2.60030922e+00,\n",
       "       -2.78099062e+00, -2.91492582e+00, -3.06242981e+00, -3.21095447e+00,\n",
       "       -3.28020111e+00, -3.41847372e+00, -3.46139727e+00, -3.67763403e+00,\n",
       "       -3.72617129e+00, -3.80811147e+00, -3.98631790e+00, -4.10352316e+00,\n",
       "       -4.19262075e+00, -4.25839502e+00, -4.38522456e+00, -4.50121816e+00,\n",
       "       -4.58245913e+00, -4.74913488e+00, -4.92401752e+00, -5.01882729e+00,\n",
       "       -5.10693577e+00, -5.20735153e+00, -5.35305049e+00, -5.46919895e+00,\n",
       "       -5.61447997e+00, -5.69142324e+00, -5.88142450e+00, -5.98544296e+00,\n",
       "       -6.02170810e+00, -6.17421402e+00, -6.28584252e+00, -6.52657209e+00,\n",
       "       -6.57194298e+00, -6.64329908e+00, -6.81082535e+00, -6.88420754e+00,\n",
       "       -6.99752057e+00, -7.13305494e+00, -7.27083440e+00, -7.40433847e+00,\n",
       "       -7.54078245e+00, -7.55477839e+00, -7.62834747e+00, -7.80521472e+00,\n",
       "       -7.99012842e+00, -8.17383696e+00, -8.28266489e+00, -8.42024498e+00,\n",
       "       -8.57697759e+00, -8.69764645e+00, -8.87482021e+00, -8.99867511e+00,\n",
       "       -9.07357559e+00, -9.22082606e+00, -9.35964760e+00, -9.50064734e+00,\n",
       "       -9.58175589e+00, -9.68374778e+00, -9.79332971e+00, -9.86874061e+00,\n",
       "       -1.00056713e+01, -1.02029284e+01, -1.03752761e+01, -1.04912550e+01,\n",
       "       -1.06541924e+01, -1.08058093e+01, -1.08782858e+01, -1.10717508e+01,\n",
       "       -1.12572234e+01, -1.13089233e+01, -1.15268608e+01, -1.16249368e+01,\n",
       "       -1.18253268e+01, -1.19795709e+01, -1.21409936e+01, -1.23018594e+01,\n",
       "       -1.24328814e+01, -1.25844758e+01, -1.26562845e+01, -1.29005826e+01,\n",
       "       -1.30317812e+01, -1.31497060e+01, -1.32857720e+01, -1.33311913e+01,\n",
       "       -1.36738226e+01, -1.38292216e+01, -1.39708101e+01, -1.40533096e+01,\n",
       "       -1.41962982e+01, -1.44011714e+01, -1.47268220e+01, -1.48120493e+01,\n",
       "       -1.50817211e+01, -1.51923514e+01, -1.54168700e+01, -1.56676711e+01,\n",
       "       -1.59506461e+01, -1.62104914e+01, -1.63597188e+01, -1.66744623e+01,\n",
       "       -1.68406224e+01, -1.75489586e+01, -1.77406790e+01, -1.81622547e+01])"
      ]
     },
     "execution_count": 5,
     "metadata": {},
     "output_type": "execute_result"
    }
   ],
   "source": [
    "eigvals, eigvecs = EIGH(matrix_Hamiltonian)\n",
    "eigvals"
   ]
  },
  {
   "cell_type": "code",
   "execution_count": 6,
   "id": "3e64161d",
   "metadata": {},
   "outputs": [],
   "source": [
    "# test_Hamiltonian = MPO_to_Hamiltonian(MPO)\n",
    "# np.linalg.norm(matrix_Hamiltonian - test_Hamiltonian)"
   ]
  },
  {
   "cell_type": "code",
   "execution_count": 7,
   "id": "5fbed6f6",
   "metadata": {},
   "outputs": [],
   "source": [
    "# eigvals, eigvecs = EIGH(test_Hamiltonian)\n",
    "# eigvals"
   ]
  },
  {
   "cell_type": "code",
   "execution_count": 8,
   "id": "4291f80e",
   "metadata": {},
   "outputs": [],
   "source": [
    "# np.linalg.norm(test_Hamiltonian - eigvecs @ np.diag(eigvals) @ eigvecs.conj().T)"
   ]
  },
  {
   "cell_type": "code",
   "execution_count": 9,
   "id": "f3a663ec",
   "metadata": {},
   "outputs": [],
   "source": [
    "NKeep = 8\n",
    "NSweep = 10\n",
    "Krylov_bases = 5\n",
    "iterative_diag = True\n",
    "two_site = True\n",
    "verbose = True\n",
    "\n",
    "Hamiltonian = [\n",
    "    mpo.transpose(2, 3, 0, 1) for mpo in MPO\n",
    "]"
   ]
  },
  {
   "cell_type": "code",
   "execution_count": 13,
   "id": "4d04bfe0",
   "metadata": {},
   "outputs": [
    {
     "data": {
      "text/plain": [
       "(2, 2, 4, 16)"
      ]
     },
     "execution_count": 13,
     "metadata": {},
     "output_type": "execute_result"
    }
   ],
   "source": [
    "Hamiltonian[1].shape"
   ]
  },
  {
   "cell_type": "code",
   "execution_count": 11,
   "id": "77b00da8",
   "metadata": {},
   "outputs": [
    {
     "name": "stdout",
     "output_type": "stream",
     "text": [
      "iter=0 | energy=-3.9442151 | time=0.0s\n",
      "iter=1 | energy=-16.378091 | time=0.463s\n",
      "iter=2 | energy=-16.444178 | time=1.13s\n",
      "iter=3 | energy=-16.486775 | time=1.62s\n",
      "iter=4 | energy=-16.581441 | time=1.99s\n",
      "iter=5 | energy=-16.629807 | time=2.34s\n",
      "iter=6 | energy=-16.67305 | time=2.76s\n",
      "iter=7 | energy=-16.714543 | time=3.12s\n",
      "iter=8 | energy=-16.74396 | time=3.56s\n",
      "iter=9 | energy=-16.76229 | time=4.03s\n",
      "iter=10 | energy=-16.774295 | time=4.75s\n"
     ]
    }
   ],
   "source": [
    "energies, times, MPS = DMRG(\n",
    "    Hamiltonian = Hamiltonian,\n",
    "    NKeep = NKeep,\n",
    "    NSweep = NSweep,\n",
    "    Krylov_bases = Krylov_bases,\n",
    "    iterative_diag = iterative_diag,\n",
    "    two_site = two_site,\n",
    "    verbose = verbose,\n",
    ")"
   ]
  },
  {
   "cell_type": "code",
   "execution_count": 49,
   "id": "7198562e",
   "metadata": {},
   "outputs": [
    {
     "name": "stdout",
     "output_type": "stream",
     "text": [
      "iter=0 | energy=-0.057025069 | time=0.0s\n",
      "iter=1 | energy=-15.926392 | time=0.398s\n",
      "iter=2 | energy=-16.435473 | time=0.703s\n",
      "iter=3 | energy=-16.472115 | time=0.955s\n",
      "iter=4 | energy=-16.458318 | time=1.2s\n",
      "iter=5 | energy=-16.436612 | time=1.36s\n",
      "iter=6 | energy=-16.479124 | time=1.6s\n",
      "iter=7 | energy=-16.51593 | time=1.78s\n",
      "iter=8 | energy=-16.529058 | time=1.95s\n",
      "iter=9 | energy=-16.533532 | time=2.11s\n",
      "iter=10 | energy=-16.535016 | time=2.28s\n"
     ]
    }
   ],
   "source": [
    "energies, times, MPS = DMRG(\n",
    "    Hamiltonian = Hamiltonian,\n",
    "    NKeep = NKeep,\n",
    "    NSweep = NSweep,\n",
    "    Krylov_bases = Krylov_bases,\n",
    "    iterative_diag = False,\n",
    "    two_site = two_site,\n",
    "    verbose = verbose,\n",
    ")"
   ]
  },
  {
   "cell_type": "code",
   "execution_count": 50,
   "id": "28a943e6",
   "metadata": {},
   "outputs": [
    {
     "data": {
      "text/plain": [
       "array([ -0.05702507, -15.92639159, -16.43547339, -16.47211514,\n",
       "       -16.45831824, -16.43661245, -16.47912435, -16.51592966,\n",
       "       -16.52905765, -16.53353183, -16.53501636])"
      ]
     },
     "execution_count": 50,
     "metadata": {},
     "output_type": "execute_result"
    }
   ],
   "source": [
    "energies"
   ]
  },
  {
   "cell_type": "code",
   "execution_count": 51,
   "id": "993b8a0d",
   "metadata": {},
   "outputs": [
    {
     "data": {
      "text/plain": [
       "array(1.+0.j)"
      ]
     },
     "execution_count": 51,
     "metadata": {},
     "output_type": "execute_result"
    }
   ],
   "source": [
    "MPS_MPS_overlap(MPS, MPS)"
   ]
  },
  {
   "cell_type": "code",
   "execution_count": 52,
   "id": "a8c414d7",
   "metadata": {},
   "outputs": [
    {
     "data": {
      "text/plain": [
       "array(-16.53501636-8.8817842e-16j)"
      ]
     },
     "execution_count": 52,
     "metadata": {},
     "output_type": "execute_result"
    }
   ],
   "source": [
    "MPS_MPO_MPS_overlap(MPS, MPO, MPS)"
   ]
  },
  {
   "cell_type": "code",
   "execution_count": 53,
   "id": "9b8bd407",
   "metadata": {},
   "outputs": [
    {
     "data": {
      "text/plain": [
       "1.0000000000000007"
      ]
     },
     "execution_count": 53,
     "metadata": {},
     "output_type": "execute_result"
    }
   ],
   "source": [
    "np.linalg.norm(contract_MPS(MPS))"
   ]
  },
  {
   "cell_type": "code",
   "execution_count": 54,
   "id": "9fc8d80e",
   "metadata": {},
   "outputs": [
    {
     "data": {
      "text/plain": [
       "0.2648957489098576"
      ]
     },
     "execution_count": 54,
     "metadata": {},
     "output_type": "execute_result"
    }
   ],
   "source": [
    "np.linalg.norm(MPS_MPO_multiplication(MPS, MPO) / MPS_MPO_MPS_overlap(MPS, MPO, MPS) - contract_MPS(MPS))"
   ]
  },
  {
   "cell_type": "code",
   "execution_count": 55,
   "id": "ea599374",
   "metadata": {},
   "outputs": [
    {
     "name": "stdout",
     "output_type": "stream",
     "text": [
      "iter=0 | energy=-4.3001611 | time=0.0s\n",
      "iter=1 | energy=-15.095447 | time=0.115s\n",
      "iter=2 | energy=-15.639503 | time=0.498s\n",
      "iter=3 | energy=-15.974287 | time=0.848s\n",
      "iter=4 | energy=-16.154388 | time=1.5s\n",
      "iter=5 | energy=-16.228014 | time=1.61s\n",
      "iter=6 | energy=-16.263299 | time=1.8s\n",
      "iter=7 | energy=-16.285971 | time=1.91s\n",
      "iter=8 | energy=-16.304662 | time=2.14s\n",
      "iter=9 | energy=-16.32161 | time=2.34s\n",
      "iter=10 | energy=-16.336898 | time=2.59s\n"
     ]
    }
   ],
   "source": [
    "two_site = False\n",
    "\n",
    "energies, times, MPS = DMRG(\n",
    "    Hamiltonian = Hamiltonian,\n",
    "    NKeep = NKeep,\n",
    "    NSweep = NSweep,\n",
    "    Krylov_bases = Krylov_bases,\n",
    "    two_site = two_site,\n",
    "    verbose = verbose\n",
    ")"
   ]
  },
  {
   "cell_type": "code",
   "execution_count": 56,
   "id": "62802397",
   "metadata": {},
   "outputs": [
    {
     "data": {
      "text/plain": [
       "array([ -4.3001611 , -15.09544705, -15.63950261, -15.97428654,\n",
       "       -16.15438782, -16.22801447, -16.26329926, -16.28597055,\n",
       "       -16.30466213, -16.32160951, -16.33689787])"
      ]
     },
     "execution_count": 56,
     "metadata": {},
     "output_type": "execute_result"
    }
   ],
   "source": [
    "energies"
   ]
  },
  {
   "cell_type": "code",
   "execution_count": 57,
   "id": "4a48b58c",
   "metadata": {},
   "outputs": [
    {
     "data": {
      "text/plain": [
       "array(1.+0.j)"
      ]
     },
     "execution_count": 57,
     "metadata": {},
     "output_type": "execute_result"
    }
   ],
   "source": [
    "MPS_MPS_overlap(MPS, MPS)"
   ]
  },
  {
   "cell_type": "code",
   "execution_count": 58,
   "id": "f4676069",
   "metadata": {},
   "outputs": [
    {
     "data": {
      "text/plain": [
       "array(-16.33689787+4.4408921e-16j)"
      ]
     },
     "execution_count": 58,
     "metadata": {},
     "output_type": "execute_result"
    }
   ],
   "source": [
    "MPS_MPO_MPS_overlap(MPS, MPO, MPS)"
   ]
  },
  {
   "cell_type": "code",
   "execution_count": 59,
   "id": "479892ad",
   "metadata": {},
   "outputs": [
    {
     "data": {
      "text/plain": [
       "1.0000000000000002"
      ]
     },
     "execution_count": 59,
     "metadata": {},
     "output_type": "execute_result"
    }
   ],
   "source": [
    "np.linalg.norm(contract_MPS(MPS))"
   ]
  },
  {
   "cell_type": "code",
   "execution_count": 60,
   "id": "01c679f3",
   "metadata": {},
   "outputs": [
    {
     "data": {
      "text/plain": [
       "0.20614643625956153"
      ]
     },
     "execution_count": 60,
     "metadata": {},
     "output_type": "execute_result"
    }
   ],
   "source": [
    "np.linalg.norm(MPS_MPO_multiplication(MPS, MPO) / MPS_MPO_MPS_overlap(MPS, MPO, MPS) - contract_MPS(MPS))"
   ]
  },
  {
   "cell_type": "code",
   "execution_count": null,
   "id": "0d6f537d",
   "metadata": {},
   "outputs": [],
   "source": []
  }
 ],
 "metadata": {
  "kernelspec": {
   "display_name": "latest",
   "language": "python",
   "name": "python3"
  },
  "language_info": {
   "codemirror_mode": {
    "name": "ipython",
    "version": 3
   },
   "file_extension": ".py",
   "mimetype": "text/x-python",
   "name": "python",
   "nbconvert_exporter": "python",
   "pygments_lexer": "ipython3",
   "version": "3.11.4"
  }
 },
 "nbformat": 4,
 "nbformat_minor": 5
}
