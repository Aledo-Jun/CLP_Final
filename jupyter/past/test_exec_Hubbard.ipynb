{
 "cells": [
  {
   "cell_type": "code",
   "execution_count": 1,
   "id": "9f8a0138",
   "metadata": {},
   "outputs": [],
   "source": [
    "import numpy as np\n",
    "import sys\n",
    "import itertools as itertools\n",
    "sys.path.append(\"..\")\n",
    "\n",
    "import matplotlib.pyplot as plt\n",
    "from python.Hubbard import Hubbard_model, Double_occupancy, get_filling\n",
    "from python.DMRG import DMRG\n",
    "from python.Zippers import MPO_to_Hamiltonian, contract_MPS\n",
    "from python.Canonical_Form import get_Neumann_entropy"
   ]
  },
  {
   "cell_type": "code",
   "execution_count": 2,
   "id": "c4ec9a8e",
   "metadata": {},
   "outputs": [],
   "source": [
    "n_sites = 5\n",
    "\n",
    "hopping_t = 1.0\n",
    "interaction_U = 2.0\n",
    "\n",
    "Hamiltonian_2 = Hubbard_model(\n",
    "    n_sites=n_sites, hopping_t=hopping_t, interaction_U=interaction_U\n",
    ")\n",
    "MPO_transposed_2 = [ham.transpose(2, 3, 0, 1) for ham in Hamiltonian_2]"
   ]
  },
  {
   "cell_type": "code",
   "execution_count": 3,
   "id": "d44ff00b",
   "metadata": {},
   "outputs": [
    {
     "data": {
      "text/plain": [
       "array([-3.55415139, -3.55415139, -3.16604011, -3.16604011, -2.77446918,\n",
       "       -2.77446918, -2.52435237, -2.52435237, -2.52435237, -2.52435237])"
      ]
     },
     "execution_count": 3,
     "metadata": {},
     "output_type": "execute_result"
    }
   ],
   "source": [
    "matrix = MPO_to_Hamiltonian(MPO_transposed_2)\n",
    "eigvals, _ = np.linalg.eigh(matrix)\n",
    "eigvals[:10]"
   ]
  },
  {
   "cell_type": "code",
   "execution_count": 4,
   "id": "e22c8613",
   "metadata": {},
   "outputs": [
    {
     "data": {
      "text/plain": [
       "(1024, 1024)"
      ]
     },
     "execution_count": 4,
     "metadata": {},
     "output_type": "execute_result"
    }
   ],
   "source": [
    "matrix.shape"
   ]
  },
  {
   "cell_type": "code",
   "execution_count": 5,
   "id": "be131c59",
   "metadata": {},
   "outputs": [],
   "source": [
    "NKeep = 20\n",
    "NSweep = 10\n",
    "Krylov_bases = 5 #* 5 is usually enough\n",
    "Lanczos_cutoff = 1e-2\n",
    "iterative_diag = True\n",
    "two_site = True\n",
    "verbose = True"
   ]
  },
  {
   "cell_type": "code",
   "execution_count": 6,
   "id": "d6044cd8",
   "metadata": {},
   "outputs": [
    {
     "name": "stdout",
     "output_type": "stream",
     "text": [
      "L=5 | NKeep=20 | NSweep=10 | iterative=True | two_site=True | Krylov_bases=5 | Lanczos_cutoff=0.01\n",
      "iter=0 | energy=-3.3593407 | time=0.0s\n",
      "iter=1 | energy=-3.5541465 | time=0.0456s\n",
      "iter=2 | energy=-3.5541465 | time=0.089s\n",
      "iter=3 | energy=-3.5541465 | time=0.0992s\n",
      "iter=4 | energy=-3.5541465 | time=0.109s\n",
      "iter=5 | energy=-3.5541465 | time=0.12s\n",
      "iter=6 | energy=-3.5541465 | time=0.13s\n",
      "iter=7 | energy=-3.5541465 | time=0.14s\n",
      "iter=8 | energy=-3.5541465 | time=0.15s\n",
      "iter=9 | energy=-3.5541465 | time=0.159s\n",
      "iter=10 | energy=-3.5541465 | time=0.17s\n"
     ]
    },
    {
     "data": {
      "text/plain": [
       "-3.5541513932622046"
      ]
     },
     "execution_count": 6,
     "metadata": {},
     "output_type": "execute_result"
    }
   ],
   "source": [
    "energies_2, times_2, MPS_2 = DMRG(\n",
    "    Hamiltonian = Hamiltonian_2,\n",
    "    NKeep = NKeep,\n",
    "    NSweep = NSweep,\n",
    "    Krylov_bases = Krylov_bases,\n",
    "    Lanczos_cutoff = Lanczos_cutoff,\n",
    "    iterative_diag = iterative_diag,\n",
    "    two_site = two_site,\n",
    "    verbose = verbose,\n",
    ")\n",
    "\n",
    "eigvals[0]"
   ]
  },
  {
   "cell_type": "code",
   "execution_count": 7,
   "id": "ac890527",
   "metadata": {},
   "outputs": [
    {
     "name": "stdout",
     "output_type": "stream",
     "text": [
      "sigma=array([0.76506628, 0.40458564, 0.35427855, 0.35421852])\n",
      "sigma=array([0.85935689, 0.30276959, 0.30273526, 0.24436838, 0.08065161,\n",
      "       0.08060387, 0.05816214, 0.02362444, 0.01812477, 0.01811005,\n",
      "       0.01810016, 0.01550758, 0.01548683, 0.00543626, 0.00543099,\n",
      "       0.00238417])\n",
      "sigma=array([0.85871343, 0.30349011, 0.30344462, 0.2453256 , 0.08011669,\n",
      "       0.08008328, 0.05788567, 0.0234134 , 0.01806232, 0.01803952,\n",
      "       0.01801779, 0.01537968, 0.01534168, 0.00535185, 0.00531305,\n",
      "       0.00238325])\n",
      "sigma=array([0.76576773, 0.40331018, 0.35421832, 0.35421755])\n"
     ]
    },
    {
     "data": {
      "text/plain": [
       "array([1.63119143, 1.34417533, 1.34674972, 1.62919476])"
      ]
     },
     "execution_count": 7,
     "metadata": {},
     "output_type": "execute_result"
    }
   ],
   "source": [
    "get_Neumann_entropy(MPS_2)"
   ]
  },
  {
   "cell_type": "code",
   "execution_count": 11,
   "id": "6f948e59",
   "metadata": {},
   "outputs": [
    {
     "data": {
      "text/plain": [
       "5.000000005359481"
      ]
     },
     "execution_count": 11,
     "metadata": {},
     "output_type": "execute_result"
    }
   ],
   "source": [
    "get_filling(MPS_2).sum()"
   ]
  },
  {
   "cell_type": "code",
   "execution_count": 12,
   "id": "b7ac8b1e",
   "metadata": {},
   "outputs": [
    {
     "name": "stdout",
     "output_type": "stream",
     "text": [
      "L=5 | NKeep=20 | NSweep=10 | iterative=False | two_site=True | Krylov_bases=5 | Lanczos_cutoff=0.01\n",
      "iter=0 | energy=2.7246416 | time=0.0s\n",
      "iter=1 | energy=-3.5540442 | time=0.201s\n",
      "iter=2 | energy=-3.5541407 | time=0.232s\n",
      "iter=3 | energy=-3.5541407 | time=0.258s\n",
      "iter=4 | energy=-3.5541407 | time=0.28s\n",
      "iter=5 | energy=-3.5541407 | time=0.352s\n",
      "iter=6 | energy=-3.5541407 | time=0.397s\n",
      "iter=7 | energy=-3.5541407 | time=0.452s\n",
      "iter=8 | energy=-3.5541407 | time=0.481s\n",
      "iter=9 | energy=-3.5541407 | time=0.512s\n",
      "iter=10 | energy=-3.5541407 | time=0.541s\n"
     ]
    },
    {
     "data": {
      "text/plain": [
       "-3.554151393262199"
      ]
     },
     "execution_count": 12,
     "metadata": {},
     "output_type": "execute_result"
    }
   ],
   "source": [
    "energies_2_1, times_2_1, MPS_2_1 = DMRG(\n",
    "    Hamiltonian = Hamiltonian_2,\n",
    "    NKeep = NKeep,\n",
    "    NSweep = NSweep,\n",
    "    Krylov_bases = Krylov_bases,\n",
    "    Lanczos_cutoff = Lanczos_cutoff,\n",
    "    iterative_diag = False,\n",
    "    two_site = two_site,\n",
    "    orthogonal_to_list_of_MPS = [MPS_2],\n",
    "    verbose = verbose,\n",
    ")\n",
    "\n",
    "eigvals[1]"
   ]
  },
  {
   "cell_type": "code",
   "execution_count": 15,
   "id": "6ea19077",
   "metadata": {},
   "outputs": [
    {
     "name": "stdout",
     "output_type": "stream",
     "text": [
      "L=5 | NKeep=20 | NSweep=10 | iterative=False | two_site=True | Krylov_bases=5 | Lanczos_cutoff=0.01\n",
      "iter=0 | energy=2.4518356 | time=0.0s\n",
      "iter=1 | energy=-3.1657675 | time=0.207s\n",
      "iter=2 | energy=-3.1660082 | time=0.279s\n",
      "iter=3 | energy=-3.1660082 | time=0.324s\n",
      "iter=4 | energy=-3.1660082 | time=0.357s\n",
      "iter=5 | energy=-3.1660082 | time=0.616s\n",
      "iter=6 | energy=-3.1660082 | time=0.735s\n",
      "iter=7 | energy=-3.1660082 | time=0.77s\n",
      "iter=8 | energy=-3.1660082 | time=0.812s\n",
      "iter=9 | energy=-3.1660082 | time=0.882s\n",
      "iter=10 | energy=-3.1660082 | time=0.94s\n"
     ]
    },
    {
     "data": {
      "text/plain": [
       "-3.166040109383492"
      ]
     },
     "execution_count": 15,
     "metadata": {},
     "output_type": "execute_result"
    }
   ],
   "source": [
    "energies_2_2, times_2_2, MPS_2_2 = DMRG(\n",
    "    Hamiltonian = Hamiltonian_2,\n",
    "    NKeep = NKeep,\n",
    "    NSweep = NSweep,\n",
    "    Krylov_bases = Krylov_bases,\n",
    "    Lanczos_cutoff = Lanczos_cutoff,\n",
    "    iterative_diag = False,\n",
    "    two_site = two_site,\n",
    "    orthogonal_to_list_of_MPS = [MPS_2, MPS_2_1],\n",
    "    verbose = verbose,\n",
    ")\n",
    "\n",
    "eigvals[2]"
   ]
  },
  {
   "cell_type": "code",
   "execution_count": 16,
   "id": "6ea05a51",
   "metadata": {},
   "outputs": [
    {
     "data": {
      "text/plain": [
       "(5.031868424346536-3.885780586188048e-16j)"
      ]
     },
     "execution_count": 16,
     "metadata": {},
     "output_type": "execute_result"
    }
   ],
   "source": [
    "get_filling(MPS_2_2).sum()"
   ]
  },
  {
   "cell_type": "code",
   "execution_count": 17,
   "id": "7f171a0e",
   "metadata": {},
   "outputs": [
    {
     "name": "stdout",
     "output_type": "stream",
     "text": [
      "L=5 | NKeep=20 | NSweep=10 | iterative=False | two_site=True | Krylov_bases=5 | Lanczos_cutoff=0.01\n",
      "iter=0 | energy=2.5353542 | time=0.0s\n",
      "iter=1 | energy=-3.1651973 | time=0.15s\n",
      "iter=2 | energy=-3.1660259 | time=0.218s\n",
      "iter=3 | energy=-3.1660259 | time=0.257s\n",
      "iter=4 | energy=-3.1660259 | time=0.317s\n",
      "iter=5 | energy=-3.1660259 | time=0.404s\n",
      "iter=6 | energy=-3.1660259 | time=0.448s\n",
      "iter=7 | energy=-3.1660259 | time=0.519s\n",
      "iter=8 | energy=-3.1660259 | time=0.633s\n",
      "iter=9 | energy=-3.1660259 | time=0.694s\n",
      "iter=10 | energy=-3.1660259 | time=0.741s\n"
     ]
    },
    {
     "data": {
      "text/plain": [
       "-3.1660401093834856"
      ]
     },
     "execution_count": 17,
     "metadata": {},
     "output_type": "execute_result"
    }
   ],
   "source": [
    "energies_2_3, times_2_3, MPS_2_3 = DMRG(\n",
    "    Hamiltonian = Hamiltonian_2,\n",
    "    NKeep = NKeep,\n",
    "    NSweep = NSweep,\n",
    "    Krylov_bases = Krylov_bases,\n",
    "    Lanczos_cutoff = Lanczos_cutoff,\n",
    "    iterative_diag = False,\n",
    "    two_site = two_site,\n",
    "    orthogonal_to_list_of_MPS = [MPS_2, MPS_2_1, MPS_2_2],\n",
    "    verbose = verbose,\n",
    ")\n",
    "\n",
    "eigvals[3]"
   ]
  },
  {
   "cell_type": "code",
   "execution_count": 18,
   "id": "68310f36",
   "metadata": {},
   "outputs": [
    {
     "data": {
      "text/plain": [
       "(4.9681353113451125-2.498001805406602e-16j)"
      ]
     },
     "execution_count": 18,
     "metadata": {},
     "output_type": "execute_result"
    }
   ],
   "source": [
    "get_filling(MPS_2_3).sum()"
   ]
  },
  {
   "cell_type": "code",
   "execution_count": 19,
   "id": "ad45788c",
   "metadata": {},
   "outputs": [
    {
     "name": "stdout",
     "output_type": "stream",
     "text": [
      "L=5 | NKeep=20 | NSweep=10 | iterative=False | two_site=True | Krylov_bases=5 | Lanczos_cutoff=0.01\n",
      "iter=0 | energy=2.5205023 | time=0.0s\n",
      "iter=1 | energy=-2.7738191 | time=0.246s\n",
      "iter=2 | energy=-2.7743963 | time=0.488s\n",
      "iter=3 | energy=-2.7743963 | time=0.577s\n",
      "iter=4 | energy=-2.7743963 | time=0.637s\n",
      "iter=5 | energy=-2.7743963 | time=0.737s\n",
      "iter=6 | energy=-2.7743963 | time=0.829s\n",
      "iter=7 | energy=-2.7743963 | time=0.876s\n",
      "iter=8 | energy=-2.7743963 | time=0.93s\n",
      "iter=9 | energy=-2.7743963 | time=0.986s\n",
      "iter=10 | energy=-2.7743963 | time=1.05s\n"
     ]
    },
    {
     "data": {
      "text/plain": [
       "-2.774469181062077"
      ]
     },
     "execution_count": 19,
     "metadata": {},
     "output_type": "execute_result"
    }
   ],
   "source": [
    "energies_2_4, times_2_4, MPS_2_4 = DMRG(\n",
    "    Hamiltonian = Hamiltonian_2,\n",
    "    NKeep = NKeep,\n",
    "    NSweep = NSweep,\n",
    "    Krylov_bases = Krylov_bases,\n",
    "    Lanczos_cutoff = Lanczos_cutoff,\n",
    "    iterative_diag = False,\n",
    "    two_site = two_site,\n",
    "    orthogonal_to_list_of_MPS = [MPS_2, MPS_2_1, MPS_2_2, MPS_2_3],\n",
    "    verbose = verbose,\n",
    ")\n",
    "\n",
    "eigvals[4]"
   ]
  },
  {
   "cell_type": "code",
   "execution_count": 20,
   "id": "1168a177",
   "metadata": {},
   "outputs": [
    {
     "data": {
      "text/plain": [
       "(5.000131734006768+3.191891195797325e-16j)"
      ]
     },
     "execution_count": 20,
     "metadata": {},
     "output_type": "execute_result"
    }
   ],
   "source": [
    "get_filling(MPS_2_4).sum()"
   ]
  },
  {
   "cell_type": "code",
   "execution_count": 21,
   "id": "b5f6180e",
   "metadata": {},
   "outputs": [
    {
     "name": "stdout",
     "output_type": "stream",
     "text": [
      "L=5 | NKeep=20 | NSweep=10 | iterative=False | two_site=True | Krylov_bases=5 | Lanczos_cutoff=0.01\n",
      "iter=0 | energy=2.5857951 | time=0.0s\n",
      "iter=1 | energy=-2.7701003 | time=0.181s\n",
      "iter=2 | energy=-2.7744319 | time=0.411s\n",
      "iter=3 | energy=-2.7744319 | time=0.684s\n",
      "iter=4 | energy=-2.7744319 | time=0.75s\n",
      "iter=5 | energy=-2.7744319 | time=0.831s\n",
      "iter=6 | energy=-2.7744319 | time=0.979s\n",
      "iter=7 | energy=-2.7744319 | time=1.06s\n",
      "iter=8 | energy=-2.7744319 | time=1.11s\n",
      "iter=9 | energy=-2.7744319 | time=1.19s\n",
      "iter=10 | energy=-2.7744319 | time=1.27s\n"
     ]
    },
    {
     "data": {
      "text/plain": [
       "-2.7744691810620763"
      ]
     },
     "execution_count": 21,
     "metadata": {},
     "output_type": "execute_result"
    }
   ],
   "source": [
    "energies_2_5, times_2_5, MPS_2_5 = DMRG(\n",
    "    Hamiltonian = Hamiltonian_2,\n",
    "    NKeep = NKeep,\n",
    "    NSweep = NSweep,\n",
    "    Krylov_bases = Krylov_bases,\n",
    "    Lanczos_cutoff = Lanczos_cutoff,\n",
    "    iterative_diag = False,\n",
    "    two_site = two_site,\n",
    "    orthogonal_to_list_of_MPS = [MPS_2, MPS_2_1, MPS_2_2, MPS_2_3, MPS_2_4],\n",
    "    verbose = verbose,\n",
    ")\n",
    "\n",
    "eigvals[5]"
   ]
  },
  {
   "cell_type": "code",
   "execution_count": 22,
   "id": "d606885f",
   "metadata": {},
   "outputs": [
    {
     "data": {
      "text/plain": [
       "(5.000001224117501-1.6653345369377348e-16j)"
      ]
     },
     "execution_count": 22,
     "metadata": {},
     "output_type": "execute_result"
    }
   ],
   "source": [
    "get_filling(MPS_2_5).sum()"
   ]
  },
  {
   "cell_type": "code",
   "execution_count": 23,
   "id": "3c98a8e7",
   "metadata": {},
   "outputs": [
    {
     "name": "stdout",
     "output_type": "stream",
     "text": [
      "L=5 | NKeep=20 | NSweep=10 | iterative=False | two_site=True | Krylov_bases=5 | Lanczos_cutoff=0.01\n",
      "iter=0 | energy=2.6231625 | time=0.0s\n",
      "iter=1 | energy=-2.5237353 | time=0.165s\n",
      "iter=2 | energy=-2.5243407 | time=0.292s\n",
      "iter=3 | energy=-2.5243407 | time=0.366s\n",
      "iter=4 | energy=-2.5243407 | time=0.433s\n",
      "iter=5 | energy=-2.5243407 | time=0.499s\n",
      "iter=6 | energy=-2.5243407 | time=0.607s\n",
      "iter=7 | energy=-2.5243407 | time=0.678s\n",
      "iter=8 | energy=-2.5243407 | time=0.806s\n",
      "iter=9 | energy=-2.5243407 | time=0.89s\n",
      "iter=10 | energy=-2.5243407 | time=0.961s\n"
     ]
    },
    {
     "data": {
      "text/plain": [
       "-2.5243523715613247"
      ]
     },
     "execution_count": 23,
     "metadata": {},
     "output_type": "execute_result"
    }
   ],
   "source": [
    "energies_2_6, times_2_6, MPS_2_6 = DMRG(\n",
    "    Hamiltonian = Hamiltonian_2,\n",
    "    NKeep = NKeep,\n",
    "    NSweep = NSweep,\n",
    "    Krylov_bases = Krylov_bases,\n",
    "    Lanczos_cutoff = Lanczos_cutoff,\n",
    "    iterative_diag = False,\n",
    "    two_site = two_site,\n",
    "    orthogonal_to_list_of_MPS = [MPS_2, MPS_2_1, MPS_2_2, MPS_2_3, MPS_2_4, MPS_2_5],\n",
    "    verbose = verbose,\n",
    ")\n",
    "\n",
    "eigvals[6]"
   ]
  },
  {
   "cell_type": "code",
   "execution_count": 24,
   "id": "0bfc4835",
   "metadata": {},
   "outputs": [
    {
     "data": {
      "text/plain": [
       "(4.4248681404896315-2.42861286636753e-17j)"
      ]
     },
     "execution_count": 24,
     "metadata": {},
     "output_type": "execute_result"
    }
   ],
   "source": [
    "get_filling(MPS_2_6).sum()"
   ]
  },
  {
   "cell_type": "code",
   "execution_count": 25,
   "id": "5ab88f19",
   "metadata": {},
   "outputs": [
    {
     "name": "stdout",
     "output_type": "stream",
     "text": [
      "L=5 | NKeep=20 | NSweep=10 | iterative=False | two_site=True | Krylov_bases=5 | Lanczos_cutoff=0.01\n",
      "iter=0 | energy=2.5148186 | time=0.0s\n",
      "iter=1 | energy=-2.5241203 | time=0.183s\n",
      "iter=2 | energy=-2.5243558 | time=0.297s\n",
      "iter=3 | energy=-2.5243558 | time=0.451s\n",
      "iter=4 | energy=-2.5243558 | time=0.528s\n",
      "iter=5 | energy=-2.5243558 | time=0.638s\n",
      "iter=6 | energy=-2.5243558 | time=0.715s\n",
      "iter=7 | energy=-2.5243558 | time=0.844s\n",
      "iter=8 | energy=-2.5243558 | time=0.933s\n",
      "iter=9 | energy=-2.5243558 | time=1.01s\n",
      "iter=10 | energy=-2.5243558 | time=1.15s\n"
     ]
    },
    {
     "data": {
      "text/plain": [
       "-2.524352371561324"
      ]
     },
     "execution_count": 25,
     "metadata": {},
     "output_type": "execute_result"
    }
   ],
   "source": [
    "energies_2_7, times_2_7, MPS_2_7 = DMRG(\n",
    "    Hamiltonian = Hamiltonian_2,\n",
    "    NKeep = NKeep,\n",
    "    NSweep = NSweep,\n",
    "    Krylov_bases = Krylov_bases,\n",
    "    Lanczos_cutoff = Lanczos_cutoff,\n",
    "    iterative_diag = False,\n",
    "    two_site = two_site,\n",
    "    orthogonal_to_list_of_MPS = [MPS_2, MPS_2_1, MPS_2_2, MPS_2_3, MPS_2_4, MPS_2_5, MPS_2_6],\n",
    "    verbose = verbose,\n",
    ")\n",
    "\n",
    "eigvals[7]"
   ]
  },
  {
   "cell_type": "code",
   "execution_count": 26,
   "id": "5797bcd0",
   "metadata": {},
   "outputs": [
    {
     "data": {
      "text/plain": [
       "(5.623057780116563+1.6653345369377348e-16j)"
      ]
     },
     "execution_count": 26,
     "metadata": {},
     "output_type": "execute_result"
    }
   ],
   "source": [
    "get_filling(MPS_2_7).sum()"
   ]
  },
  {
   "cell_type": "code",
   "execution_count": 27,
   "id": "d5f07a4f",
   "metadata": {},
   "outputs": [
    {
     "name": "stdout",
     "output_type": "stream",
     "text": [
      "L=5 | NKeep=20 | NSweep=40 | iterative=False | two_site=True | Krylov_bases=5 | Lanczos_cutoff=0.01\n",
      "iter=0 | energy=2.4117396 | time=0.0s\n",
      "iter=1 | energy=-2.5234402 | time=0.307s\n",
      "iter=2 | energy=-2.5243429 | time=0.472s\n",
      "iter=3 | energy=-2.5243429 | time=0.636s\n",
      "iter=4 | energy=-2.5243429 | time=0.845s\n",
      "iter=5 | energy=-2.5243429 | time=1.02s\n",
      "iter=6 | energy=-2.5243429 | time=1.16s\n",
      "iter=7 | energy=-2.5243429 | time=1.26s\n",
      "iter=8 | energy=-2.5243429 | time=1.37s\n",
      "iter=9 | energy=-2.5243429 | time=1.49s\n",
      "iter=10 | energy=-2.5243429 | time=1.6s\n",
      "iter=11 | energy=-2.5243429 | time=1.69s\n",
      "iter=12 | energy=-2.5243429 | time=1.77s\n",
      "iter=13 | energy=-2.5243429 | time=1.9s\n",
      "iter=14 | energy=-2.5243429 | time=1.98s\n",
      "iter=15 | energy=-2.5243429 | time=2.07s\n",
      "iter=16 | energy=-2.5243429 | time=2.18s\n",
      "iter=17 | energy=-2.5243429 | time=2.28s\n",
      "iter=18 | energy=-2.5243429 | time=2.36s\n",
      "iter=19 | energy=-2.5243429 | time=2.46s\n",
      "iter=20 | energy=-2.5243429 | time=2.54s\n",
      "iter=21 | energy=-2.5243429 | time=2.62s\n",
      "iter=22 | energy=-2.5243429 | time=2.73s\n",
      "iter=23 | energy=-2.5243429 | time=2.84s\n",
      "iter=24 | energy=-2.5243429 | time=2.95s\n",
      "iter=25 | energy=-2.5243429 | time=3.15s\n",
      "iter=26 | energy=-2.5243429 | time=3.29s\n",
      "iter=27 | energy=-2.5243429 | time=3.4s\n",
      "iter=28 | energy=-2.5243429 | time=3.49s\n",
      "iter=29 | energy=-2.5243429 | time=3.62s\n",
      "iter=30 | energy=-2.5243429 | time=3.71s\n",
      "iter=31 | energy=-2.5243429 | time=3.78s\n",
      "iter=32 | energy=-2.5243429 | time=3.89s\n",
      "iter=33 | energy=-2.5243429 | time=4.07s\n",
      "iter=34 | energy=-2.5243429 | time=4.23s\n",
      "iter=35 | energy=-2.5243429 | time=4.42s\n",
      "iter=36 | energy=-2.5243429 | time=4.58s\n",
      "iter=37 | energy=-2.5243429 | time=4.74s\n",
      "iter=38 | energy=-2.5243429 | time=4.97s\n",
      "iter=39 | energy=-2.5243429 | time=5.11s\n",
      "iter=40 | energy=-2.5243429 | time=5.27s\n"
     ]
    },
    {
     "data": {
      "text/plain": [
       "-2.5243523715613216"
      ]
     },
     "execution_count": 27,
     "metadata": {},
     "output_type": "execute_result"
    }
   ],
   "source": [
    "energies_2_8, times_2_8, MPS_2_8 = DMRG(\n",
    "    Hamiltonian = Hamiltonian_2,\n",
    "    NKeep = NKeep,\n",
    "    NSweep = 40,\n",
    "    Krylov_bases = Krylov_bases,\n",
    "    Lanczos_cutoff = Lanczos_cutoff,\n",
    "    iterative_diag = False,\n",
    "    two_site = two_site,\n",
    "    orthogonal_to_list_of_MPS = [MPS_2, MPS_2_1, MPS_2_2, MPS_2_3, MPS_2_4, MPS_2_5, MPS_2_6, MPS_2_7],\n",
    "    verbose = verbose,\n",
    ")\n",
    "\n",
    "eigvals[8]"
   ]
  },
  {
   "cell_type": "code",
   "execution_count": 28,
   "id": "552310ea",
   "metadata": {},
   "outputs": [
    {
     "data": {
      "text/plain": [
       "(4.945504386411319-3.469446951953614e-17j)"
      ]
     },
     "execution_count": 28,
     "metadata": {},
     "output_type": "execute_result"
    }
   ],
   "source": [
    "get_filling(MPS_2_8).sum()"
   ]
  },
  {
   "cell_type": "code",
   "execution_count": null,
   "id": "6b67f270",
   "metadata": {},
   "outputs": [],
   "source": []
  }
 ],
 "metadata": {
  "kernelspec": {
   "display_name": "latest",
   "language": "python",
   "name": "python3"
  },
  "language_info": {
   "codemirror_mode": {
    "name": "ipython",
    "version": 3
   },
   "file_extension": ".py",
   "mimetype": "text/x-python",
   "name": "python",
   "nbconvert_exporter": "python",
   "pygments_lexer": "ipython3",
   "version": "3.11.4"
  }
 },
 "nbformat": 4,
 "nbformat_minor": 5
}
