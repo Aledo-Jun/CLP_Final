{
 "cells": [
  {
   "cell_type": "code",
   "execution_count": null,
   "id": "f7c18021",
   "metadata": {},
   "outputs": [],
   "source": [
    "import numpy as np\n",
    "import sys\n",
    "import itertools as itertools\n",
    "sys.path.append(\"..\")\n",
    "\n",
    "import matplotlib.pyplot as plt\n",
    "from python.Spinless import Spinless_fermions, get_exact_gs_energy_spinless_fermions\n",
    "from python.DMRG import DMRG\n",
    "from python.Zippers import MPO_to_Hamiltonian"
   ]
  },
  {
   "cell_type": "markdown",
   "id": "949167a7",
   "metadata": {},
   "source": [
    "# (a) Uniform case"
   ]
  },
  {
   "cell_type": "code",
   "execution_count": 7,
   "id": "fa9d7425",
   "metadata": {},
   "outputs": [],
   "source": [
    "n_sites = 40\n",
    "\n",
    "hopping_amps_uniform = np.array([1.0 for _ in range(n_sites)])\n",
    "\n",
    "Hamiltonian_uniform = Spinless_fermions(hopping_amps_uniform)\n",
    "exact_gs_uniform = get_exact_gs_energy_spinless_fermions(hopping_amps_uniform)"
   ]
  },
  {
   "cell_type": "code",
   "execution_count": 8,
   "id": "aa6290db",
   "metadata": {},
   "outputs": [
    {
     "data": {
      "text/plain": [
       "-25.10779711162377"
      ]
     },
     "execution_count": 8,
     "metadata": {},
     "output_type": "execute_result"
    }
   ],
   "source": [
    "exact_gs_uniform"
   ]
  },
  {
   "cell_type": "code",
   "execution_count": 9,
   "id": "9c045705",
   "metadata": {},
   "outputs": [],
   "source": [
    "# MPO_transposed = [ham.transpose(2, 3, 0, 1) for ham in Hamiltonian_uniform]\n",
    "# matrix = MPO_to_Hamiltonian(MPO_transposed)\n",
    "# eigvals, _ = np.linalg.eigh(matrix)\n",
    "# eigvals"
   ]
  },
  {
   "cell_type": "code",
   "execution_count": 10,
   "id": "cf98b2d2",
   "metadata": {},
   "outputs": [],
   "source": [
    "# np.linalg.norm(matrix - matrix.T)"
   ]
  },
  {
   "cell_type": "code",
   "execution_count": null,
   "id": "26606ef3",
   "metadata": {},
   "outputs": [],
   "source": [
    "NKeep = 50\n",
    "NSweep = 10\n",
    "Krylov_bases = 5 #* 5 is usually enough\n",
    "Lanczos_cutoff = 1e-4 #* Lanczos cutoff\n",
    "# iterative_diag = True\n",
    "# two_site = True\n",
    "verbose = True"
   ]
  },
  {
   "cell_type": "code",
   "execution_count": null,
   "id": "b5fd413a",
   "metadata": {},
   "outputs": [
    {
     "name": "stdout",
     "output_type": "stream",
     "text": [
      "L=40 | NKeep=50 | NSweep=40 | iterative=False | two_site=False | Krylov_bases=5 | Lanczos_cutoff=0.0001\n",
      "iter=0 | energy=-0.060495187 | time=0.0s\n",
      "iter=1 | energy=-25.104692 | time=1.46s\n",
      "iter=2 | energy=-25.107796 | time=3.23s\n",
      "iter=3 | energy=-25.107797 | time=4.04s\n",
      "iter=4 | energy=-25.107797 | time=4.39s\n",
      "iter=5 | energy=-25.107797 | time=4.98s\n",
      "iter=6 | energy=-25.107797 | time=5.55s\n",
      "iter=7 | energy=-25.107797 | time=6.01s\n",
      "iter=8 | energy=-25.107797 | time=7.03s\n",
      "iter=9 | energy=-25.107797 | time=7.7s\n",
      "iter=10 | energy=-25.107797 | time=8.5s\n",
      "iter=11 | energy=-25.107797 | time=8.97s\n",
      "iter=12 | energy=-25.107797 | time=9.34s\n",
      "iter=13 | energy=-25.107797 | time=9.66s\n",
      "iter=14 | energy=-25.107797 | time=10.0s\n",
      "iter=15 | energy=-25.107797 | time=10.5s\n",
      "iter=16 | energy=-25.107797 | time=11.7s\n",
      "iter=17 | energy=-25.107797 | time=12.0s\n",
      "iter=18 | energy=-25.107797 | time=12.4s\n",
      "iter=19 | energy=-25.107797 | time=12.7s\n",
      "iter=20 | energy=-25.107797 | time=13.1s\n",
      "iter=21 | energy=-25.107797 | time=13.4s\n",
      "iter=22 | energy=-25.107797 | time=13.7s\n",
      "iter=23 | energy=-25.107797 | time=14.1s\n",
      "iter=24 | energy=-25.107797 | time=14.4s\n",
      "iter=25 | energy=-25.107797 | time=15.0s\n",
      "iter=26 | energy=-25.107797 | time=15.6s\n",
      "iter=27 | energy=-25.107797 | time=15.9s\n",
      "iter=28 | energy=-25.107797 | time=16.2s\n",
      "iter=29 | energy=-25.107797 | time=16.5s\n",
      "iter=30 | energy=-25.107797 | time=16.8s\n",
      "iter=31 | energy=-25.107797 | time=17.1s\n",
      "iter=32 | energy=-25.107797 | time=17.4s\n",
      "iter=33 | energy=-25.107797 | time=17.7s\n",
      "iter=34 | energy=-25.107797 | time=18.1s\n",
      "iter=35 | energy=-25.107797 | time=18.6s\n",
      "iter=36 | energy=-25.107797 | time=19.4s\n",
      "iter=37 | energy=-25.107797 | time=19.7s\n",
      "iter=38 | energy=-25.107797 | time=20.0s\n",
      "iter=39 | energy=-25.107797 | time=20.4s\n",
      "iter=40 | energy=-25.107797 | time=20.7s\n",
      "L=40 | NKeep=50 | NSweep=40 | iterative=False | two_site=True | Krylov_bases=5 | Lanczos_cutoff=0.0001\n",
      "iter=0 | energy=-0.030069431 | time=0.0s\n"
     ]
    },
    {
     "name": "stderr",
     "output_type": "stream",
     "text": [
      "/home/sungbinlee/miniconda3/envs/latest/lib/python3.11/site-packages/matplotlib/cbook.py:1699: ComplexWarning: Casting complex values to real discards the imaginary part\n",
      "  return math.isfinite(val)\n",
      "/home/sungbinlee/miniconda3/envs/latest/lib/python3.11/site-packages/matplotlib/cbook.py:1345: ComplexWarning: Casting complex values to real discards the imaginary part\n",
      "  return np.asarray(x, float)\n"
     ]
    },
    {
     "name": "stdout",
     "output_type": "stream",
     "text": [
      "iter=1 | energy=-25.106131 | time=1.46s\n",
      "iter=2 | energy=-25.107796 | time=3.63s\n",
      "iter=3 | energy=-25.107797 | time=4.81s\n",
      "iter=4 | energy=-25.107797 | time=5.35s\n",
      "iter=5 | energy=-25.107797 | time=6.73s\n",
      "iter=6 | energy=-25.107797 | time=7.22s\n",
      "iter=7 | energy=-25.107797 | time=8.27s\n",
      "iter=8 | energy=-25.107797 | time=9.0s\n",
      "iter=9 | energy=-25.107797 | time=9.66s\n",
      "iter=10 | energy=-25.107797 | time=10.9s\n",
      "iter=11 | energy=-25.107797 | time=11.3s\n",
      "iter=12 | energy=-25.107797 | time=11.8s\n",
      "iter=13 | energy=-25.107797 | time=12.3s\n",
      "iter=14 | energy=-25.107797 | time=12.8s\n",
      "iter=15 | energy=-25.107797 | time=13.4s\n",
      "iter=16 | energy=-25.107797 | time=14.5s\n",
      "iter=17 | energy=-25.107797 | time=15.1s\n",
      "iter=18 | energy=-25.107797 | time=15.6s\n",
      "iter=19 | energy=-25.107797 | time=16.1s\n",
      "iter=20 | energy=-25.107797 | time=16.5s\n",
      "iter=21 | energy=-25.107797 | time=17.1s\n",
      "iter=22 | energy=-25.107797 | time=18.0s\n",
      "iter=23 | energy=-25.107797 | time=18.7s\n",
      "iter=24 | energy=-25.107797 | time=19.4s\n",
      "iter=25 | energy=-25.107797 | time=20.1s\n",
      "iter=26 | energy=-25.107797 | time=21.1s\n",
      "iter=27 | energy=-25.107797 | time=22.7s\n",
      "iter=28 | energy=-25.107797 | time=23.5s\n",
      "iter=29 | energy=-25.107797 | time=25.0s\n",
      "iter=30 | energy=-25.107797 | time=26.2s\n",
      "iter=31 | energy=-25.107797 | time=27.6s\n",
      "iter=32 | energy=-25.107797 | time=28.3s\n",
      "iter=33 | energy=-25.107797 | time=29.0s\n",
      "iter=34 | energy=-25.107797 | time=29.9s\n",
      "iter=35 | energy=-25.107797 | time=32.7s\n",
      "iter=36 | energy=-25.107797 | time=33.6s\n",
      "iter=37 | energy=-25.107797 | time=34.1s\n",
      "iter=38 | energy=-25.107797 | time=35.4s\n",
      "iter=39 | energy=-25.107797 | time=36.0s\n",
      "iter=40 | energy=-25.107797 | time=36.5s\n",
      "L=40 | NKeep=50 | NSweep=40 | iterative=True | two_site=False | Krylov_bases=5 | Lanczos_cutoff=0.0001\n",
      "iter=0 | energy=-25.097549 | time=0.0s\n",
      "iter=1 | energy=-25.107797 | time=1.2s\n",
      "iter=2 | energy=-25.107797 | time=1.67s\n",
      "iter=3 | energy=-25.107797 | time=2.22s\n",
      "iter=4 | energy=-25.107797 | time=2.75s\n",
      "iter=5 | energy=-25.107797 | time=3.22s\n",
      "iter=6 | energy=-25.107797 | time=3.61s\n",
      "iter=7 | energy=-25.107797 | time=3.93s\n",
      "iter=8 | energy=-25.107797 | time=4.22s\n",
      "iter=9 | energy=-25.107797 | time=4.5s\n",
      "iter=10 | energy=-25.107797 | time=5.0s\n",
      "iter=11 | energy=-25.107797 | time=5.67s\n",
      "iter=12 | energy=-25.107797 | time=6.25s\n",
      "iter=13 | energy=-25.107797 | time=6.61s\n",
      "iter=14 | energy=-25.107797 | time=7.21s\n",
      "iter=15 | energy=-25.107797 | time=7.51s\n",
      "iter=16 | energy=-25.107797 | time=7.83s\n",
      "iter=17 | energy=-25.107797 | time=8.11s\n",
      "iter=18 | energy=-25.107797 | time=8.38s\n",
      "iter=19 | energy=-25.107797 | time=8.8s\n",
      "iter=20 | energy=-25.107797 | time=9.09s\n",
      "iter=21 | energy=-25.107797 | time=9.47s\n",
      "iter=22 | energy=-25.107797 | time=10.2s\n"
     ]
    }
   ],
   "source": [
    "fig, ax = plt.subplots(1, 1)\n",
    "\n",
    "label1s = [\"random\", \"iter_diag\"]\n",
    "label2s = [\"single_site\", \"two_site\"]\n",
    "\n",
    "iterative_diags = [False, True]\n",
    "two_sites = [False, True]\n",
    "\n",
    "for it1, iterative_diag in enumerate(iterative_diags):\n",
    "    for it2, two_site in enumerate(two_sites):\n",
    "        energies_uniform, times_uniform, MPS_uniform = DMRG(\n",
    "            Hamiltonian = Hamiltonian_uniform,\n",
    "            NKeep = NKeep,\n",
    "            NSweep = NSweep,\n",
    "            Krylov_bases = Krylov_bases,\n",
    "            Lanczos_cutoff = Lanczos_cutoff,\n",
    "            iterative_diag = iterative_diag,\n",
    "            two_site = two_site,\n",
    "            verbose = verbose,\n",
    "        )\n",
    "        \n",
    "        ax.plot(energies_uniform - exact_gs_uniform, label = f\"{label1s[it1]} {label2s[it2]}\")\n",
    "\n",
    "ax.set_xlim(0, n_sites*2*NSweep)\n",
    "ax.set_yscale(\"log\")\n",
    "ax.legend()\n",
    "\n",
    "ax.set_xlabel(r\"Iterations\")\n",
    "ax.set_ylabel(r\"Absolute error\")"
   ]
  },
  {
   "cell_type": "markdown",
   "id": "2ac20770",
   "metadata": {},
   "source": [
    "The random initialization takes much longer to saturate. Moreover, the absolute error is higher than that of the iterative diagonalization.\n",
    "\n",
    "Krylov bases > 5 or\n",
    "\n",
    "Lanczos error < 1e-8\n",
    "\n",
    "makes the code numerically unstable.\n"
   ]
  },
  {
   "cell_type": "markdown",
   "id": "0844f333",
   "metadata": {},
   "source": [
    "# (b) Exponential decay"
   ]
  },
  {
   "cell_type": "code",
   "execution_count": 17,
   "id": "ae7f4c3b",
   "metadata": {},
   "outputs": [],
   "source": [
    "n_sites = 40\n",
    "\n",
    "hopping_amps_exp = np.array([1.2 * np.exp(-1 * it) for it in range(n_sites)])\n",
    "\n",
    "Hamiltonian_exp = Spinless_fermions(hopping_amps_exp)\n",
    "exact_gs_exp = get_exact_gs_energy_spinless_fermions(hopping_amps_exp)"
   ]
  },
  {
   "cell_type": "code",
   "execution_count": 18,
   "id": "28314e15",
   "metadata": {},
   "outputs": [
    {
     "data": {
      "text/plain": [
       "-1.4690657299825116"
      ]
     },
     "execution_count": 18,
     "metadata": {},
     "output_type": "execute_result"
    }
   ],
   "source": [
    "exact_gs_exp"
   ]
  },
  {
   "cell_type": "code",
   "execution_count": 19,
   "id": "6cd5680e",
   "metadata": {},
   "outputs": [],
   "source": [
    "NKeep = 50\n",
    "NSweep = 10\n",
    "Krylov_bases = 5 #* 5 is usually enough\n",
    "Lanczos_cutoff = 1e-4 #* Lanczos cutoff\n",
    "# iterative_diag = True\n",
    "# two_site = False\n",
    "verbose = True"
   ]
  },
  {
   "cell_type": "code",
   "execution_count": null,
   "id": "2349a272",
   "metadata": {},
   "outputs": [
    {
     "name": "stdout",
     "output_type": "stream",
     "text": [
      "L=40 | NKeep=50 | NSweep=10 | iterative=False | two_site=False | Krylov_bases=5 | Lanczos_cutoff=0.0001\n"
     ]
    },
    {
     "name": "stdout",
     "output_type": "stream",
     "text": [
      "iter=0 | energy=0.00011824573 | time=0.0s\n",
      "iter=1 | energy=-1.4682477 | time=5.56s\n",
      "iter=2 | energy=-1.4690356 | time=10.4s\n",
      "iter=3 | energy=-1.4690488 | time=13.2s\n"
     ]
    }
   ],
   "source": [
    "fig, ax = plt.subplots(1, 1)\n",
    "\n",
    "label1s = [\"random\", \"iter_diag\"]\n",
    "label2s = [\"single_site\", \"two_site\"]\n",
    "\n",
    "iterative_diags = [False, True]\n",
    "two_sites = [False, True]\n",
    "\n",
    "for it1, iterative_diag in enumerate(iterative_diags):\n",
    "    for it2, two_site in enumerate(two_sites):\n",
    "        energies_exp, times_exp, MPS_exp = DMRG(\n",
    "            Hamiltonian = Hamiltonian_exp,\n",
    "            NKeep = NKeep,\n",
    "            NSweep = NSweep,\n",
    "            Krylov_bases = Krylov_bases,\n",
    "            Lanczos_cutoff = Lanczos_cutoff,\n",
    "            iterative_diag = iterative_diag,\n",
    "            two_site = two_site,\n",
    "            verbose = verbose,\n",
    "        )\n",
    "        \n",
    "        ax.plot(energies_exp - exact_gs_exp, label = f\"{label1s[it1]} {label2s[it2]}\")\n",
    "\n",
    "ax.set_xlim(0, n_sites*2*NSweep)\n",
    "ax.set_yscale(\"log\")\n",
    "ax.legend()\n",
    "\n",
    "ax.set_xlabel(r\"Iterations\")\n",
    "ax.set_ylabel(r\"Absolute error\")"
   ]
  },
  {
   "cell_type": "markdown",
   "id": "912c8e39",
   "metadata": {},
   "source": [
    "The random initialization takes much longer to saturate. Moreover, the absolute error is higher than that of the iterative diagonalization.\n",
    "\n",
    "Krylov bases > 5 or\n",
    "\n",
    "Lanczos error < 1e-8\n",
    "\n",
    "makes the code numerically unstable.\n"
   ]
  },
  {
   "cell_type": "markdown",
   "id": "926f1ae4",
   "metadata": {},
   "source": [
    "# (C) random case"
   ]
  },
  {
   "cell_type": "code",
   "execution_count": null,
   "id": "40d9c045",
   "metadata": {},
   "outputs": [],
   "source": [
    "n_sites = 40\n",
    "\n",
    "hopping_amps_rand = np.array([2.0 * np.random.rand() - 1.0 for _ in range(n_sites)])\n",
    "\n",
    "Hamiltonian_rand = Spinless_fermions(hopping_amps_rand)\n",
    "exact_gs_rand = get_exact_gs_energy_spinless_fermions(hopping_amps_rand)"
   ]
  },
  {
   "cell_type": "code",
   "execution_count": null,
   "id": "933bf05c",
   "metadata": {},
   "outputs": [
    {
     "data": {
      "text/plain": [
       "-12.091675696655543"
      ]
     },
     "execution_count": 13,
     "metadata": {},
     "output_type": "execute_result"
    }
   ],
   "source": [
    "exact_gs_rand"
   ]
  },
  {
   "cell_type": "code",
   "execution_count": null,
   "id": "c72a8d49",
   "metadata": {},
   "outputs": [],
   "source": [
    "NKeep = 50\n",
    "NSweep = 10\n",
    "Krylov_bases = 5 #* 5 is usually enough\n",
    "Lanczos_cutoff = 1e-4\n",
    "# iterative_diag = True\n",
    "# two_site = False\n",
    "verbose = True"
   ]
  },
  {
   "cell_type": "code",
   "execution_count": null,
   "id": "2dcba802",
   "metadata": {},
   "outputs": [
    {
     "name": "stdout",
     "output_type": "stream",
     "text": [
      "L=40 | NKeep=50 | NSweep=10 | iterative=False | two_site=False | Krylov_bases=5 | Lanczos_cutoff=0.0001\n",
      "iter=0 | energy=-0.015647472 | time=0.0s\n",
      "iter=1 | energy=-12.087195 | time=1.59s\n",
      "iter=2 | energy=-12.09138 | time=3.32s\n",
      "iter=3 | energy=-12.091424 | time=5.07s\n",
      "iter=4 | energy=-12.091437 | time=6.72s\n",
      "iter=5 | energy=-12.091448 | time=8.91s\n",
      "iter=6 | energy=-12.09146 | time=11.1s\n",
      "iter=7 | energy=-12.091472 | time=14.2s\n",
      "iter=8 | energy=-12.091485 | time=16.3s\n",
      "iter=9 | energy=-12.091499 | time=18.2s\n",
      "iter=10 | energy=-12.091515 | time=19.7s\n",
      "L=40 | NKeep=50 | NSweep=10 | iterative=False | two_site=True | Krylov_bases=5 | Lanczos_cutoff=0.0001\n",
      "iter=0 | energy=-0.059999512 | time=0.0s\n",
      "iter=1 | energy=-12.090478 | time=4.93s\n",
      "iter=2 | energy=-12.091225 | time=8.27s\n",
      "iter=3 | energy=-12.091251 | time=11.4s\n",
      "iter=4 | energy=-12.091274 | time=15.4s\n",
      "iter=5 | energy=-12.091298 | time=23.6s\n",
      "iter=6 | energy=-12.091324 | time=27.9s\n",
      "iter=7 | energy=-12.091354 | time=30.8s\n",
      "iter=8 | energy=-12.091382 | time=33.3s\n",
      "iter=9 | energy=-12.091411 | time=36.2s\n",
      "iter=10 | energy=-12.091439 | time=38.5s\n",
      "L=40 | NKeep=50 | NSweep=10 | iterative=True | two_site=False | Krylov_bases=5 | Lanczos_cutoff=0.0001\n",
      "iter=0 | energy=-12.05456 | time=0.0s\n",
      "iter=1 | energy=-12.091674 | time=1.53s\n",
      "iter=2 | energy=-12.091675 | time=2.17s\n",
      "iter=3 | energy=-12.091675 | time=2.63s\n",
      "iter=4 | energy=-12.091675 | time=3.12s\n",
      "iter=5 | energy=-12.091675 | time=3.77s\n",
      "iter=6 | energy=-12.091675 | time=4.57s\n",
      "iter=7 | energy=-12.091675 | time=4.96s\n",
      "iter=8 | energy=-12.091675 | time=5.39s\n",
      "iter=9 | energy=-12.091675 | time=5.79s\n",
      "iter=10 | energy=-12.091675 | time=6.22s\n",
      "L=40 | NKeep=50 | NSweep=10 | iterative=True | two_site=True | Krylov_bases=5 | Lanczos_cutoff=0.0001\n",
      "iter=0 | energy=-12.05456 | time=0.0s\n",
      "iter=1 | energy=-12.091674 | time=2.45s\n",
      "iter=2 | energy=-12.091675 | time=3.39s\n",
      "iter=3 | energy=-12.091675 | time=4.16s\n",
      "iter=4 | energy=-12.091675 | time=5.14s\n",
      "iter=5 | energy=-12.091675 | time=6.71s\n",
      "iter=6 | energy=-12.091675 | time=8.09s\n",
      "iter=7 | energy=-12.091675 | time=10.9s\n",
      "iter=8 | energy=-12.091675 | time=12.2s\n",
      "iter=9 | energy=-12.091675 | time=14.5s\n",
      "iter=10 | energy=-12.091675 | time=15.5s\n"
     ]
    },
    {
     "data": {
      "text/plain": [
       "Text(0, 0.5, 'Absolute error')"
      ]
     },
     "execution_count": 16,
     "metadata": {},
     "output_type": "execute_result"
    },
    {
     "data": {
      "image/png": "[encoded data removed]",
      "text/plain": [
       "<Figure size 640x480 with 1 Axes>"
      ]
     },
     "metadata": {},
     "output_type": "display_data"
    }
   ],
   "source": [
    "fig, ax = plt.subplots(1, 1)\n",
    "\n",
    "label1s = [\"random\", \"iter_diag\"]\n",
    "label2s = [\"single_site\", \"two_site\"]\n",
    "\n",
    "iterative_diags = [False, True]\n",
    "two_sites = [False, True]\n",
    "\n",
    "for it1, iterative_diag in enumerate(iterative_diags):\n",
    "    for it2, two_site in enumerate(two_sites):\n",
    "        energies_rand, times_rand, MPS_rand = DMRG(\n",
    "            Hamiltonian = Hamiltonian_rand,\n",
    "            NKeep = NKeep,\n",
    "            NSweep = NSweep,\n",
    "            Krylov_bases = Krylov_bases,\n",
    "            Lanczos_cutoff = Lanczos_cutoff,\n",
    "            iterative_diag = iterative_diag,\n",
    "            two_site = two_site,\n",
    "            verbose = verbose,\n",
    "        )\n",
    "        \n",
    "        ax.plot(energies_rand - exact_gs_rand, label = f\"{label1s[it1]} {label2s[it2]}\")\n",
    "\n",
    "ax.set_xlim(0, n_sites*2*NSweep)\n",
    "ax.set_yscale(\"log\")\n",
    "ax.legend()\n",
    "\n",
    "ax.set_xlabel(r\"Iterations\")\n",
    "ax.set_ylabel(r\"Absolute error\")"
   ]
  },
  {
   "cell_type": "markdown",
   "id": "e0c2fa42",
   "metadata": {},
   "source": [
    "The random initialization takes much longer to saturate. Moreover, the absolute error is higher than that of the iterative diagonalization.\n",
    "\n",
    "Krylov bases > 5 or\n",
    "\n",
    "Lanczos error < 1e-4\n",
    "\n",
    "makes the code numerically unstable."
   ]
  },
  {
   "cell_type": "code",
   "execution_count": null,
   "id": "891b06b2",
   "metadata": {},
   "outputs": [],
   "source": []
  }
 ],
 "metadata": {
  "kernelspec": {
   "display_name": "latest",
   "language": "python",
   "name": "python3"
  },
  "language_info": {
   "codemirror_mode": {
    "name": "ipython",
    "version": 3
   },
   "file_extension": ".py",
   "mimetype": "text/x-python",
   "name": "python",
   "nbconvert_exporter": "python",
   "pygments_lexer": "ipython3",
   "version": "3.11.4"
  }
 },
 "nbformat": 4,
 "nbformat_minor": 5
}
